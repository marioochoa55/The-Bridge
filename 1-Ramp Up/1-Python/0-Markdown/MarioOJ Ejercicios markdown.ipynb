{
 "cells": [
  {
   "cell_type": "markdown",
   "metadata": {},
   "source": [
    "![imagen](./img/ejercicios.png)\n",
    "# Markdown\n",
    "\n",
    "## Ejercicio 1\n",
    "Vamos a aplicar los conocimientos adquiridos en este notebook, intentando reproducir la siguiente imagen en markdown. En el link va la página: https://www.kaggle.com/\n",
    "\n",
    "**TIP**: en [este enlace](https://www.markdownguide.org/basic-syntax/) tienes más ejemplos, por si te atascas con algo :)\n"
   ]
  },
  {
   "cell_type": "markdown",
   "metadata": {},
   "source": [
    "![imagen](./img/md_ejercicio1.png)"
   ]
  },
  {
   "cell_type": "markdown",
   "metadata": {},
   "source": [
    "# Aptitudes de Data Scietist\n",
    ">**Lo más importante**\n",
    ">\n",
    ">* Matemáticas\n",
    ">* Programación\n",
    ">* SQL\n",
    "> \n",
    "> \n",
    ">![Logo de Python](./img/python.PNG)\n",
    ">\n",
    ">* Python\n",
    ">  \n",
    ">Otro tema importante es el *Business Intelligence*\n",
    ">\n",
    ">Si tienes dudas, puedes escribirme a : daniel@thebridgeschool.es\n",
    ">\n",
    ">En esta página se aprende mucho de machine learning: [**pagina con ML**](https://www.kaggle.com/#pagina-con-ML)\n",
    "\n",
    "\n",
    "\n"
   ]
  },
  {
   "cell_type": "markdown",
   "metadata": {},
   "source": []
  },
  {
   "cell_type": "markdown",
   "metadata": {},
   "source": [
    "## Ejercicio 2\n",
    "Para este ejercicio vas a crear dos nuevos elementos que no hemos visto en la teoría: una tabla y una fórmula. Busca en la web la sintaxis y replica ambos elementos. Ojo con los espacios en blanco entre la tabla y la fórmula"
   ]
  },
  {
   "cell_type": "markdown",
   "metadata": {},
   "source": [
    "<div style=\"text-align:center\"><img src=\"./img/md_ejercicio2.png\" /></div>"
   ]
  },
  {
   "cell_type": "markdown",
   "metadata": {},
   "source": [
    "\n",
    "<center>\n",
    "\n",
    "| Ram Up       | Data Analysis | Machine Learning | Data & Business  |\n",
    "|--------------|---------------|------------------|------------------|\n",
    "| Phyton       | EDA           | Supervised       | Productivizacion |\n",
    "| Estadística  | R             | Non supervised   | Storytelling     |\n",
    "| SQL          | Feat Eng.     | Deep Learning    | Api              |\n",
    "\n",
    "<br>\n",
    "<br>\n",
    "\n",
    "$\\sqrt{3x-1}$ + $(1+x)^2$ </center> \n"
   ]
  },
  {
   "cell_type": "markdown",
   "metadata": {},
   "source": []
  },
  {
   "cell_type": "markdown",
   "metadata": {},
   "source": []
  }
 ],
 "metadata": {
  "kernelspec": {
   "display_name": "Python 3.7.4 64-bit",
   "language": "python",
   "name": "python3"
  },
  "language_info": {
   "codemirror_mode": {
    "name": "ipython",
    "version": 3
   },
   "file_extension": ".py",
   "mimetype": "text/x-python",
   "name": "python",
   "nbconvert_exporter": "python",
   "pygments_lexer": "ipython3",
   "version": "3.7.4"
  },
  "vscode": {
   "interpreter": {
    "hash": "b213cd0c7dc86fb09f7378e09d09f37ed50992d496516f682658e1f7568be4e1"
   }
  }
 },
 "nbformat": 4,
 "nbformat_minor": 4
}
