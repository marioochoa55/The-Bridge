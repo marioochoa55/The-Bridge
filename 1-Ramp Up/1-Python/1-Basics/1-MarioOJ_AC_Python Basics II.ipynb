{
 "cells": [
  {
   "cell_type": "markdown",
   "metadata": {},
   "source": [
    "![imagen](./img/ejercicios.png)"
   ]
  },
  {
   "cell_type": "code",
   "execution_count": 1,
   "metadata": {},
   "outputs": [
    {
     "name": "stdout",
     "output_type": "stream",
     "text": [
      "Setup complete! You're ready to start with PB I.\n"
     ]
    }
   ],
   "source": [
    "from learntools.core import binder; binder.bind(globals())\n",
    "from learntools.thebridge.python_basics_ii import *\n",
    "print(\"Setup complete! You're ready to start with PB I.\")"
   ]
  },
  {
   "cell_type": "markdown",
   "metadata": {},
   "source": [
    "# Ejercicios Python Basics II"
   ]
  },
  {
   "cell_type": "markdown",
   "metadata": {},
   "source": [
    "## Ejercicio 1\n",
    "* Crea dos variables numericas: un `int` llamado `var1` y un `float` llamado `var2`\n",
    "* Comprueba sus tipos\n",
    "* Sumalas en otra nueva que llamaremos `var3`\n",
    "* ¿De qué tipo es la nueva variable?"
   ]
  },
  {
   "cell_type": "code",
   "execution_count": 3,
   "metadata": {},
   "outputs": [
    {
     "name": "stdout",
     "output_type": "stream",
     "text": [
      "12.0\n",
      "<class 'float'>\n"
     ]
    }
   ],
   "source": [
    "var1 = 5\n",
    "var2 = 7.\n",
    "var3 = var1 + var2\n",
    "print(var3)\n",
    "print(type(var3))"
   ]
  },
  {
   "cell_type": "code",
   "execution_count": 2,
   "metadata": {},
   "outputs": [
    {
     "data": {
      "application/vnd.jupyter.widget-view+json": {
       "model_id": "76ee35a3061e4a7392606e15dd0f3f53",
       "version_major": 2,
       "version_minor": 0
      },
      "text/plain": [
       "Button(description='Check', style=ButtonStyle(button_color='#cc5533', font_style='italic', font_weight='bold')…"
      ]
     },
     "metadata": {},
     "output_type": "display_data"
    },
    {
     "data": {
      "application/vnd.jupyter.widget-view+json": {
       "model_id": "d19f7d3b06c649069b90bedbdec0ba52",
       "version_major": 2,
       "version_minor": 0
      },
      "text/plain": [
       "Output()"
      ]
     },
     "metadata": {},
     "output_type": "display_data"
    },
    {
     "data": {
      "application/vnd.jupyter.widget-view+json": {
       "model_id": "906085bc93cb490197cb60d1e99bc204",
       "version_major": 2,
       "version_minor": 0
      },
      "text/plain": [
       "Button(description='Hint 1', style=ButtonStyle(button_color='#3366cc', font_style='italic', font_weight='bold'…"
      ]
     },
     "metadata": {},
     "output_type": "display_data"
    },
    {
     "data": {
      "application/vnd.jupyter.widget-view+json": {
       "model_id": "f82b8c0b6d2a4cc5a4dc931669772000",
       "version_major": 2,
       "version_minor": 0
      },
      "text/plain": [
       "Output()"
      ]
     },
     "metadata": {},
     "output_type": "display_data"
    },
    {
     "data": {
      "application/vnd.jupyter.widget-view+json": {
       "model_id": "31529850be6b45fba005008843cd1885",
       "version_major": 2,
       "version_minor": 0
      },
      "text/plain": [
       "Button(description='Hint 2', style=ButtonStyle(button_color='#3366cc', font_style='italic', font_weight='bold'…"
      ]
     },
     "metadata": {},
     "output_type": "display_data"
    },
    {
     "data": {
      "application/vnd.jupyter.widget-view+json": {
       "model_id": "930038394213450f8082a1d61102c8bb",
       "version_major": 2,
       "version_minor": 0
      },
      "text/plain": [
       "Output()"
      ]
     },
     "metadata": {},
     "output_type": "display_data"
    },
    {
     "data": {
      "application/vnd.jupyter.widget-view+json": {
       "model_id": "9a5bfb00d546437ab1453355b5008ae5",
       "version_major": 2,
       "version_minor": 0
      },
      "text/plain": [
       "Button(description='Hint 3', style=ButtonStyle(button_color='#3366cc', font_style='italic', font_weight='bold'…"
      ]
     },
     "metadata": {},
     "output_type": "display_data"
    },
    {
     "data": {
      "application/vnd.jupyter.widget-view+json": {
       "model_id": "40bf2ec844c346f18b481677a4a0eb43",
       "version_major": 2,
       "version_minor": 0
      },
      "text/plain": [
       "Output()"
      ]
     },
     "metadata": {},
     "output_type": "display_data"
    },
    {
     "data": {
      "application/vnd.jupyter.widget-view+json": {
       "model_id": "1bef472846bf4fc4a9f10351fec33128",
       "version_major": 2,
       "version_minor": 0
      },
      "text/plain": [
       "Button(description='Hint 4', style=ButtonStyle(button_color='#3366cc', font_style='italic', font_weight='bold'…"
      ]
     },
     "metadata": {},
     "output_type": "display_data"
    },
    {
     "data": {
      "application/vnd.jupyter.widget-view+json": {
       "model_id": "f8223054777046899aa8c98407027650",
       "version_major": 2,
       "version_minor": 0
      },
      "text/plain": [
       "Output()"
      ]
     },
     "metadata": {},
     "output_type": "display_data"
    },
    {
     "data": {
      "application/vnd.jupyter.widget-view+json": {
       "model_id": "5df5fff3fb3d4dca806e431c67ff7ebb",
       "version_major": 2,
       "version_minor": 0
      },
      "text/plain": [
       "Button(description='Solution', style=ButtonStyle(button_color='#33cc99', font_style='italic', font_weight='bol…"
      ]
     },
     "metadata": {},
     "output_type": "display_data"
    },
    {
     "data": {
      "application/vnd.jupyter.widget-view+json": {
       "model_id": "5156cfb15d2442eda00c063ee47b97ef",
       "version_major": 2,
       "version_minor": 0
      },
      "text/plain": [
       "Output()"
      ]
     },
     "metadata": {},
     "output_type": "display_data"
    }
   ],
   "source": [
    "q0.display_buttons()"
   ]
  },
  {
   "cell_type": "markdown",
   "metadata": {},
   "source": [
    "## Ejercicio 2\n",
    "Escribe un programa para pasar de grados a radianes. Hay que usar `input`. Recuerda que la conversión se realiza mediante\n",
    "\n",
    "radianes = grados*(pi/180)\n",
    "\n",
    "- Define la variable `degree` usando la función input\n",
    "- Define la variable `radian` usando la fórmula y `degree`\n",
    "- Muestra el resultado por pantalla\n",
    "- Haz el check con 180 grados"
   ]
  },
  {
   "cell_type": "code",
   "execution_count": 5,
   "metadata": {},
   "outputs": [
    {
     "name": "stdout",
     "output_type": "stream",
     "text": [
      "Ingrese los grados: 180\n",
      "La conversión final sería de  3.141592653589793 radianes\n"
     ]
    }
   ],
   "source": [
    "import math\n",
    "degree = float(input(\"Ingrese los grados: \"))\n",
    "radian = degree * (math.pi/180)\n",
    "print(\"La conversión final sería de \",radian, \"radianes\")"
   ]
  },
  {
   "cell_type": "code",
   "execution_count": 6,
   "metadata": {},
   "outputs": [
    {
     "data": {
      "application/vnd.jupyter.widget-view+json": {
       "model_id": "8282503319c143a2b933d9a01b6ac8a9",
       "version_major": 2,
       "version_minor": 0
      },
      "text/plain": [
       "Button(description='Check', style=ButtonStyle(button_color='#cc5533', font_style='italic', font_weight='bold')…"
      ]
     },
     "metadata": {},
     "output_type": "display_data"
    },
    {
     "data": {
      "application/vnd.jupyter.widget-view+json": {
       "model_id": "0382de585a3d4735b2fe8d208d14ec9c",
       "version_major": 2,
       "version_minor": 0
      },
      "text/plain": [
       "Output()"
      ]
     },
     "metadata": {},
     "output_type": "display_data"
    },
    {
     "data": {
      "application/vnd.jupyter.widget-view+json": {
       "model_id": "5500bc0368b948c792f92b402b2880ca",
       "version_major": 2,
       "version_minor": 0
      },
      "text/plain": [
       "Button(description='Hint 1', style=ButtonStyle(button_color='#3366cc', font_style='italic', font_weight='bold'…"
      ]
     },
     "metadata": {},
     "output_type": "display_data"
    },
    {
     "data": {
      "application/vnd.jupyter.widget-view+json": {
       "model_id": "c2a01d22e4b74e6fa933a246c91c64d4",
       "version_major": 2,
       "version_minor": 0
      },
      "text/plain": [
       "Output()"
      ]
     },
     "metadata": {},
     "output_type": "display_data"
    },
    {
     "data": {
      "application/vnd.jupyter.widget-view+json": {
       "model_id": "2a85d763de89454e9cd13b0bd316d451",
       "version_major": 2,
       "version_minor": 0
      },
      "text/plain": [
       "Button(description='Hint 2', style=ButtonStyle(button_color='#3366cc', font_style='italic', font_weight='bold'…"
      ]
     },
     "metadata": {},
     "output_type": "display_data"
    },
    {
     "data": {
      "application/vnd.jupyter.widget-view+json": {
       "model_id": "e83a7078d3f442b3890757f4217ee3a9",
       "version_major": 2,
       "version_minor": 0
      },
      "text/plain": [
       "Output()"
      ]
     },
     "metadata": {},
     "output_type": "display_data"
    },
    {
     "data": {
      "application/vnd.jupyter.widget-view+json": {
       "model_id": "cc18f9ecfe544561bb6c12ea0214ed34",
       "version_major": 2,
       "version_minor": 0
      },
      "text/plain": [
       "Button(description='Hint 3', style=ButtonStyle(button_color='#3366cc', font_style='italic', font_weight='bold'…"
      ]
     },
     "metadata": {},
     "output_type": "display_data"
    },
    {
     "data": {
      "application/vnd.jupyter.widget-view+json": {
       "model_id": "f16fa2f1629347118634ab937e79ea10",
       "version_major": 2,
       "version_minor": 0
      },
      "text/plain": [
       "Output()"
      ]
     },
     "metadata": {},
     "output_type": "display_data"
    },
    {
     "data": {
      "application/vnd.jupyter.widget-view+json": {
       "model_id": "e1c663e190a84c898f209946704ebf06",
       "version_major": 2,
       "version_minor": 0
      },
      "text/plain": [
       "Button(description='Hint 4', style=ButtonStyle(button_color='#3366cc', font_style='italic', font_weight='bold'…"
      ]
     },
     "metadata": {},
     "output_type": "display_data"
    },
    {
     "data": {
      "application/vnd.jupyter.widget-view+json": {
       "model_id": "808baad4260847fb8609cccd772f2751",
       "version_major": 2,
       "version_minor": 0
      },
      "text/plain": [
       "Output()"
      ]
     },
     "metadata": {},
     "output_type": "display_data"
    },
    {
     "data": {
      "application/vnd.jupyter.widget-view+json": {
       "model_id": "d3b86e91ac4c4719910927d33ab8a9d1",
       "version_major": 2,
       "version_minor": 0
      },
      "text/plain": [
       "Button(description='Solution', style=ButtonStyle(button_color='#33cc99', font_style='italic', font_weight='bol…"
      ]
     },
     "metadata": {},
     "output_type": "display_data"
    },
    {
     "data": {
      "application/vnd.jupyter.widget-view+json": {
       "model_id": "be3cc63760fa41db8b3bbbf3eb128df1",
       "version_major": 2,
       "version_minor": 0
      },
      "text/plain": [
       "Output()"
      ]
     },
     "metadata": {},
     "output_type": "display_data"
    }
   ],
   "source": [
    "q1.display_buttons()"
   ]
  },
  {
   "cell_type": "markdown",
   "metadata": {},
   "source": [
    "## Ejercicio 3\n",
    "Escribe un programa que calcule el area de un paralelogramo (base x altura). También con `input`\n",
    "\n",
    "**Nota**: Llama a las variables `base`, `height` y `area` y haz check con base 10 y altura 15"
   ]
  },
  {
   "cell_type": "code",
   "execution_count": 26,
   "metadata": {},
   "outputs": [
    {
     "name": "stdout",
     "output_type": "stream",
     "text": [
      "Ingrese la base del paralelogramo: 10\n",
      "Ingrese la altura del paralelogramo: 15\n",
      "El área del paralelogramo es de:  150.0\n"
     ]
    }
   ],
   "source": [
    "base = float(input(\"Ingrese la base del paralelogramo: \"))\n",
    "height = float(input(\"Ingrese la altura del paralelogramo: \"))\n",
    "\n",
    "area = base * height\n",
    "\n",
    "print(\"El área del paralelogramo es de: \", area)"
   ]
  },
  {
   "cell_type": "code",
   "execution_count": 7,
   "metadata": {},
   "outputs": [
    {
     "data": {
      "application/vnd.jupyter.widget-view+json": {
       "model_id": "50fee8b735014e8c9c7e2017dbf7b9a7",
       "version_major": 2,
       "version_minor": 0
      },
      "text/plain": [
       "Button(description='Check', style=ButtonStyle(button_color='#cc5533', font_style='italic', font_weight='bold')…"
      ]
     },
     "metadata": {},
     "output_type": "display_data"
    },
    {
     "data": {
      "application/vnd.jupyter.widget-view+json": {
       "model_id": "9c61416ed7614444aa095ac8d31ccd15",
       "version_major": 2,
       "version_minor": 0
      },
      "text/plain": [
       "Output()"
      ]
     },
     "metadata": {},
     "output_type": "display_data"
    },
    {
     "data": {
      "application/vnd.jupyter.widget-view+json": {
       "model_id": "7c223cea1d744485873e79b8c5b005e5",
       "version_major": 2,
       "version_minor": 0
      },
      "text/plain": [
       "Button(description='Hint 1', style=ButtonStyle(button_color='#3366cc', font_style='italic', font_weight='bold'…"
      ]
     },
     "metadata": {},
     "output_type": "display_data"
    },
    {
     "data": {
      "application/vnd.jupyter.widget-view+json": {
       "model_id": "9bac489c70dc404ba59845295750c1eb",
       "version_major": 2,
       "version_minor": 0
      },
      "text/plain": [
       "Output()"
      ]
     },
     "metadata": {},
     "output_type": "display_data"
    },
    {
     "data": {
      "application/vnd.jupyter.widget-view+json": {
       "model_id": "3fd3005c468c4e278336e2c54d960b54",
       "version_major": 2,
       "version_minor": 0
      },
      "text/plain": [
       "Button(description='Hint 2', style=ButtonStyle(button_color='#3366cc', font_style='italic', font_weight='bold'…"
      ]
     },
     "metadata": {},
     "output_type": "display_data"
    },
    {
     "data": {
      "application/vnd.jupyter.widget-view+json": {
       "model_id": "0676c491f8894df0a1458d33fec9aad4",
       "version_major": 2,
       "version_minor": 0
      },
      "text/plain": [
       "Output()"
      ]
     },
     "metadata": {},
     "output_type": "display_data"
    },
    {
     "data": {
      "application/vnd.jupyter.widget-view+json": {
       "model_id": "042900202e1e4e3c8a28b8819e2d3e8e",
       "version_major": 2,
       "version_minor": 0
      },
      "text/plain": [
       "Button(description='Hint 3', style=ButtonStyle(button_color='#3366cc', font_style='italic', font_weight='bold'…"
      ]
     },
     "metadata": {},
     "output_type": "display_data"
    },
    {
     "data": {
      "application/vnd.jupyter.widget-view+json": {
       "model_id": "ef0f3ec9f86e41ea9ae080cb361fd404",
       "version_major": 2,
       "version_minor": 0
      },
      "text/plain": [
       "Output()"
      ]
     },
     "metadata": {},
     "output_type": "display_data"
    },
    {
     "data": {
      "application/vnd.jupyter.widget-view+json": {
       "model_id": "b4e1171f5f47485ebeabfd6e3879e014",
       "version_major": 2,
       "version_minor": 0
      },
      "text/plain": [
       "Button(description='Hint 4', style=ButtonStyle(button_color='#3366cc', font_style='italic', font_weight='bold'…"
      ]
     },
     "metadata": {},
     "output_type": "display_data"
    },
    {
     "data": {
      "application/vnd.jupyter.widget-view+json": {
       "model_id": "3dbcf28ec1ec4313a0d87e6e313ac3f8",
       "version_major": 2,
       "version_minor": 0
      },
      "text/plain": [
       "Output()"
      ]
     },
     "metadata": {},
     "output_type": "display_data"
    },
    {
     "data": {
      "application/vnd.jupyter.widget-view+json": {
       "model_id": "d0d40efbc4c24b83b7afc91a0d23c524",
       "version_major": 2,
       "version_minor": 0
      },
      "text/plain": [
       "Button(description='Solution', style=ButtonStyle(button_color='#33cc99', font_style='italic', font_weight='bol…"
      ]
     },
     "metadata": {},
     "output_type": "display_data"
    },
    {
     "data": {
      "application/vnd.jupyter.widget-view+json": {
       "model_id": "1acb63ad9f534defb17b51c362a60a4d",
       "version_major": 2,
       "version_minor": 0
      },
      "text/plain": [
       "Output()"
      ]
     },
     "metadata": {},
     "output_type": "display_data"
    }
   ],
   "source": [
    "q2.display_buttons()"
   ]
  },
  {
   "cell_type": "markdown",
   "metadata": {},
   "source": [
    "## Ejercicio 4\n",
    "Tenemos las siguientes variables:\n",
    "\n",
    "```Python\n",
    "A = 4\n",
    "B = \"Text\"\n",
    "C = 4.1\n",
    "```\n",
    "\n",
    "Comprueba:\n",
    "1. Si A y B son equivalentes\n",
    "2. Si A y C NO son equivalentes\n",
    "3. Si A es mayor que C \n",
    "4. Si C es menor o igual que A\n",
    "5. Si B NO es equivalente a C"
   ]
  },
  {
   "cell_type": "code",
   "execution_count": 9,
   "metadata": {},
   "outputs": [
    {
     "name": "stdout",
     "output_type": "stream",
     "text": [
      "False\n",
      "True\n",
      "False\n",
      "False\n",
      "True\n"
     ]
    }
   ],
   "source": [
    "A = 4\n",
    "B = \"Text\"\n",
    "C = 4.1\n",
    "\n",
    "print(A == B)\n",
    "print(A != C)\n",
    "print(A > C)\n",
    "print(C <= A)\n",
    "print(B != C)"
   ]
  },
  {
   "cell_type": "code",
   "execution_count": 8,
   "metadata": {},
   "outputs": [
    {
     "data": {
      "application/vnd.jupyter.widget-view+json": {
       "model_id": "85b492e668ec448db4f92f6501a5dbff",
       "version_major": 2,
       "version_minor": 0
      },
      "text/plain": [
       "Button(description='Hint 1', style=ButtonStyle(button_color='#3366cc', font_style='italic', font_weight='bold'…"
      ]
     },
     "metadata": {},
     "output_type": "display_data"
    },
    {
     "data": {
      "application/vnd.jupyter.widget-view+json": {
       "model_id": "7dcbe7eba0ed4f8190650a8ed3de29dd",
       "version_major": 2,
       "version_minor": 0
      },
      "text/plain": [
       "Output()"
      ]
     },
     "metadata": {},
     "output_type": "display_data"
    },
    {
     "data": {
      "application/vnd.jupyter.widget-view+json": {
       "model_id": "beb7dfb716fd4e979ff7fb1ba53fee81",
       "version_major": 2,
       "version_minor": 0
      },
      "text/plain": [
       "Button(description='Hint 2', style=ButtonStyle(button_color='#3366cc', font_style='italic', font_weight='bold'…"
      ]
     },
     "metadata": {},
     "output_type": "display_data"
    },
    {
     "data": {
      "application/vnd.jupyter.widget-view+json": {
       "model_id": "f0bcac4386384b40920ffd266afdb8ec",
       "version_major": 2,
       "version_minor": 0
      },
      "text/plain": [
       "Output()"
      ]
     },
     "metadata": {},
     "output_type": "display_data"
    },
    {
     "data": {
      "application/vnd.jupyter.widget-view+json": {
       "model_id": "b1ad18b47da2438ca9288ee16166788b",
       "version_major": 2,
       "version_minor": 0
      },
      "text/plain": [
       "Button(description='Hint 3', style=ButtonStyle(button_color='#3366cc', font_style='italic', font_weight='bold'…"
      ]
     },
     "metadata": {},
     "output_type": "display_data"
    },
    {
     "data": {
      "application/vnd.jupyter.widget-view+json": {
       "model_id": "bada562d30414b4ebf6579a21e81bb2e",
       "version_major": 2,
       "version_minor": 0
      },
      "text/plain": [
       "Output()"
      ]
     },
     "metadata": {},
     "output_type": "display_data"
    },
    {
     "data": {
      "application/vnd.jupyter.widget-view+json": {
       "model_id": "eb6f4355753d4972bd41aed3487927ac",
       "version_major": 2,
       "version_minor": 0
      },
      "text/plain": [
       "Button(description='Solution', style=ButtonStyle(button_color='#33cc99', font_style='italic', font_weight='bol…"
      ]
     },
     "metadata": {},
     "output_type": "display_data"
    },
    {
     "data": {
      "application/vnd.jupyter.widget-view+json": {
       "model_id": "fe4d58a15ec249aea2e42a7fe9162eb3",
       "version_major": 2,
       "version_minor": 0
      },
      "text/plain": [
       "Output()"
      ]
     },
     "metadata": {},
     "output_type": "display_data"
    }
   ],
   "source": [
    "q3.display_buttons()"
   ]
  },
  {
   "cell_type": "markdown",
   "metadata": {},
   "source": [
    "## Ejercicio 5\n",
    "Crea un programa donde se recojan dos inputs del usuario, y el output del programa sea si esos inputs son iguales o no.\n",
    "\n",
    "Llama a las variables `in_1`, `in_2`"
   ]
  },
  {
   "cell_type": "code",
   "execution_count": 17,
   "metadata": {},
   "outputs": [
    {
     "name": "stdout",
     "output_type": "stream",
     "text": [
      "Ingresa un número aleatorio: 5\n",
      "Ingresa otro número aleatorio: 6\n",
      "La comparación obtenida es False\n"
     ]
    }
   ],
   "source": [
    "in_1 = int(input(\"Ingresa un número aleatorio: \"))\n",
    "in_2 = int(input(\"Ingresa otro número aleatorio: \"))\n",
    "print(\"La comparación obtenida es\",in_1 == in_2)\n"
   ]
  },
  {
   "cell_type": "code",
   "execution_count": 10,
   "metadata": {},
   "outputs": [
    {
     "data": {
      "application/vnd.jupyter.widget-view+json": {
       "model_id": "836fa4dad2be47a9a2bf67921db66649",
       "version_major": 2,
       "version_minor": 0
      },
      "text/plain": [
       "Button(description='Hint 1', style=ButtonStyle(button_color='#3366cc', font_style='italic', font_weight='bold'…"
      ]
     },
     "metadata": {},
     "output_type": "display_data"
    },
    {
     "data": {
      "application/vnd.jupyter.widget-view+json": {
       "model_id": "87731033b8ca46d3b330064fef688720",
       "version_major": 2,
       "version_minor": 0
      },
      "text/plain": [
       "Output()"
      ]
     },
     "metadata": {},
     "output_type": "display_data"
    },
    {
     "data": {
      "application/vnd.jupyter.widget-view+json": {
       "model_id": "530ca0fc70e54bdda95059a7b5a9d90e",
       "version_major": 2,
       "version_minor": 0
      },
      "text/plain": [
       "Button(description='Hint 2', style=ButtonStyle(button_color='#3366cc', font_style='italic', font_weight='bold'…"
      ]
     },
     "metadata": {},
     "output_type": "display_data"
    },
    {
     "data": {
      "application/vnd.jupyter.widget-view+json": {
       "model_id": "0212672193bf482299cb5f8948c708bd",
       "version_major": 2,
       "version_minor": 0
      },
      "text/plain": [
       "Output()"
      ]
     },
     "metadata": {},
     "output_type": "display_data"
    },
    {
     "data": {
      "application/vnd.jupyter.widget-view+json": {
       "model_id": "9fad8e00f480425bbcf8673fa916314a",
       "version_major": 2,
       "version_minor": 0
      },
      "text/plain": [
       "Button(description='Hint 3', style=ButtonStyle(button_color='#3366cc', font_style='italic', font_weight='bold'…"
      ]
     },
     "metadata": {},
     "output_type": "display_data"
    },
    {
     "data": {
      "application/vnd.jupyter.widget-view+json": {
       "model_id": "3569ac64e9a24a64a418e24cb00ae6c5",
       "version_major": 2,
       "version_minor": 0
      },
      "text/plain": [
       "Output()"
      ]
     },
     "metadata": {},
     "output_type": "display_data"
    },
    {
     "data": {
      "application/vnd.jupyter.widget-view+json": {
       "model_id": "ca9feead127f4f6e957dc549d92db653",
       "version_major": 2,
       "version_minor": 0
      },
      "text/plain": [
       "Button(description='Hint 4', style=ButtonStyle(button_color='#3366cc', font_style='italic', font_weight='bold'…"
      ]
     },
     "metadata": {},
     "output_type": "display_data"
    },
    {
     "data": {
      "application/vnd.jupyter.widget-view+json": {
       "model_id": "a062994a8864403c8932e1b2e8ff9c5e",
       "version_major": 2,
       "version_minor": 0
      },
      "text/plain": [
       "Output()"
      ]
     },
     "metadata": {},
     "output_type": "display_data"
    },
    {
     "data": {
      "application/vnd.jupyter.widget-view+json": {
       "model_id": "c4eb303750b94a4b89306ee00d2e5175",
       "version_major": 2,
       "version_minor": 0
      },
      "text/plain": [
       "Button(description='Hint 5', style=ButtonStyle(button_color='#3366cc', font_style='italic', font_weight='bold'…"
      ]
     },
     "metadata": {},
     "output_type": "display_data"
    },
    {
     "data": {
      "application/vnd.jupyter.widget-view+json": {
       "model_id": "37c146b06feb43668d14d21cd3092a4d",
       "version_major": 2,
       "version_minor": 0
      },
      "text/plain": [
       "Output()"
      ]
     },
     "metadata": {},
     "output_type": "display_data"
    },
    {
     "data": {
      "application/vnd.jupyter.widget-view+json": {
       "model_id": "dddf3e1dc1d846d78062d51144314ddf",
       "version_major": 2,
       "version_minor": 0
      },
      "text/plain": [
       "Button(description='Solution', style=ButtonStyle(button_color='#33cc99', font_style='italic', font_weight='bol…"
      ]
     },
     "metadata": {},
     "output_type": "display_data"
    },
    {
     "data": {
      "application/vnd.jupyter.widget-view+json": {
       "model_id": "7fce9d45d85b4b5db0e1ad59a7fc535f",
       "version_major": 2,
       "version_minor": 0
      },
      "text/plain": [
       "Output()"
      ]
     },
     "metadata": {},
     "output_type": "display_data"
    }
   ],
   "source": [
    "q4.a.display_buttons()"
   ]
  },
  {
   "cell_type": "markdown",
   "metadata": {},
   "source": [
    "## Ejercicio 6\n",
    "Mismo programa que en 5, pero en esta ocasión tienen que ser tres inputs y dos salidas. Una de las salidas que nos indique si todos son iguales, y la otra si al menos dos inputs sí que lo son.\n",
    "\n",
    "Llama a las variables `inp_1`, `inp_2`, `inp_3` para los inputs y `todos` y `dos` para los resultados.\n",
    "\n",
    "**Nota**: Haz el check con los inputs a, a, b"
   ]
  },
  {
   "cell_type": "code",
   "execution_count": 21,
   "metadata": {},
   "outputs": [
    {
     "name": "stdout",
     "output_type": "stream",
     "text": [
      "Ingrese una letra : a\n",
      "Ingrese una segunda letra : a\n",
      "Ingrese una tercera letra : b\n",
      "Todas son iguales False\n",
      "Al menos dos son inguales True\n"
     ]
    }
   ],
   "source": [
    "inp_1 = input(\"Ingrese una letra : \")\n",
    "inp_2 = input(\"Ingrese una segunda letra : \")\n",
    "inp_3 = input(\"Ingrese una tercera letra : \")\n",
    "\n",
    "todos = (inp_1 == inp_2 and inp_1 == inp_3 and inp_2 == inp_3)\n",
    "print(\"Todas son iguales\", todos)\n",
    "\n",
    "dos = (inp_1 == inp_2 or inp_2 == inp_3 or inp_1 == inp_3)\n",
    "print(\"Al menos dos son inguales\", dos)"
   ]
  },
  {
   "cell_type": "code",
   "execution_count": 18,
   "metadata": {},
   "outputs": [
    {
     "data": {
      "application/vnd.jupyter.widget-view+json": {
       "model_id": "f6d9a894361247158a5a3fc344c9838b",
       "version_major": 2,
       "version_minor": 0
      },
      "text/plain": [
       "Button(description='Check', style=ButtonStyle(button_color='#cc5533', font_style='italic', font_weight='bold')…"
      ]
     },
     "metadata": {},
     "output_type": "display_data"
    },
    {
     "data": {
      "application/vnd.jupyter.widget-view+json": {
       "model_id": "b86cac4645cb489eabfda98405e0f8e4",
       "version_major": 2,
       "version_minor": 0
      },
      "text/plain": [
       "Output()"
      ]
     },
     "metadata": {},
     "output_type": "display_data"
    },
    {
     "data": {
      "application/vnd.jupyter.widget-view+json": {
       "model_id": "e304af8744f34141882347d564713c8f",
       "version_major": 2,
       "version_minor": 0
      },
      "text/plain": [
       "Button(description='Hint 1', style=ButtonStyle(button_color='#3366cc', font_style='italic', font_weight='bold'…"
      ]
     },
     "metadata": {},
     "output_type": "display_data"
    },
    {
     "data": {
      "application/vnd.jupyter.widget-view+json": {
       "model_id": "6380b32ec8284109b9976dd2740eb59c",
       "version_major": 2,
       "version_minor": 0
      },
      "text/plain": [
       "Output()"
      ]
     },
     "metadata": {},
     "output_type": "display_data"
    },
    {
     "data": {
      "application/vnd.jupyter.widget-view+json": {
       "model_id": "b045e58b4fe44294aca1a7129f2a6d9f",
       "version_major": 2,
       "version_minor": 0
      },
      "text/plain": [
       "Button(description='Hint 2', style=ButtonStyle(button_color='#3366cc', font_style='italic', font_weight='bold'…"
      ]
     },
     "metadata": {},
     "output_type": "display_data"
    },
    {
     "data": {
      "application/vnd.jupyter.widget-view+json": {
       "model_id": "5f7d345152cd4ebbb328e63658a409b7",
       "version_major": 2,
       "version_minor": 0
      },
      "text/plain": [
       "Output()"
      ]
     },
     "metadata": {},
     "output_type": "display_data"
    },
    {
     "data": {
      "application/vnd.jupyter.widget-view+json": {
       "model_id": "80387a00725f426dab92ba6c2105a36f",
       "version_major": 2,
       "version_minor": 0
      },
      "text/plain": [
       "Button(description='Hint 3', style=ButtonStyle(button_color='#3366cc', font_style='italic', font_weight='bold'…"
      ]
     },
     "metadata": {},
     "output_type": "display_data"
    },
    {
     "data": {
      "application/vnd.jupyter.widget-view+json": {
       "model_id": "cf9b9431304c4cfa9b0baa1ff19d1e1d",
       "version_major": 2,
       "version_minor": 0
      },
      "text/plain": [
       "Output()"
      ]
     },
     "metadata": {},
     "output_type": "display_data"
    },
    {
     "data": {
      "application/vnd.jupyter.widget-view+json": {
       "model_id": "d79fa378fcc0467faba22975e0da62b3",
       "version_major": 2,
       "version_minor": 0
      },
      "text/plain": [
       "Button(description='Hint 4', style=ButtonStyle(button_color='#3366cc', font_style='italic', font_weight='bold'…"
      ]
     },
     "metadata": {},
     "output_type": "display_data"
    },
    {
     "data": {
      "application/vnd.jupyter.widget-view+json": {
       "model_id": "ab0a6b1aeb5c41c69fafafe68b9574a1",
       "version_major": 2,
       "version_minor": 0
      },
      "text/plain": [
       "Output()"
      ]
     },
     "metadata": {},
     "output_type": "display_data"
    },
    {
     "data": {
      "application/vnd.jupyter.widget-view+json": {
       "model_id": "a31ee50a9fd0442a9fe12eea972ef3e4",
       "version_major": 2,
       "version_minor": 0
      },
      "text/plain": [
       "Button(description='Hint 5', style=ButtonStyle(button_color='#3366cc', font_style='italic', font_weight='bold'…"
      ]
     },
     "metadata": {},
     "output_type": "display_data"
    },
    {
     "data": {
      "application/vnd.jupyter.widget-view+json": {
       "model_id": "c5b9e28594aa4193ba9ecbb787b01db2",
       "version_major": 2,
       "version_minor": 0
      },
      "text/plain": [
       "Output()"
      ]
     },
     "metadata": {},
     "output_type": "display_data"
    },
    {
     "data": {
      "application/vnd.jupyter.widget-view+json": {
       "model_id": "8b3eeaab27e04d71b496dd441cd814ed",
       "version_major": 2,
       "version_minor": 0
      },
      "text/plain": [
       "Button(description='Solution', style=ButtonStyle(button_color='#33cc99', font_style='italic', font_weight='bol…"
      ]
     },
     "metadata": {},
     "output_type": "display_data"
    },
    {
     "data": {
      "application/vnd.jupyter.widget-view+json": {
       "model_id": "958ffdc27c944e30ac62ea4451fda8a1",
       "version_major": 2,
       "version_minor": 0
      },
      "text/plain": [
       "Output()"
      ]
     },
     "metadata": {},
     "output_type": "display_data"
    }
   ],
   "source": [
    "q4.b.display_buttons()"
   ]
  },
  {
   "cell_type": "markdown",
   "metadata": {},
   "source": [
    "## Ejercicio 7\n",
    "Crea un programa que recoja dos inputs. Tiene que comprobar si su suma es igual, superior o inferior a 10\n",
    "\n",
    "Llama a las variables `in1`, `in2`, `suma`."
   ]
  },
  {
   "cell_type": "code",
   "execution_count": 24,
   "metadata": {},
   "outputs": [
    {
     "name": "stdout",
     "output_type": "stream",
     "text": [
      "Input 1: 4\n",
      "Input 2: 8\n",
      "¿La suma es igual a 10? False\n",
      "¿La suma es superior a 10? True\n",
      "¿La suma es igual a 10? False\n"
     ]
    }
   ],
   "source": [
    "in1 = float(input(\"Input 1: \"))\n",
    "in2 = float(input(\"Input 2: \"))\n",
    "suma = float(in1) + float(in2)\n",
    "\n",
    "print(\"¿La suma es igual a 10?\", suma == 10) \n",
    "print(\"¿La suma es superior a 10?\", suma > 10) \n",
    "print(\"¿La suma es igual a 10?\", suma < 10) "
   ]
  },
  {
   "cell_type": "code",
   "execution_count": 22,
   "metadata": {},
   "outputs": [
    {
     "data": {
      "application/vnd.jupyter.widget-view+json": {
       "model_id": "4f00a40dbcb340ba96297f4f19342c38",
       "version_major": 2,
       "version_minor": 0
      },
      "text/plain": [
       "Button(description='Hint 1', style=ButtonStyle(button_color='#3366cc', font_style='italic', font_weight='bold'…"
      ]
     },
     "metadata": {},
     "output_type": "display_data"
    },
    {
     "data": {
      "application/vnd.jupyter.widget-view+json": {
       "model_id": "d95733f8769440158e0b104056463a5b",
       "version_major": 2,
       "version_minor": 0
      },
      "text/plain": [
       "Output()"
      ]
     },
     "metadata": {},
     "output_type": "display_data"
    },
    {
     "data": {
      "application/vnd.jupyter.widget-view+json": {
       "model_id": "54cdea52252147d9a81b1e46e419e801",
       "version_major": 2,
       "version_minor": 0
      },
      "text/plain": [
       "Button(description='Hint 2', style=ButtonStyle(button_color='#3366cc', font_style='italic', font_weight='bold'…"
      ]
     },
     "metadata": {},
     "output_type": "display_data"
    },
    {
     "data": {
      "application/vnd.jupyter.widget-view+json": {
       "model_id": "860775ff84344c0a860d0fdea9bcff5a",
       "version_major": 2,
       "version_minor": 0
      },
      "text/plain": [
       "Output()"
      ]
     },
     "metadata": {},
     "output_type": "display_data"
    },
    {
     "data": {
      "application/vnd.jupyter.widget-view+json": {
       "model_id": "043a0da7fded4e42a33a11ba31a81bf8",
       "version_major": 2,
       "version_minor": 0
      },
      "text/plain": [
       "Button(description='Hint 3', style=ButtonStyle(button_color='#3366cc', font_style='italic', font_weight='bold'…"
      ]
     },
     "metadata": {},
     "output_type": "display_data"
    },
    {
     "data": {
      "application/vnd.jupyter.widget-view+json": {
       "model_id": "781a979248d2469bbe9e06683bd5bcc2",
       "version_major": 2,
       "version_minor": 0
      },
      "text/plain": [
       "Output()"
      ]
     },
     "metadata": {},
     "output_type": "display_data"
    },
    {
     "data": {
      "application/vnd.jupyter.widget-view+json": {
       "model_id": "fa7b36cefa74400eb3daaa886a2dae4c",
       "version_major": 2,
       "version_minor": 0
      },
      "text/plain": [
       "Button(description='Hint 4', style=ButtonStyle(button_color='#3366cc', font_style='italic', font_weight='bold'…"
      ]
     },
     "metadata": {},
     "output_type": "display_data"
    },
    {
     "data": {
      "application/vnd.jupyter.widget-view+json": {
       "model_id": "e9285b2c82db49cfbfc40c621e0250a8",
       "version_major": 2,
       "version_minor": 0
      },
      "text/plain": [
       "Output()"
      ]
     },
     "metadata": {},
     "output_type": "display_data"
    },
    {
     "data": {
      "application/vnd.jupyter.widget-view+json": {
       "model_id": "f97cd145644b4711b63405bdc2c83a8c",
       "version_major": 2,
       "version_minor": 0
      },
      "text/plain": [
       "Button(description='Hint 5', style=ButtonStyle(button_color='#3366cc', font_style='italic', font_weight='bold'…"
      ]
     },
     "metadata": {},
     "output_type": "display_data"
    },
    {
     "data": {
      "application/vnd.jupyter.widget-view+json": {
       "model_id": "bc40eb93f77e433889a2301d291cca04",
       "version_major": 2,
       "version_minor": 0
      },
      "text/plain": [
       "Output()"
      ]
     },
     "metadata": {},
     "output_type": "display_data"
    },
    {
     "data": {
      "application/vnd.jupyter.widget-view+json": {
       "model_id": "fef7b68e64544a59905c65cc1573b288",
       "version_major": 2,
       "version_minor": 0
      },
      "text/plain": [
       "Button(description='Solution', style=ButtonStyle(button_color='#33cc99', font_style='italic', font_weight='bol…"
      ]
     },
     "metadata": {},
     "output_type": "display_data"
    },
    {
     "data": {
      "application/vnd.jupyter.widget-view+json": {
       "model_id": "ed1361d4cb59406888c06c1d99895be0",
       "version_major": 2,
       "version_minor": 0
      },
      "text/plain": [
       "Output()"
      ]
     },
     "metadata": {},
     "output_type": "display_data"
    }
   ],
   "source": [
    "q4.c.display_buttons()"
   ]
  },
  {
   "cell_type": "markdown",
   "metadata": {},
   "source": [
    "## Ejercicio 8\n",
    "Razona sin ejecutar código el output que obtendremos de las siguientes sentencias\n",
    "1. True and True and False\n",
    "2. not ((True or False) and (True or False))\n",
    "3. (False or False or False or True) and False\n",
    "4. not False and True and not True\n",
    "\n",
    "**IMPORTANTE**: Las soluciones se darán en las pistas 3 - 6 para que se puedan desplegar una por una"
   ]
  },
  {
   "cell_type": "markdown",
   "metadata": {},
   "source": [
    "1) False. Al haber un false con un and automáticamente se convierte en false.\n",
    "2) False. true or false-- true, true and true-- true, finalmente not(true)--false.\n",
    "3) False. Del primer paréntesis obtenemos true, después, true and false-- false.\n",
    "4) False. not false--true, not true -- false. Finalmente nos queda true and true and false que es false."
   ]
  },
  {
   "cell_type": "code",
   "execution_count": 25,
   "metadata": {},
   "outputs": [
    {
     "data": {
      "application/vnd.jupyter.widget-view+json": {
       "model_id": "5710c2e0d8704f89b17ab683a88c7d46",
       "version_major": 2,
       "version_minor": 0
      },
      "text/plain": [
       "Button(description='Hint 1', style=ButtonStyle(button_color='#3366cc', font_style='italic', font_weight='bold'…"
      ]
     },
     "metadata": {},
     "output_type": "display_data"
    },
    {
     "data": {
      "application/vnd.jupyter.widget-view+json": {
       "model_id": "0ec35b020ecb410ab44d89ca3af2ce22",
       "version_major": 2,
       "version_minor": 0
      },
      "text/plain": [
       "Output()"
      ]
     },
     "metadata": {},
     "output_type": "display_data"
    },
    {
     "data": {
      "application/vnd.jupyter.widget-view+json": {
       "model_id": "607205a2b03844aea4826b4a26a448c3",
       "version_major": 2,
       "version_minor": 0
      },
      "text/plain": [
       "Button(description='Hint 2', style=ButtonStyle(button_color='#3366cc', font_style='italic', font_weight='bold'…"
      ]
     },
     "metadata": {},
     "output_type": "display_data"
    },
    {
     "data": {
      "application/vnd.jupyter.widget-view+json": {
       "model_id": "f4f92487ac774f879b343a158633387f",
       "version_major": 2,
       "version_minor": 0
      },
      "text/plain": [
       "Output()"
      ]
     },
     "metadata": {},
     "output_type": "display_data"
    },
    {
     "data": {
      "application/vnd.jupyter.widget-view+json": {
       "model_id": "5658e235339242eabb2172f15c0a7d23",
       "version_major": 2,
       "version_minor": 0
      },
      "text/plain": [
       "Button(description='Hint 3', style=ButtonStyle(button_color='#3366cc', font_style='italic', font_weight='bold'…"
      ]
     },
     "metadata": {},
     "output_type": "display_data"
    },
    {
     "data": {
      "application/vnd.jupyter.widget-view+json": {
       "model_id": "d35fb022062741a8a4502a82d1804ac2",
       "version_major": 2,
       "version_minor": 0
      },
      "text/plain": [
       "Output()"
      ]
     },
     "metadata": {},
     "output_type": "display_data"
    },
    {
     "data": {
      "application/vnd.jupyter.widget-view+json": {
       "model_id": "e574fe46554549ab9f021685d0be185b",
       "version_major": 2,
       "version_minor": 0
      },
      "text/plain": [
       "Button(description='Hint 4', style=ButtonStyle(button_color='#3366cc', font_style='italic', font_weight='bold'…"
      ]
     },
     "metadata": {},
     "output_type": "display_data"
    },
    {
     "data": {
      "application/vnd.jupyter.widget-view+json": {
       "model_id": "cb0310017f1244688ffd13371011b289",
       "version_major": 2,
       "version_minor": 0
      },
      "text/plain": [
       "Output()"
      ]
     },
     "metadata": {},
     "output_type": "display_data"
    },
    {
     "data": {
      "application/vnd.jupyter.widget-view+json": {
       "model_id": "ddbb399e94854a72a9436f94909c74f0",
       "version_major": 2,
       "version_minor": 0
      },
      "text/plain": [
       "Button(description='Hint 5', style=ButtonStyle(button_color='#3366cc', font_style='italic', font_weight='bold'…"
      ]
     },
     "metadata": {},
     "output_type": "display_data"
    },
    {
     "data": {
      "application/vnd.jupyter.widget-view+json": {
       "model_id": "95c33ae5aebc4b9d933ff04c90f54a4c",
       "version_major": 2,
       "version_minor": 0
      },
      "text/plain": [
       "Output()"
      ]
     },
     "metadata": {},
     "output_type": "display_data"
    },
    {
     "data": {
      "application/vnd.jupyter.widget-view+json": {
       "model_id": "adf5a5c183544eeb8717e323b6305a7a",
       "version_major": 2,
       "version_minor": 0
      },
      "text/plain": [
       "Button(description='Hint 6', style=ButtonStyle(button_color='#3366cc', font_style='italic', font_weight='bold'…"
      ]
     },
     "metadata": {},
     "output_type": "display_data"
    },
    {
     "data": {
      "application/vnd.jupyter.widget-view+json": {
       "model_id": "1a8d989e1d17435ab3ae305db86f05bf",
       "version_major": 2,
       "version_minor": 0
      },
      "text/plain": [
       "Output()"
      ]
     },
     "metadata": {},
     "output_type": "display_data"
    },
    {
     "data": {
      "application/vnd.jupyter.widget-view+json": {
       "model_id": "ce88751fd297439faff880dfeb2ceb62",
       "version_major": 2,
       "version_minor": 0
      },
      "text/plain": [
       "Button(description='Solution', style=ButtonStyle(button_color='#33cc99', font_style='italic', font_weight='bol…"
      ]
     },
     "metadata": {},
     "output_type": "display_data"
    },
    {
     "data": {
      "application/vnd.jupyter.widget-view+json": {
       "model_id": "ee5548e72d9941b185bb21344efea39a",
       "version_major": 2,
       "version_minor": 0
      },
      "text/plain": [
       "Output()"
      ]
     },
     "metadata": {},
     "output_type": "display_data"
    }
   ],
   "source": [
    "q5.display_buttons()"
   ]
  },
  {
   "cell_type": "markdown",
   "metadata": {},
   "source": [
    "## Ejercicio 9\n",
    "Para este ejercicio vamos a poner en práctica [las funciones built in](https://docs.python.org/3/library/functions.html).\n",
    "\n",
    "1. Calcula el máximo de la lista: [4, 6, 8, -1]\n",
    "2. Suma todos los elementos de la lista anterior\n",
    "3. Redondea este float a 3 dígitos decimales: 63.451256965\n",
    "4. Valor absoluto de: -74"
   ]
  },
  {
   "cell_type": "code",
   "execution_count": null,
   "metadata": {},
   "outputs": [],
   "source": []
  },
  {
   "cell_type": "markdown",
   "metadata": {},
   "source": [
    "## Ejercicio 10\n",
    "Para el siguiente string se pide imprimir por pantalla los siguientes casos\n",
    "\n",
    "    \"A quien madruga, dios le ayuda\"\n",
    "\n",
    "1. Pasarlo todo a mayusculas\n",
    "2. Pasarlo todo a minusculas\n",
    "3. Solo las iniciales de las palabras\n",
    "4. Crea una lista dividiendolo por sus espacios\n",
    "5. Sustituye las comas `,` por puntos y comas `;`\n",
    "6. Elimina las `a` minusculas\n",
    "\n",
    "**IMPORTANTE**: De las pistas 3 a 9 son las soluciones. Podéis ir desplegándolas de una en una."
   ]
  },
  {
   "cell_type": "code",
   "execution_count": null,
   "metadata": {},
   "outputs": [],
   "source": []
  },
  {
   "cell_type": "code",
   "execution_count": 12,
   "metadata": {},
   "outputs": [
    {
     "data": {
      "application/vnd.jupyter.widget-view+json": {
       "model_id": "2a2165ea65d64410a7bc97ea3d03539d",
       "version_major": 2,
       "version_minor": 0
      },
      "text/plain": [
       "Button(description='Hint 1', style=ButtonStyle(button_color='#3366cc', font_style='italic', font_weight='bold'…"
      ]
     },
     "metadata": {},
     "output_type": "display_data"
    },
    {
     "data": {
      "application/vnd.jupyter.widget-view+json": {
       "model_id": "249aa0d0b58446d68dcaa6f41643dd7d",
       "version_major": 2,
       "version_minor": 0
      },
      "text/plain": [
       "Output()"
      ]
     },
     "metadata": {},
     "output_type": "display_data"
    },
    {
     "data": {
      "application/vnd.jupyter.widget-view+json": {
       "model_id": "92357c5bb800476c936fdc031b55bce7",
       "version_major": 2,
       "version_minor": 0
      },
      "text/plain": [
       "Button(description='Hint 2', style=ButtonStyle(button_color='#3366cc', font_style='italic', font_weight='bold'…"
      ]
     },
     "metadata": {},
     "output_type": "display_data"
    },
    {
     "data": {
      "application/vnd.jupyter.widget-view+json": {
       "model_id": "5e6f2553c9404b8796959ffb61c65e0a",
       "version_major": 2,
       "version_minor": 0
      },
      "text/plain": [
       "Output()"
      ]
     },
     "metadata": {},
     "output_type": "display_data"
    },
    {
     "data": {
      "application/vnd.jupyter.widget-view+json": {
       "model_id": "7d786fbdeb614821bd5cd71fa4016152",
       "version_major": 2,
       "version_minor": 0
      },
      "text/plain": [
       "Button(description='Hint 3', style=ButtonStyle(button_color='#3366cc', font_style='italic', font_weight='bold'…"
      ]
     },
     "metadata": {},
     "output_type": "display_data"
    },
    {
     "data": {
      "application/vnd.jupyter.widget-view+json": {
       "model_id": "fa6441c3be214e898a1ee4306088e231",
       "version_major": 2,
       "version_minor": 0
      },
      "text/plain": [
       "Output()"
      ]
     },
     "metadata": {},
     "output_type": "display_data"
    },
    {
     "data": {
      "application/vnd.jupyter.widget-view+json": {
       "model_id": "0a45cb3c92554296af33388ba97eb0f1",
       "version_major": 2,
       "version_minor": 0
      },
      "text/plain": [
       "Button(description='Hint 4', style=ButtonStyle(button_color='#3366cc', font_style='italic', font_weight='bold'…"
      ]
     },
     "metadata": {},
     "output_type": "display_data"
    },
    {
     "data": {
      "application/vnd.jupyter.widget-view+json": {
       "model_id": "040027e2c58e49fea1621dd3621bdbc3",
       "version_major": 2,
       "version_minor": 0
      },
      "text/plain": [
       "Output()"
      ]
     },
     "metadata": {},
     "output_type": "display_data"
    },
    {
     "data": {
      "application/vnd.jupyter.widget-view+json": {
       "model_id": "96b4714806d74b5b92d33eebc346c080",
       "version_major": 2,
       "version_minor": 0
      },
      "text/plain": [
       "Button(description='Hint 5', style=ButtonStyle(button_color='#3366cc', font_style='italic', font_weight='bold'…"
      ]
     },
     "metadata": {},
     "output_type": "display_data"
    },
    {
     "data": {
      "application/vnd.jupyter.widget-view+json": {
       "model_id": "149a616b60d84adeb02204f15e2023d0",
       "version_major": 2,
       "version_minor": 0
      },
      "text/plain": [
       "Output()"
      ]
     },
     "metadata": {},
     "output_type": "display_data"
    },
    {
     "data": {
      "application/vnd.jupyter.widget-view+json": {
       "model_id": "cbecf899649d4c749783d26f2f5d39b8",
       "version_major": 2,
       "version_minor": 0
      },
      "text/plain": [
       "Button(description='Hint 6', style=ButtonStyle(button_color='#3366cc', font_style='italic', font_weight='bold'…"
      ]
     },
     "metadata": {},
     "output_type": "display_data"
    },
    {
     "data": {
      "application/vnd.jupyter.widget-view+json": {
       "model_id": "16d182e042364257bc8b6e2cda23da7e",
       "version_major": 2,
       "version_minor": 0
      },
      "text/plain": [
       "Output()"
      ]
     },
     "metadata": {},
     "output_type": "display_data"
    },
    {
     "data": {
      "application/vnd.jupyter.widget-view+json": {
       "model_id": "9a32a0822e7e4dc1be2d2a44b1f21422",
       "version_major": 2,
       "version_minor": 0
      },
      "text/plain": [
       "Button(description='Hint 7', style=ButtonStyle(button_color='#3366cc', font_style='italic', font_weight='bold'…"
      ]
     },
     "metadata": {},
     "output_type": "display_data"
    },
    {
     "data": {
      "application/vnd.jupyter.widget-view+json": {
       "model_id": "2617dc2038b14bdb83355a9325296d8b",
       "version_major": 2,
       "version_minor": 0
      },
      "text/plain": [
       "Output()"
      ]
     },
     "metadata": {},
     "output_type": "display_data"
    },
    {
     "data": {
      "application/vnd.jupyter.widget-view+json": {
       "model_id": "6f447a9e78784354b189211105d445f6",
       "version_major": 2,
       "version_minor": 0
      },
      "text/plain": [
       "Button(description='Hint 8', style=ButtonStyle(button_color='#3366cc', font_style='italic', font_weight='bold'…"
      ]
     },
     "metadata": {},
     "output_type": "display_data"
    },
    {
     "data": {
      "application/vnd.jupyter.widget-view+json": {
       "model_id": "7fb6045e4ad24c74be60ee5188579a0c",
       "version_major": 2,
       "version_minor": 0
      },
      "text/plain": [
       "Output()"
      ]
     },
     "metadata": {},
     "output_type": "display_data"
    },
    {
     "data": {
      "application/vnd.jupyter.widget-view+json": {
       "model_id": "54cb7d5f840441198de6ba6c46e98796",
       "version_major": 2,
       "version_minor": 0
      },
      "text/plain": [
       "Button(description='Hint 9', style=ButtonStyle(button_color='#3366cc', font_style='italic', font_weight='bold'…"
      ]
     },
     "metadata": {},
     "output_type": "display_data"
    },
    {
     "data": {
      "application/vnd.jupyter.widget-view+json": {
       "model_id": "926b836ecc004594a2800ed026ec2bb2",
       "version_major": 2,
       "version_minor": 0
      },
      "text/plain": [
       "Output()"
      ]
     },
     "metadata": {},
     "output_type": "display_data"
    },
    {
     "data": {
      "application/vnd.jupyter.widget-view+json": {
       "model_id": "499c8c39570f44ea8037db07bf92a243",
       "version_major": 2,
       "version_minor": 0
      },
      "text/plain": [
       "Button(description='Solution', style=ButtonStyle(button_color='#33cc99', font_style='italic', font_weight='bol…"
      ]
     },
     "metadata": {},
     "output_type": "display_data"
    },
    {
     "data": {
      "application/vnd.jupyter.widget-view+json": {
       "model_id": "4a746d3ed52847ce9cab083f062cb21b",
       "version_major": 2,
       "version_minor": 0
      },
      "text/plain": [
       "Output()"
      ]
     },
     "metadata": {},
     "output_type": "display_data"
    }
   ],
   "source": [
    "q6.display_buttons()"
   ]
  },
  {
   "cell_type": "markdown",
   "metadata": {},
   "source": [
    "## Ejercicio 11\n",
    "1. Crea una lista con 3 elementos numéricos\n",
    "2. Añade un cuarto elemento\n",
    "3. Calcula la suma de todos\n",
    "4. Elimina el segundo elemento de la lista\n",
    "5. Añade otro elemento en la posicion 3 de la lista\n",
    "6. Crea otra lista con 4 elementos y concaténala a la que ya tenías."
   ]
  },
  {
   "cell_type": "code",
   "execution_count": null,
   "metadata": {},
   "outputs": [],
   "source": []
  },
  {
   "cell_type": "code",
   "execution_count": 13,
   "metadata": {},
   "outputs": [
    {
     "data": {
      "application/vnd.jupyter.widget-view+json": {
       "model_id": "16cb40f7f9b34054a72330787deb70a2",
       "version_major": 2,
       "version_minor": 0
      },
      "text/plain": [
       "Button(description='Hint 1', style=ButtonStyle(button_color='#3366cc', font_style='italic', font_weight='bold'…"
      ]
     },
     "metadata": {},
     "output_type": "display_data"
    },
    {
     "data": {
      "application/vnd.jupyter.widget-view+json": {
       "model_id": "86cddde3d5784fb1beed3ba9e68498a0",
       "version_major": 2,
       "version_minor": 0
      },
      "text/plain": [
       "Output()"
      ]
     },
     "metadata": {},
     "output_type": "display_data"
    },
    {
     "data": {
      "application/vnd.jupyter.widget-view+json": {
       "model_id": "b5bbad3e1d2a469194578343d9e415b8",
       "version_major": 2,
       "version_minor": 0
      },
      "text/plain": [
       "Button(description='Hint 2', style=ButtonStyle(button_color='#3366cc', font_style='italic', font_weight='bold'…"
      ]
     },
     "metadata": {},
     "output_type": "display_data"
    },
    {
     "data": {
      "application/vnd.jupyter.widget-view+json": {
       "model_id": "cc7ca76ea5cc4bfb8611a9b4e6893849",
       "version_major": 2,
       "version_minor": 0
      },
      "text/plain": [
       "Output()"
      ]
     },
     "metadata": {},
     "output_type": "display_data"
    },
    {
     "data": {
      "application/vnd.jupyter.widget-view+json": {
       "model_id": "7f2fd052c8204756b768363bc849badc",
       "version_major": 2,
       "version_minor": 0
      },
      "text/plain": [
       "Button(description='Hint 3', style=ButtonStyle(button_color='#3366cc', font_style='italic', font_weight='bold'…"
      ]
     },
     "metadata": {},
     "output_type": "display_data"
    },
    {
     "data": {
      "application/vnd.jupyter.widget-view+json": {
       "model_id": "8e6725d2f53c4c61ba7337b410fe68a5",
       "version_major": 2,
       "version_minor": 0
      },
      "text/plain": [
       "Output()"
      ]
     },
     "metadata": {},
     "output_type": "display_data"
    },
    {
     "data": {
      "application/vnd.jupyter.widget-view+json": {
       "model_id": "38281a9558394ca8a5d80b6827fd8871",
       "version_major": 2,
       "version_minor": 0
      },
      "text/plain": [
       "Button(description='Hint 4', style=ButtonStyle(button_color='#3366cc', font_style='italic', font_weight='bold'…"
      ]
     },
     "metadata": {},
     "output_type": "display_data"
    },
    {
     "data": {
      "application/vnd.jupyter.widget-view+json": {
       "model_id": "7eef57a5644b489dbbc04d6e981eb256",
       "version_major": 2,
       "version_minor": 0
      },
      "text/plain": [
       "Output()"
      ]
     },
     "metadata": {},
     "output_type": "display_data"
    },
    {
     "data": {
      "application/vnd.jupyter.widget-view+json": {
       "model_id": "6c84ed98b2e3444180d4f8ea207a4675",
       "version_major": 2,
       "version_minor": 0
      },
      "text/plain": [
       "Button(description='Hint 5', style=ButtonStyle(button_color='#3366cc', font_style='italic', font_weight='bold'…"
      ]
     },
     "metadata": {},
     "output_type": "display_data"
    },
    {
     "data": {
      "application/vnd.jupyter.widget-view+json": {
       "model_id": "4adff566d5e849ff83b9321431d26def",
       "version_major": 2,
       "version_minor": 0
      },
      "text/plain": [
       "Output()"
      ]
     },
     "metadata": {},
     "output_type": "display_data"
    },
    {
     "data": {
      "application/vnd.jupyter.widget-view+json": {
       "model_id": "b9a50fcb3e404719a40dca3fcf037599",
       "version_major": 2,
       "version_minor": 0
      },
      "text/plain": [
       "Button(description='Hint 6', style=ButtonStyle(button_color='#3366cc', font_style='italic', font_weight='bold'…"
      ]
     },
     "metadata": {},
     "output_type": "display_data"
    },
    {
     "data": {
      "application/vnd.jupyter.widget-view+json": {
       "model_id": "3616093b56fa4c99a9459b412d83c6c5",
       "version_major": 2,
       "version_minor": 0
      },
      "text/plain": [
       "Output()"
      ]
     },
     "metadata": {},
     "output_type": "display_data"
    },
    {
     "data": {
      "application/vnd.jupyter.widget-view+json": {
       "model_id": "26d90bc2de854e51b001d6be39b147ab",
       "version_major": 2,
       "version_minor": 0
      },
      "text/plain": [
       "Button(description='Hint 7', style=ButtonStyle(button_color='#3366cc', font_style='italic', font_weight='bold'…"
      ]
     },
     "metadata": {},
     "output_type": "display_data"
    },
    {
     "data": {
      "application/vnd.jupyter.widget-view+json": {
       "model_id": "774758e4bb004c0cbab6db8e08cda5e0",
       "version_major": 2,
       "version_minor": 0
      },
      "text/plain": [
       "Output()"
      ]
     },
     "metadata": {},
     "output_type": "display_data"
    },
    {
     "data": {
      "application/vnd.jupyter.widget-view+json": {
       "model_id": "f05a4c8b702f4ff49b84eed3a3ae9021",
       "version_major": 2,
       "version_minor": 0
      },
      "text/plain": [
       "Button(description='Solution', style=ButtonStyle(button_color='#33cc99', font_style='italic', font_weight='bol…"
      ]
     },
     "metadata": {},
     "output_type": "display_data"
    },
    {
     "data": {
      "application/vnd.jupyter.widget-view+json": {
       "model_id": "d504d3fd91e249e389b5f249bb3d0a38",
       "version_major": 2,
       "version_minor": 0
      },
      "text/plain": [
       "Output()"
      ]
     },
     "metadata": {},
     "output_type": "display_data"
    }
   ],
   "source": [
    "q7.display_buttons()"
   ]
  },
  {
   "cell_type": "code",
   "execution_count": null,
   "metadata": {},
   "outputs": [],
   "source": []
  }
 ],
 "metadata": {
  "hide_input": false,
  "kernelspec": {
   "display_name": "Python 3 (ipykernel)",
   "language": "python",
   "name": "python3"
  },
  "language_info": {
   "codemirror_mode": {
    "name": "ipython",
    "version": 3
   },
   "file_extension": ".py",
   "mimetype": "text/x-python",
   "name": "python",
   "nbconvert_exporter": "python",
   "pygments_lexer": "ipython3",
   "version": "3.7.4"
  },
  "toc": {
   "base_numbering": 1,
   "nav_menu": {},
   "number_sections": true,
   "sideBar": true,
   "skip_h1_title": false,
   "title_cell": "Table of Contents",
   "title_sidebar": "Contents",
   "toc_cell": false,
   "toc_position": {},
   "toc_section_display": true,
   "toc_window_display": true
  },
  "vscode": {
   "interpreter": {
    "hash": "8e4665cba7aa4b1b151ee1708284a3bd913c42c8c783ec2689ad9f7256e78c76"
   }
  }
 },
 "nbformat": 4,
 "nbformat_minor": 4
}
