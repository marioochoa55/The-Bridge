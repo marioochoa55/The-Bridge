{
 "cells": [
  {
   "cell_type": "markdown",
   "metadata": {},
   "source": [
    "![imagen](./img/ejercicios.png)"
   ]
  },
  {
   "cell_type": "markdown",
   "metadata": {},
   "source": [
    "# Ejercicios Python Basics I"
   ]
  },
  {
   "cell_type": "code",
   "execution_count": 1,
   "metadata": {},
   "outputs": [
    {
     "name": "stdout",
     "output_type": "stream",
     "text": [
      "Setup complete! You're ready to start with PB I.\n"
     ]
    }
   ],
   "source": [
    "# import changedir\n",
    "from learntools.core import binder; binder.bind(globals())\n",
    "from learntools.thebridge.python_basics_i import *\n",
    "print(\"Setup complete! You're ready to start with PB I.\")\n",
    "\n"
   ]
  },
  {
   "cell_type": "markdown",
   "metadata": {},
   "source": [
    "## Ejercicio 1\n",
    "Imprime por pantalla esta cita con el siguiente formato\n",
    "\n",
    "![imagen](./img/frase_Einstein.PNG)"
   ]
  },
  {
   "cell_type": "code",
   "execution_count": 28,
   "metadata": {},
   "outputs": [
    {
     "name": "stdout",
     "output_type": "stream",
     "text": [
      "¿Por qué esta magnífica tecnología científica, \n",
      "\tque ahorra trabajo y nos hace la vida más facil, \n",
      "\t\tnos aporta tan poca felicidad? \n",
      "\t\t\tLa respuesta es esta, simplemente: porque aún no hemos aprendido a usarla con tino. \n",
      " 'Albert Einstein'\n"
     ]
    }
   ],
   "source": [
    "# Asigna a la variable `msg'\n",
    "msg = \"¿Por qué esta magnífica tecnología científica, \\n\\tque ahorra trabajo y nos hace la vida más facil, \\n\\t\\tnos aporta tan poca felicidad? \\n\\t\\t\\tLa respuesta es esta, simplemente: porque aún no hemos aprendido a usarla con tino. \\n 'Albert Einstein'\"\n",
    "print(msg)\n"
   ]
  },
  {
   "cell_type": "code",
   "execution_count": 7,
   "metadata": {
    "tags": [
     "hide-input"
    ]
   },
   "outputs": [
    {
     "data": {
      "application/vnd.jupyter.widget-view+json": {
       "model_id": "647a18e02b304c8f83b6fb8a89e99645",
       "version_major": 2,
       "version_minor": 0
      },
      "text/plain": [
       "Button(description='Check', style=ButtonStyle(button_color='#cc5533', font_style='italic', font_weight='bold')…"
      ]
     },
     "metadata": {},
     "output_type": "display_data"
    },
    {
     "data": {
      "application/vnd.jupyter.widget-view+json": {
       "model_id": "de214e031c0449cb93a1fe239ea107f9",
       "version_major": 2,
       "version_minor": 0
      },
      "text/plain": [
       "Output()"
      ]
     },
     "metadata": {},
     "output_type": "display_data"
    },
    {
     "data": {
      "application/vnd.jupyter.widget-view+json": {
       "model_id": "e879df012ac84c379ec693c1ab7c13dd",
       "version_major": 2,
       "version_minor": 0
      },
      "text/plain": [
       "Button(description='Hint 1', style=ButtonStyle(button_color='#3366cc', font_style='italic', font_weight='bold'…"
      ]
     },
     "metadata": {},
     "output_type": "display_data"
    },
    {
     "data": {
      "application/vnd.jupyter.widget-view+json": {
       "model_id": "da1af0c886c14f47a52d42192aa10ff2",
       "version_major": 2,
       "version_minor": 0
      },
      "text/plain": [
       "Output()"
      ]
     },
     "metadata": {},
     "output_type": "display_data"
    },
    {
     "data": {
      "application/vnd.jupyter.widget-view+json": {
       "model_id": "1670bef75ad241ff9ce11c4cc6a90c7e",
       "version_major": 2,
       "version_minor": 0
      },
      "text/plain": [
       "Button(description='Hint 2', style=ButtonStyle(button_color='#3366cc', font_style='italic', font_weight='bold'…"
      ]
     },
     "metadata": {},
     "output_type": "display_data"
    },
    {
     "data": {
      "application/vnd.jupyter.widget-view+json": {
       "model_id": "748159e7254244f981cd11e21aa55700",
       "version_major": 2,
       "version_minor": 0
      },
      "text/plain": [
       "Output()"
      ]
     },
     "metadata": {},
     "output_type": "display_data"
    },
    {
     "data": {
      "application/vnd.jupyter.widget-view+json": {
       "model_id": "a8594b1423d74bbcbdea6d73d88b3625",
       "version_major": 2,
       "version_minor": 0
      },
      "text/plain": [
       "Button(description='Hint 3', style=ButtonStyle(button_color='#3366cc', font_style='italic', font_weight='bold'…"
      ]
     },
     "metadata": {},
     "output_type": "display_data"
    },
    {
     "data": {
      "application/vnd.jupyter.widget-view+json": {
       "model_id": "74001610d26647ea874ed1571e63ea85",
       "version_major": 2,
       "version_minor": 0
      },
      "text/plain": [
       "Output()"
      ]
     },
     "metadata": {},
     "output_type": "display_data"
    },
    {
     "data": {
      "application/vnd.jupyter.widget-view+json": {
       "model_id": "8fb219efd7a84df0b8fdf93fb122ef8f",
       "version_major": 2,
       "version_minor": 0
      },
      "text/plain": [
       "Button(description='Solution', style=ButtonStyle(button_color='#33cc99', font_style='italic', font_weight='bol…"
      ]
     },
     "metadata": {},
     "output_type": "display_data"
    },
    {
     "data": {
      "application/vnd.jupyter.widget-view+json": {
       "model_id": "b4f10b6a34534f678d865adfaf5a4f0b",
       "version_major": 2,
       "version_minor": 0
      },
      "text/plain": [
       "Output()"
      ]
     },
     "metadata": {},
     "output_type": "display_data"
    }
   ],
   "source": [
    "q0.display_buttons()"
   ]
  },
  {
   "cell_type": "markdown",
   "metadata": {},
   "source": [
    "## Ejercicio 2\n",
    "1. Escribe el nombre de la calle de tu domicilio\n",
    "2. Escribe el numero de la calle en otra\n",
    "3. Población en una tercera\n",
    "4. Codigo postal en la cuarta variable\n",
    "5. Crea una quinta variable que concatene todas ellas\n",
    "6. Imprimela por pantalla"
   ]
  },
  {
   "cell_type": "code",
   "execution_count": 11,
   "metadata": {},
   "outputs": [
    {
     "name": "stdout",
     "output_type": "stream",
     "text": [
      "Calle Avenida Bobadilla 40 Alcaudete 23669\n"
     ]
    }
   ],
   "source": [
    "# Apartado 1\n",
    "domicilio = \"Calle Avenida Bobadilla\"\n",
    "\n",
    "# Apartado 2\n",
    "num_calle = 40\n",
    "\n",
    "# Apartado 3\n",
    "poblacion = \"Alcaudete\"\n",
    "\n",
    "# Apartado 4\n",
    "cp = 23669\n",
    "\n",
    "# Apartado 5\n",
    "final = domicilio + ' ' + str(num_calle) + ' ' + poblacion + ' ' + str(cp)\n",
    "\n",
    "# Apartado 6\n",
    "print(final)"
   ]
  },
  {
   "cell_type": "code",
   "execution_count": 9,
   "metadata": {},
   "outputs": [
    {
     "data": {
      "application/vnd.jupyter.widget-view+json": {
       "model_id": "3cef7604487e44819855ef4390ba71e7",
       "version_major": 2,
       "version_minor": 0
      },
      "text/plain": [
       "Button(description='Hint 1', style=ButtonStyle(button_color='#3366cc', font_style='italic', font_weight='bold'…"
      ]
     },
     "metadata": {},
     "output_type": "display_data"
    },
    {
     "data": {
      "application/vnd.jupyter.widget-view+json": {
       "model_id": "37e4432d6e2b428eb4bb504379108792",
       "version_major": 2,
       "version_minor": 0
      },
      "text/plain": [
       "Output()"
      ]
     },
     "metadata": {},
     "output_type": "display_data"
    },
    {
     "data": {
      "application/vnd.jupyter.widget-view+json": {
       "model_id": "9b7358229a7047d9b969920c606bf172",
       "version_major": 2,
       "version_minor": 0
      },
      "text/plain": [
       "Button(description='Hint 2', style=ButtonStyle(button_color='#3366cc', font_style='italic', font_weight='bold'…"
      ]
     },
     "metadata": {},
     "output_type": "display_data"
    },
    {
     "data": {
      "application/vnd.jupyter.widget-view+json": {
       "model_id": "b6cd04dceffc4826975fe8fd45f1eeea",
       "version_major": 2,
       "version_minor": 0
      },
      "text/plain": [
       "Output()"
      ]
     },
     "metadata": {},
     "output_type": "display_data"
    },
    {
     "data": {
      "application/vnd.jupyter.widget-view+json": {
       "model_id": "1b7b60ecfdb94cb78e07ecee49727012",
       "version_major": 2,
       "version_minor": 0
      },
      "text/plain": [
       "Button(description='Hint 3', style=ButtonStyle(button_color='#3366cc', font_style='italic', font_weight='bold'…"
      ]
     },
     "metadata": {},
     "output_type": "display_data"
    },
    {
     "data": {
      "application/vnd.jupyter.widget-view+json": {
       "model_id": "92edb50b353a424181e0f618d062a525",
       "version_major": 2,
       "version_minor": 0
      },
      "text/plain": [
       "Output()"
      ]
     },
     "metadata": {},
     "output_type": "display_data"
    },
    {
     "data": {
      "application/vnd.jupyter.widget-view+json": {
       "model_id": "2e1a010f308b434097cf7ae252fc63db",
       "version_major": 2,
       "version_minor": 0
      },
      "text/plain": [
       "Button(description='Solution', style=ButtonStyle(button_color='#33cc99', font_style='italic', font_weight='bol…"
      ]
     },
     "metadata": {},
     "output_type": "display_data"
    },
    {
     "data": {
      "application/vnd.jupyter.widget-view+json": {
       "model_id": "36bd0be05be641fd9e2b6c5b095e3d17",
       "version_major": 2,
       "version_minor": 0
      },
      "text/plain": [
       "Output()"
      ]
     },
     "metadata": {},
     "output_type": "display_data"
    }
   ],
   "source": [
    "q1.a.display_buttons()"
   ]
  },
  {
   "cell_type": "markdown",
   "metadata": {},
   "source": [
    "## Ejercicio 3\n",
    "Replica el output del ejercicio dos, pero está vez sin usar una variable intermedia que concatene todas las demas. Realiza este ejercicio en una línea, con un  único `print`"
   ]
  },
  {
   "cell_type": "code",
   "execution_count": 13,
   "metadata": {},
   "outputs": [
    {
     "name": "stdout",
     "output_type": "stream",
     "text": [
      "Calle Avenida Bobadilla 40 Alcaudete 23669\n"
     ]
    }
   ],
   "source": [
    "print(domicilio, num_calle, poblacion, cp)"
   ]
  },
  {
   "cell_type": "code",
   "execution_count": 12,
   "metadata": {},
   "outputs": [
    {
     "data": {
      "application/vnd.jupyter.widget-view+json": {
       "model_id": "5179605c39524507902ba471caa1d550",
       "version_major": 2,
       "version_minor": 0
      },
      "text/plain": [
       "Button(description='Hint 1', style=ButtonStyle(button_color='#3366cc', font_style='italic', font_weight='bold'…"
      ]
     },
     "metadata": {},
     "output_type": "display_data"
    },
    {
     "data": {
      "application/vnd.jupyter.widget-view+json": {
       "model_id": "a5893d754ad347c28875d9ef93919dfa",
       "version_major": 2,
       "version_minor": 0
      },
      "text/plain": [
       "Output()"
      ]
     },
     "metadata": {},
     "output_type": "display_data"
    },
    {
     "data": {
      "application/vnd.jupyter.widget-view+json": {
       "model_id": "3a78a6073d0c4af1b9fa6c372978883c",
       "version_major": 2,
       "version_minor": 0
      },
      "text/plain": [
       "Button(description='Solution', style=ButtonStyle(button_color='#33cc99', font_style='italic', font_weight='bol…"
      ]
     },
     "metadata": {},
     "output_type": "display_data"
    },
    {
     "data": {
      "application/vnd.jupyter.widget-view+json": {
       "model_id": "6455199bbc144fd288e15e7ef01bd911",
       "version_major": 2,
       "version_minor": 0
      },
      "text/plain": [
       "Output()"
      ]
     },
     "metadata": {},
     "output_type": "display_data"
    }
   ],
   "source": [
    "q1.b.display_buttons()"
   ]
  },
  {
   "cell_type": "markdown",
   "metadata": {},
   "source": [
    "## Ejercicio 4\n",
    "¿Qué variables están mal escritas y por qué? Realiza primero tu hipótesis y luego ejecuta las variables para comprobarlo. En ese orden :)\n",
    "\n",
    "\n",
    "1. mi_variable = \"Economía\"\n",
    "2. otra_var = \"Ejercicio\n",
    "3. True = \"Ejercicio\"\n",
    "4. mi variab1e = \"Alpha\"\n",
    "5. exec = True\n",
    "6. import = 40\n",
    "7. 81mi_variable = \"Agua\"\n",
    "8. mi_variable10 = 6"
   ]
  },
  {
   "cell_type": "markdown",
   "metadata": {},
   "source": [
    "1.Esta varible esta bien escrita.\n",
    "2.En esta segunda varible faltan la segundas comillas de cierre, al ejecutar nos debe mostrar error de sintasix\n",
    "3.Hay fallo al declarar esta variable, no podemos poner True de nombre a una variable, es una palabra reservada.\n",
    "4.Esta variable esta mal, hay un espacio al declalarla\n",
    "5.Esta variable esta bien\n",
    "6.Esta variable esta mal, no podemos poner impor de nombre a una variable. Es una palabra reservada de python\n",
    "7.Esta mal, no se puede declarar una variable que empieza por un número.\n",
    "8.Esta variable esta bien."
   ]
  },
  {
   "cell_type": "code",
   "execution_count": 15,
   "metadata": {},
   "outputs": [
    {
     "data": {
      "text/plain": [
       "'Economía'"
      ]
     },
     "execution_count": 15,
     "metadata": {},
     "output_type": "execute_result"
    }
   ],
   "source": [
    "#APARTADO 1\n",
    "mi_variable = \"Economía\"\n",
    "mi_variable"
   ]
  },
  {
   "cell_type": "code",
   "execution_count": 20,
   "metadata": {},
   "outputs": [
    {
     "ename": "SyntaxError",
     "evalue": "EOL while scanning string literal (2645861864.py, line 2)",
     "output_type": "error",
     "traceback": [
      "\u001b[1;36m  File \u001b[1;32m\"C:\\Users\\usuario\\AppData\\Local\\Temp\\ipykernel_10476\\2645861864.py\"\u001b[1;36m, line \u001b[1;32m2\u001b[0m\n\u001b[1;33m    otra_var = \"Ejercicio\u001b[0m\n\u001b[1;37m                          ^\u001b[0m\n\u001b[1;31mSyntaxError\u001b[0m\u001b[1;31m:\u001b[0m EOL while scanning string literal\n"
     ]
    }
   ],
   "source": [
    "#APARTADO 2\n",
    "otra_var = \"Ejercicio \n",
    "otra_var"
   ]
  },
  {
   "cell_type": "code",
   "execution_count": 23,
   "metadata": {},
   "outputs": [
    {
     "ename": "SyntaxError",
     "evalue": "can't assign to keyword (622293855.py, line 2)",
     "output_type": "error",
     "traceback": [
      "\u001b[1;36m  File \u001b[1;32m\"C:\\Users\\usuario\\AppData\\Local\\Temp\\ipykernel_10476\\622293855.py\"\u001b[1;36m, line \u001b[1;32m2\u001b[0m\n\u001b[1;33m    True = \"Ejercicio\"\u001b[0m\n\u001b[1;37m                      ^\u001b[0m\n\u001b[1;31mSyntaxError\u001b[0m\u001b[1;31m:\u001b[0m can't assign to keyword\n"
     ]
    }
   ],
   "source": [
    "#APARTADO 3\n",
    "True = \"Ejercicio\"\n",
    "True"
   ]
  },
  {
   "cell_type": "code",
   "execution_count": 29,
   "metadata": {},
   "outputs": [
    {
     "ename": "SyntaxError",
     "evalue": "invalid syntax (1886883625.py, line 2)",
     "output_type": "error",
     "traceback": [
      "\u001b[1;36m  File \u001b[1;32m\"C:\\Users\\usuario\\AppData\\Local\\Temp\\ipykernel_10476\\1886883625.py\"\u001b[1;36m, line \u001b[1;32m2\u001b[0m\n\u001b[1;33m    mi variab1e = \"Alpha\"\u001b[0m\n\u001b[1;37m              ^\u001b[0m\n\u001b[1;31mSyntaxError\u001b[0m\u001b[1;31m:\u001b[0m invalid syntax\n"
     ]
    }
   ],
   "source": [
    "#APARTADO 4\n",
    "mi variab1e = \"Alpha\"\n",
    "mi variab1e"
   ]
  },
  {
   "cell_type": "code",
   "execution_count": 25,
   "metadata": {},
   "outputs": [
    {
     "data": {
      "text/plain": [
       "True"
      ]
     },
     "execution_count": 25,
     "metadata": {},
     "output_type": "execute_result"
    }
   ],
   "source": [
    "#APARTADO 5\n",
    "exec = True\n",
    "exec"
   ]
  },
  {
   "cell_type": "code",
   "execution_count": 22,
   "metadata": {},
   "outputs": [
    {
     "ename": "SyntaxError",
     "evalue": "invalid syntax (3282425206.py, line 2)",
     "output_type": "error",
     "traceback": [
      "\u001b[1;36m  File \u001b[1;32m\"C:\\Users\\usuario\\AppData\\Local\\Temp\\ipykernel_10476\\3282425206.py\"\u001b[1;36m, line \u001b[1;32m2\u001b[0m\n\u001b[1;33m    import = 40\u001b[0m\n\u001b[1;37m           ^\u001b[0m\n\u001b[1;31mSyntaxError\u001b[0m\u001b[1;31m:\u001b[0m invalid syntax\n"
     ]
    }
   ],
   "source": [
    "#APARTADO 6\n",
    "import = 40\n",
    "import"
   ]
  },
  {
   "cell_type": "code",
   "execution_count": 19,
   "metadata": {},
   "outputs": [
    {
     "ename": "SyntaxError",
     "evalue": "invalid syntax (3441999109.py, line 2)",
     "output_type": "error",
     "traceback": [
      "\u001b[1;36m  File \u001b[1;32m\"C:\\Users\\usuario\\AppData\\Local\\Temp\\ipykernel_10476\\3441999109.py\"\u001b[1;36m, line \u001b[1;32m2\u001b[0m\n\u001b[1;33m    81mi_variable = \"Agua\"\u001b[0m\n\u001b[1;37m                ^\u001b[0m\n\u001b[1;31mSyntaxError\u001b[0m\u001b[1;31m:\u001b[0m invalid syntax\n"
     ]
    }
   ],
   "source": [
    "#APARTADO 7\n",
    "81mi_variable = \"Agua\"\n",
    "81mi_variable"
   ]
  },
  {
   "cell_type": "code",
   "execution_count": 18,
   "metadata": {},
   "outputs": [
    {
     "data": {
      "text/plain": [
       "6"
      ]
     },
     "execution_count": 18,
     "metadata": {},
     "output_type": "execute_result"
    }
   ],
   "source": [
    "#APARTADO 8\n",
    "mi_variable10 = 6\n",
    "mi_variable10"
   ]
  },
  {
   "cell_type": "code",
   "execution_count": 14,
   "metadata": {},
   "outputs": [
    {
     "data": {
      "application/vnd.jupyter.widget-view+json": {
       "model_id": "7ee155bc085b4e3f9aa772dc5430c9d8",
       "version_major": 2,
       "version_minor": 0
      },
      "text/plain": [
       "Button(description='Hint 1', style=ButtonStyle(button_color='#3366cc', font_style='italic', font_weight='bold'…"
      ]
     },
     "metadata": {},
     "output_type": "display_data"
    },
    {
     "data": {
      "application/vnd.jupyter.widget-view+json": {
       "model_id": "54a62c91c3744eb09dd679cce9da4711",
       "version_major": 2,
       "version_minor": 0
      },
      "text/plain": [
       "Output()"
      ]
     },
     "metadata": {},
     "output_type": "display_data"
    },
    {
     "data": {
      "application/vnd.jupyter.widget-view+json": {
       "model_id": "acb94aab21c64be19e2d8e84208559b5",
       "version_major": 2,
       "version_minor": 0
      },
      "text/plain": [
       "Button(description='Hint 2', style=ButtonStyle(button_color='#3366cc', font_style='italic', font_weight='bold'…"
      ]
     },
     "metadata": {},
     "output_type": "display_data"
    },
    {
     "data": {
      "application/vnd.jupyter.widget-view+json": {
       "model_id": "b3ce69356b60444c870e92dee596aa30",
       "version_major": 2,
       "version_minor": 0
      },
      "text/plain": [
       "Output()"
      ]
     },
     "metadata": {},
     "output_type": "display_data"
    },
    {
     "data": {
      "application/vnd.jupyter.widget-view+json": {
       "model_id": "3df99d08028c41858c7f6c6a2d85d10b",
       "version_major": 2,
       "version_minor": 0
      },
      "text/plain": [
       "Button(description='Solution', style=ButtonStyle(button_color='#33cc99', font_style='italic', font_weight='bol…"
      ]
     },
     "metadata": {},
     "output_type": "display_data"
    },
    {
     "data": {
      "application/vnd.jupyter.widget-view+json": {
       "model_id": "14e060e8b25149e49bc25ec8b011b024",
       "version_major": 2,
       "version_minor": 0
      },
      "text/plain": [
       "Output()"
      ]
     },
     "metadata": {},
     "output_type": "display_data"
    }
   ],
   "source": [
    "q2.display_buttons()"
   ]
  },
  {
   "cell_type": "markdown",
   "metadata": {},
   "source": [
    "## Ejercicio 5\n",
    "Realiza un conversor de grados Celsius a Fahrenheit. El conversor tiene que recibir el input del usuario y devolver la conversión.\n",
    "\n",
    "La conversión de grados sigue la siguiente fórmula: F = (C × 9 / 5) + 32\n",
    "\n",
    "Haz el check con 100 Celsius"
   ]
  },
  {
   "cell_type": "code",
   "execution_count": 34,
   "metadata": {},
   "outputs": [
    {
     "name": "stdout",
     "output_type": "stream",
     "text": [
      "Ingrese la temperatura deseada en grados Celsius 100\n",
      "La temperatura en grados Fahrenheit es de 212.0\n"
     ]
    }
   ],
   "source": [
    "# Asigna a las variables temp_f los grados Fahrenheit y temp_c los Celsius\n",
    "temp_c = int(input(\"Ingrese la temperatura deseada en grados Celsius \"))\n",
    "temp_f = (temp_c * 9/5) + 32\n",
    "print(\"La temperatura en grados Fahrenheit es de\" , temp_f)\n"
   ]
  },
  {
   "cell_type": "code",
   "execution_count": 30,
   "metadata": {},
   "outputs": [
    {
     "data": {
      "application/vnd.jupyter.widget-view+json": {
       "model_id": "c8a07267484a4ceeac39b23c0cd517e1",
       "version_major": 2,
       "version_minor": 0
      },
      "text/plain": [
       "Button(description='Check', style=ButtonStyle(button_color='#cc5533', font_style='italic', font_weight='bold')…"
      ]
     },
     "metadata": {},
     "output_type": "display_data"
    },
    {
     "data": {
      "application/vnd.jupyter.widget-view+json": {
       "model_id": "d076d5f2eb7945bba81304bbf295effa",
       "version_major": 2,
       "version_minor": 0
      },
      "text/plain": [
       "Output()"
      ]
     },
     "metadata": {},
     "output_type": "display_data"
    },
    {
     "data": {
      "application/vnd.jupyter.widget-view+json": {
       "model_id": "ca9f122eb59c4b42a3ce960a5b021b98",
       "version_major": 2,
       "version_minor": 0
      },
      "text/plain": [
       "Button(description='Hint 1', style=ButtonStyle(button_color='#3366cc', font_style='italic', font_weight='bold'…"
      ]
     },
     "metadata": {},
     "output_type": "display_data"
    },
    {
     "data": {
      "application/vnd.jupyter.widget-view+json": {
       "model_id": "769564052bfb4a32860d05be0ca19d8e",
       "version_major": 2,
       "version_minor": 0
      },
      "text/plain": [
       "Output()"
      ]
     },
     "metadata": {},
     "output_type": "display_data"
    },
    {
     "data": {
      "application/vnd.jupyter.widget-view+json": {
       "model_id": "68ea98270f064626bdda16c70f10362a",
       "version_major": 2,
       "version_minor": 0
      },
      "text/plain": [
       "Button(description='Hint 2', style=ButtonStyle(button_color='#3366cc', font_style='italic', font_weight='bold'…"
      ]
     },
     "metadata": {},
     "output_type": "display_data"
    },
    {
     "data": {
      "application/vnd.jupyter.widget-view+json": {
       "model_id": "c4180d0651ba433b9b89a47b8883718d",
       "version_major": 2,
       "version_minor": 0
      },
      "text/plain": [
       "Output()"
      ]
     },
     "metadata": {},
     "output_type": "display_data"
    },
    {
     "data": {
      "application/vnd.jupyter.widget-view+json": {
       "model_id": "6acb620012e74a5092a3fe59c5f3df79",
       "version_major": 2,
       "version_minor": 0
      },
      "text/plain": [
       "Button(description='Hint 3', style=ButtonStyle(button_color='#3366cc', font_style='italic', font_weight='bold'…"
      ]
     },
     "metadata": {},
     "output_type": "display_data"
    },
    {
     "data": {
      "application/vnd.jupyter.widget-view+json": {
       "model_id": "153a7264c3684ff8ab80389d2df3fa64",
       "version_major": 2,
       "version_minor": 0
      },
      "text/plain": [
       "Output()"
      ]
     },
     "metadata": {},
     "output_type": "display_data"
    },
    {
     "data": {
      "application/vnd.jupyter.widget-view+json": {
       "model_id": "f2f80004a4a2475183bcf7801a26f3da",
       "version_major": 2,
       "version_minor": 0
      },
      "text/plain": [
       "Button(description='Hint 4', style=ButtonStyle(button_color='#3366cc', font_style='italic', font_weight='bold'…"
      ]
     },
     "metadata": {},
     "output_type": "display_data"
    },
    {
     "data": {
      "application/vnd.jupyter.widget-view+json": {
       "model_id": "899eee51b3f149a19098d7a53fc99a0a",
       "version_major": 2,
       "version_minor": 0
      },
      "text/plain": [
       "Output()"
      ]
     },
     "metadata": {},
     "output_type": "display_data"
    },
    {
     "data": {
      "application/vnd.jupyter.widget-view+json": {
       "model_id": "53dee5134fc24c4d893bd9afee09dc3c",
       "version_major": 2,
       "version_minor": 0
      },
      "text/plain": [
       "Button(description='Solution', style=ButtonStyle(button_color='#33cc99', font_style='italic', font_weight='bol…"
      ]
     },
     "metadata": {},
     "output_type": "display_data"
    },
    {
     "data": {
      "application/vnd.jupyter.widget-view+json": {
       "model_id": "26d32faf0f004562a048dab2ea5f3382",
       "version_major": 2,
       "version_minor": 0
      },
      "text/plain": [
       "Output()"
      ]
     },
     "metadata": {},
     "output_type": "display_data"
    }
   ],
   "source": [
    "q3.a.display_buttons()"
   ]
  },
  {
   "cell_type": "markdown",
   "metadata": {},
   "source": [
    "## Ejercicio 6\n",
    "Comenta en la medida de lo posible el Ejercicio 5. Será suficiente con poner al menos un comentario de línea, y otro multilínea"
   ]
  },
  {
   "cell_type": "code",
   "execution_count": null,
   "metadata": {},
   "outputs": [],
   "source": [
    "temp_c = int(input(\"Ingrese la temperatura deseada en grados Celsius \"))\n",
    "#En primer lugar declaramos la variable temp_c con un input para ingresar la temperatura que deseamos convertir\n",
    "\n",
    "temp_f = (temp_c * 9/5) + 32\n",
    "#Declaramos la variable temp_f que sera la encargada de realizar las operaciones necesarias para el cambio de medida\n",
    "\n",
    "print(\"La temperatura en grados Fahrenheit es de\" , temp_f)\n",
    "#Mediante el print mostramos en pantalla el resultado de la conversión realizada"
   ]
  },
  {
   "cell_type": "code",
   "execution_count": 35,
   "metadata": {},
   "outputs": [
    {
     "data": {
      "application/vnd.jupyter.widget-view+json": {
       "model_id": "d4a6f8a33a1843e7beda832ec8dbe46b",
       "version_major": 2,
       "version_minor": 0
      },
      "text/plain": [
       "Button(description='Hint 1', style=ButtonStyle(button_color='#3366cc', font_style='italic', font_weight='bold'…"
      ]
     },
     "metadata": {},
     "output_type": "display_data"
    },
    {
     "data": {
      "application/vnd.jupyter.widget-view+json": {
       "model_id": "752fc155d6cf4223b7be7f034603d1f3",
       "version_major": 2,
       "version_minor": 0
      },
      "text/plain": [
       "Output()"
      ]
     },
     "metadata": {},
     "output_type": "display_data"
    },
    {
     "data": {
      "application/vnd.jupyter.widget-view+json": {
       "model_id": "1c189cd7626b4a3b9347146dbaf172f9",
       "version_major": 2,
       "version_minor": 0
      },
      "text/plain": [
       "Button(description='Solution', style=ButtonStyle(button_color='#33cc99', font_style='italic', font_weight='bol…"
      ]
     },
     "metadata": {},
     "output_type": "display_data"
    },
    {
     "data": {
      "application/vnd.jupyter.widget-view+json": {
       "model_id": "71a0174eebbb463b94fd3aca7bf43edb",
       "version_major": 2,
       "version_minor": 0
      },
      "text/plain": [
       "Output()"
      ]
     },
     "metadata": {},
     "output_type": "display_data"
    }
   ],
   "source": [
    "q3.b.display_buttons()"
   ]
  },
  {
   "cell_type": "code",
   "execution_count": null,
   "metadata": {},
   "outputs": [],
   "source": []
  }
 ],
 "metadata": {
  "hide_input": false,
  "kernelspec": {
   "display_name": "Python 3 (ipykernel)",
   "language": "python",
   "name": "python3"
  },
  "language_info": {
   "codemirror_mode": {
    "name": "ipython",
    "version": 3
   },
   "file_extension": ".py",
   "mimetype": "text/x-python",
   "name": "python",
   "nbconvert_exporter": "python",
   "pygments_lexer": "ipython3",
   "version": "3.7.4"
  },
  "toc": {
   "base_numbering": 1,
   "nav_menu": {},
   "number_sections": true,
   "sideBar": true,
   "skip_h1_title": false,
   "title_cell": "Table of Contents",
   "title_sidebar": "Contents",
   "toc_cell": false,
   "toc_position": {},
   "toc_section_display": true,
   "toc_window_display": true
  },
  "vscode": {
   "interpreter": {
    "hash": "8e4665cba7aa4b1b151ee1708284a3bd913c42c8c783ec2689ad9f7256e78c76"
   }
  }
 },
 "nbformat": 4,
 "nbformat_minor": 4
}
