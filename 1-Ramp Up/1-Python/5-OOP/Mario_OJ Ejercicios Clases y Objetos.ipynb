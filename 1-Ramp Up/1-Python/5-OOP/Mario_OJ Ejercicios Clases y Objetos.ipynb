{
 "cells": [
  {
   "cell_type": "markdown",
   "metadata": {},
   "source": [
    "![imagen](./img/ejercicios.png)\n",
    "\n",
    "# Ejercicios Clases y Objetos"
   ]
  },
  {
   "cell_type": "markdown",
   "metadata": {},
   "source": [
    "## Ejercicio 1\n",
    "Somos una empresa que tiene varias tiendas de electrodomesticos. Necesitamos un programa para manejar las tiendas, ver las ventas que han tenido, cuántos empleados hay, etc... Para ello vamos a modelizar la tienda en una clase, que tendrá las siguientes características:\n",
    "* Nombre clase: \"Tienda\"\n",
    "* Atributos comunes:\n",
    "    * Tipo: \"Electrodomésticos\"\n",
    "    * Abierta: True\n",
    "* Atributos propios de cada tienda:\n",
    "    * Nombre - String\n",
    "    * Dirección - String\n",
    "    * Número de empleados - int\n",
    "    * Ventas ultimos 3 meses - Lista de 3 numeros\n",
    "* Método para calcular las ventas de todos los meses, que devuelva un numero con todas las ventas.\n",
    "* Método que calcula la media de ventas de los ultimos meses, por empleado\n",
    "* Método que devuelve en un string el nombre de la tienda, junto con su dirección.\n",
    "* Método que obtiene las ventas del último mes.\n",
    "* Método para dar una proyección de las ventas en caso de haber invertido X dinero en marketing en esa tienda. Siendo X el parámetro de entrada. Si X es menor de 1000, las ventas de los ultimos 3 meses hubiesen sido de (1.2 x ventas), si es mayor o igual de 1000, las ventas hubiesen sido de (1.5 x venta). El método reescribe el atributo de ventas en los últimos 3 meses, y además devuelve las ventas con el aumento.\n",
    "\n",
    "Se pide:\n",
    "1. Implementar la clase \"Tienda\"\n",
    "2. Crear tres tiendas con datos inventados\n",
    "3. Comprueba en al menos una de ellas, todo lo implementado en la clase tienda (sus atributos, media de ventas, ventas/empleado...)\n",
    "3. Calcular las ventas del último mes de todas las tiendas. Para ello usa el bucle `for`\n",
    "4. Imprime por pantalla los nombres de las tiendas cuya dirección lleve el string \"Avenida\"\n",
    "5. Seguro que ya has hecho este apartado... Documenta la clase :)"
   ]
  },
  {
   "cell_type": "code",
   "execution_count": 130,
   "metadata": {},
   "outputs": [],
   "source": [
    "class Tienda:\n",
    "    tipo = \"Electrodomésticos\"\n",
    "    abierta = True\n",
    "\n",
    "    def __init__(self, nombre, direccion, num_empleados, ventas_3meses):\n",
    "        self.nombre = str(nombre)\n",
    "        self.direccion = direccion\n",
    "        self.num_empleados = num_empleados\n",
    "        self.ventas_3meses = ventas_3meses\n",
    "        \n",
    "\n",
    "    def ventas(self):\n",
    "        return sum(self.ventas_3meses)\n",
    "\n",
    "    def media(self):\n",
    "        return (sum(self.ventas_3meses))/self.num_empleados\n",
    "\n",
    "    def caracteristicas(self):\n",
    "        return \"Nombre tienda : \",self.nombre + \"Dirección :\", self.direccion\n",
    "        \n",
    "    def venta_ultimo_mes(self):\n",
    "        return self.ventas_3meses[-1]\n",
    "    \n",
    "    def marketing(self, marketing):\n",
    "        new_list = []\n",
    "        if marketing < 1000:\n",
    "            for x in self.ventas_3meses:\n",
    "                new_list.append(1.2*x)\n",
    "                \n",
    "        elif marketing >= 100:\n",
    "            for x in self.ventas_3meses:\n",
    "                new_list.append(1.5*x)\n",
    "        self.ventas_3meses = new_list\n",
    "        return new_list\n",
    "\n",
    "    \n",
    "\n",
    "    \n",
    "    "
   ]
  },
  {
   "cell_type": "code",
   "execution_count": 133,
   "metadata": {},
   "outputs": [
    {
     "name": "stdout",
     "output_type": "stream",
     "text": [
      "6000\n",
      "2000.0\n",
      "('Nombre tienda : ', 'ScalpersDirección :', 'Avenida Andalucía 7')\n",
      "3000\n",
      "[1500.0, 3000.0, 4500.0]\n",
      "\n",
      "\n",
      "4500.0\n",
      "2500\n",
      "9000\n",
      "\n",
      "\n",
      "Scalpers\n",
      "Sprinfield\n",
      "<bound method Tienda.ventas_ult_mes of <__main__.Tienda object at 0x000001AC2F733248>>\n"
     ]
    }
   ],
   "source": [
    "#APARTADO 2\n",
    "tienda1 = Tienda(\"Scalpers\", \"Avenida Andalucía 7\", 3, [1000,2000,3000])\n",
    "tienda2 = Tienda(\"Adidas\", \"Calle Puerta del Sol 3\", 20, [5000, 1000, 2500])\n",
    "tienda3 = Tienda(\"Sprinfield\", \"Avenida de la Paz 42\", 20, [4000, 6000, 9000])\n",
    "\n",
    "#APARTADO 3\n",
    "print(tienda1.ventas())\n",
    "\n",
    "print(tienda1.media())\n",
    "\n",
    "print(tienda1.caracteristicas())\n",
    "\n",
    "print(tienda1.venta_ultimo_mes())\n",
    "\n",
    "print(tienda1.marketing(2000))\n",
    "\n",
    "print(\"\\n\")\n",
    "\n",
    "#APARTADO 4 \n",
    "#En la tienda 1 me coge el ultimo valor pero después de aplicar el metodo marketing del apartado anterior ya que \n",
    "# estos valores han sido metidos en una lista nueva vacía\n",
    "for i in range(0, len(tienda1.ventas_3meses)):\n",
    "    if i == (len(tienda1.ventas_3meses)-1):\n",
    "        print(str(tienda1.ventas_3meses[i]))\n",
    "for i in range(0, len(tienda2.ventas_3meses)):\n",
    "    if i == (len(tienda2.ventas_3meses)-1):\n",
    "        print(str(tienda2.ventas_3meses[i]))\n",
    "for i in range(0, len(tienda1.ventas_3meses)):\n",
    "    if i == (len(tienda3.ventas_3meses)-1):\n",
    "        print(str(tienda3.ventas_3meses[i]))\n",
    "        \n",
    "print(\"\\n\")\n",
    "\n",
    "#APARTADO 5\n",
    "if \"Avenida\" in tienda1.direccion:\n",
    "    print(tienda1.nombre)\n",
    "\n",
    "if \"Avenida\" in tienda2.direccion:\n",
    "    print(tienda2.nombre)\n",
    "\n",
    "if \"Avenida\" in tienda1.direccion:\n",
    "    print(tienda3.nombre)\n",
    "\n",
    "print(tienda1.ventas_ult_mes)"
   ]
  },
  {
   "cell_type": "markdown",
   "metadata": {},
   "source": [
    "## Ejercicio 2\n",
    "En este ejercicio vamos a implementar una clase *Perro* en Python. La clase tiene las siguientes características:\n",
    "* Cosas que sabemos seguro que tiene un perro\n",
    "    * Tiene 4 patas\n",
    "    * 2 orejas\n",
    "    * 2 ojos\n",
    "    * Una velocidad de 0. Por defecto, el perro está parado\n",
    "* Cuando se inicialice:\n",
    "    * El perro será de una determinada raza\n",
    "    * Por defecto tendrá pelo \"Marrón\", a no ser que se diga lo contrario.\n",
    "    * Por defecto no tendrá dueño, a no ser que se diga lo contrario.\n",
    "    \n",
    "* Dispondrá también de un método llamado andar, que tiene un argumento de entrada (aumento_velocidad). Este valor se le sumará a la velocidad que ya llevaba el perro.\n",
    "* Necesita otro método (parar), donde pondremos la velocidad a 0.\n",
    "* Otro método llamado \"ladrar\", que tendrá un argumento de entrada, y la salida será el siguiente string: \"GUAU!\" + el argumento de entrada.\n",
    "\n",
    "\n",
    "Se pide:\n",
    "* Implementa la clase *Perro*\n",
    "* Crea un objeto de tipo *Perro*, sin dueño\n",
    "* Comprueba que están bien todos sus atributos\n",
    "* Prueba que ande, y comprueba su velocidad\n",
    "* Páralo\n",
    "* Documenta la clase *Perro*"
   ]
  },
  {
   "cell_type": "code",
   "execution_count": 11,
   "metadata": {},
   "outputs": [],
   "source": [
    "\n",
    "class Dog:\n",
    "    patas = 4 \n",
    "    orejas = 2 \n",
    "    ojos = 2 \n",
    "    velocidad = 0\n",
    "    dueno = False\n",
    "\n",
    "    def __init__(self, raza):\n",
    "        self.raza = raza\n",
    "        \n",
    "\n",
    "    def andar(self, aumento_velocidad):\n",
    "        a = self.velocidad + aumento_velocidad\n",
    "        return a\n",
    "\n",
    "    def parar(self):\n",
    "        c = 0\n",
    "        return c\n",
    "\n",
    "    def ladrar(self, argumento_entrada):\n",
    "        return \"GUAU !\" , + self.argumento_entrada\n",
    "    \n",
    "        \n",
    "\n",
    "\n",
    "\n",
    "    "
   ]
  },
  {
   "cell_type": "code",
   "execution_count": 13,
   "metadata": {},
   "outputs": [
    {
     "ename": "TypeError",
     "evalue": "__init__() takes 2 positional arguments but 3 were given",
     "output_type": "error",
     "traceback": [
      "\u001b[1;31m---------------------------------------------------------------------------\u001b[0m",
      "\u001b[1;31mTypeError\u001b[0m                                 Traceback (most recent call last)",
      "\u001b[1;32m~\\AppData\\Local\\Temp\\ipykernel_13840\\91882383.py\u001b[0m in \u001b[0;36m<module>\u001b[1;34m\u001b[0m\n\u001b[1;32m----> 1\u001b[1;33m \u001b[0mdog1\u001b[0m \u001b[1;33m=\u001b[0m \u001b[0mDog\u001b[0m\u001b[1;33m(\u001b[0m\u001b[1;34m\"dalmata\"\u001b[0m\u001b[1;33m,\u001b[0m \u001b[1;36m0\u001b[0m\u001b[1;33m)\u001b[0m\u001b[1;33m\u001b[0m\u001b[1;33m\u001b[0m\u001b[0m\n\u001b[0m\u001b[0;32m      2\u001b[0m \u001b[1;33m\u001b[0m\u001b[0m\n\u001b[0;32m      3\u001b[0m \u001b[0mprint\u001b[0m\u001b[1;33m(\u001b[0m\u001b[0mdog1\u001b[0m\u001b[1;33m.\u001b[0m\u001b[0mandar\u001b[0m\u001b[1;33m(\u001b[0m\u001b[1;36m7\u001b[0m\u001b[1;33m)\u001b[0m\u001b[1;33m)\u001b[0m\u001b[1;33m\u001b[0m\u001b[1;33m\u001b[0m\u001b[0m\n\u001b[0;32m      4\u001b[0m \u001b[0mprint\u001b[0m\u001b[1;33m(\u001b[0m\u001b[0mdog1\u001b[0m\u001b[1;33m.\u001b[0m\u001b[0mparar\u001b[0m\u001b[1;33m(\u001b[0m\u001b[1;33m)\u001b[0m\u001b[1;33m)\u001b[0m\u001b[1;33m\u001b[0m\u001b[1;33m\u001b[0m\u001b[0m\n\u001b[0;32m      5\u001b[0m \u001b[0mprint\u001b[0m\u001b[1;33m(\u001b[0m\u001b[0mdog1\u001b[0m\u001b[1;33m.\u001b[0m\u001b[0mladrar\u001b[0m\u001b[1;33m(\u001b[0m\u001b[1;34m\"Me llamo Mario\"\u001b[0m\u001b[1;33m)\u001b[0m\u001b[1;33m)\u001b[0m\u001b[1;33m\u001b[0m\u001b[1;33m\u001b[0m\u001b[0m\n",
      "\u001b[1;31mTypeError\u001b[0m: __init__() takes 2 positional arguments but 3 were given"
     ]
    }
   ],
   "source": [
    "dog1 = Dog(\"dalmata\")\n",
    "\n",
    "print(dog1.andar(7))\n",
    "print(dog1.parar())\n",
    "print(dog1.ladrar(\"Me llamo Mario\"))\n",
    "\n",
    "#Me da fallo al crear el tipi perro"
   ]
  },
  {
   "cell_type": "code",
   "execution_count": null,
   "metadata": {},
   "outputs": [],
   "source": []
  },
  {
   "cell_type": "code",
   "execution_count": null,
   "metadata": {},
   "outputs": [],
   "source": []
  }
 ],
 "metadata": {
  "kernelspec": {
   "display_name": "Python 3.7.4 64-bit",
   "language": "python",
   "name": "python3"
  },
  "language_info": {
   "codemirror_mode": {
    "name": "ipython",
    "version": 3
   },
   "file_extension": ".py",
   "mimetype": "text/x-python",
   "name": "python",
   "nbconvert_exporter": "python",
   "pygments_lexer": "ipython3",
   "version": "3.7.4"
  },
  "vscode": {
   "interpreter": {
    "hash": "b213cd0c7dc86fb09f7378e09d09f37ed50992d496516f682658e1f7568be4e1"
   }
  }
 },
 "nbformat": 4,
 "nbformat_minor": 4
}
