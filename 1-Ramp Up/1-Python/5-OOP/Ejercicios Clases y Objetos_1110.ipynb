{
 "cells": [
  {
   "cell_type": "markdown",
   "metadata": {},
   "source": [
    "![imagen](./img/ejercicios.png)\n",
    "\n",
    "# Ejercicios Clases y Objetos"
   ]
  },
  {
   "cell_type": "markdown",
   "metadata": {},
   "source": [
    "## Ejercicio 1\n",
    "Somos una empresa que tiene varias tiendas de electrodomesticos. Necesitamos un programa para manejar las tiendas, ver las ventas que han tenido, cuántos empleados hay, etc... Para ello vamos a modelizar la tienda en una clase, que tendrá las siguientes características:\n",
    "* Nombre clase: \"Tienda\"\n",
    "* Atributos comunes:\n",
    "    * Tipo: \"Electrodomésticos\"\n",
    "    * Abierta: True\n",
    "* Atributos propios de cada tienda:\n",
    "    * Nombre - String\n",
    "    * Dirección - String\n",
    "    * Número de empleados - int\n",
    "    * Ventas ultimos 3 meses - Lista de 3 numeros\n",
    "* Método para calcular las ventas de todos los meses, que devuelva un numero con todas las ventas.\n",
    "* Método que calcula la media de ventas de los ultimos meses, por empleado\n",
    "* Método que devuelve en un string el nombre de la tienda, junto con su dirección.\n",
    "* Método que obtiene las ventas del último mes.\n",
    "* Método para dar una proyección de las ventas en caso de haber invertido X dinero en marketing en esa tienda. Siendo X el parámetro de entrada. Si X es menor de 1000, las ventas de los ultimos 3 meses hubiesen sido de (1.2 x ventas), si es mayor o igual de 1000, las ventas hubiesen sido de (1.5 x venta). El método reescribe el atributo de ventas en los últimos 3 meses, y además devuelve las ventas con el aumento.\n",
    "\n",
    "Se pide:\n",
    "1. Implementar la clase \"Tienda\"\n",
    "2. Crear tres tiendas con datos inventados\n",
    "3. Comprueba en al menos una de ellas, todo lo implementado en la clase tienda (sus atributos, media de ventas, ventas/empleado...)\n",
    "3. Calcular las ventas del último mes de todas las tiendas. Para ello usa el bucle `for`\n",
    "4. Imprime por pantalla los nombres de las tiendas cuya dirección lleve el string \"Avenida\"\n",
    "5. Seguro que ya has hecho este apartado... Documenta la clase :)"
   ]
  },
  {
   "cell_type": "code",
   "execution_count": 19,
   "metadata": {},
   "outputs": [],
   "source": [
    "class Tienda:\n",
    "    '''\n",
    "    Clase que modela una cadena de tiendas\n",
    "    '''\n",
    "\n",
    "    tipo = \"Electrodoméstico\"\n",
    "    abierta = True\n",
    "\n",
    "    def __init__(self, nombre, direccion, empleados, ventas_3m):\n",
    "        '''\n",
    "        Inputs: \n",
    "            - nombre (str)\n",
    "            - direccion (str)\n",
    "            - empleados (int)\n",
    "            - ventas_3m (list[float])\n",
    "        '''\n",
    "        self.nombre = nombre\n",
    "        self.direccion = direccion\n",
    "        self.empleados = empleados\n",
    "        self.ventas = ventas_3m\n",
    "\n",
    "    def total_ventas(self):\n",
    "        '''\n",
    "        Ventas totales en los últimos 3 meses\n",
    "        '''\n",
    "        return sum(self.ventas)\n",
    "    \n",
    "    def ventas_empleado(self):\n",
    "        '''\n",
    "        Ventas totales por empleado en los últimos 3 meses\n",
    "        '''\n",
    "        return self.total_ventas() / self.empleados\n",
    "\n",
    "    def local_tienda(self):\n",
    "        '''\n",
    "        Muestra info sobre la ubicación del local\n",
    "        '''\n",
    "        return f\"La tienda {self.nombre} está en {self.direccion}\"\n",
    "\n",
    "    def ventas_ult_mes(self):\n",
    "        '''\n",
    "        Información mása reciente de ventas disponible\n",
    "        '''\n",
    "        return self.ventas[-1]\n",
    "\n",
    "    def proj_mkt(self, marketing):\n",
    "        '''\n",
    "        Proyección de ventas proporcionada por Marketing.\n",
    "\n",
    "        Si Marketing invierte hasta 1000€, se incrementan en un 20% las ventas \n",
    "        con respecto a los últimos 3 meses. En caso contrario, lo hacen un 50%.\n",
    "\n",
    "        Input:\n",
    "            - marketing (float): Inversión de Marketing\n",
    "        Output:\n",
    "            - mkt_update (list[float]): Proyección\n",
    "        '''\n",
    "\n",
    "        mkt_update = []\n",
    "        for i in self.ventas:\n",
    "            if marketing<1000:\n",
    "                mkt_update.append(i * 1.2)\n",
    "            else:\n",
    "                mkt_update.append(i * 1.5)\n",
    "        \n",
    "        self.ventas = mkt_update\n",
    "        \n",
    "        return mkt_update"
   ]
  },
  {
   "cell_type": "code",
   "execution_count": 33,
   "metadata": {},
   "outputs": [
    {
     "name": "stdout",
     "output_type": "stream",
     "text": [
      "{'nombre': 'Tien21', 'direccion': 'Calle Sardinero SN', 'empleados': 6, 'ventas': [100, 150, 75]}\n",
      "325\n",
      "54.166666666666664\n",
      "La tienda Tien21 está en Calle Sardinero SN\n",
      "75\n",
      "[150.0, 225.0, 112.5]\n"
     ]
    }
   ],
   "source": [
    "tienda1 = Tienda(\"Tien21\", \"Calle Sardinero SN\", 6, [100, 150, 75])\n",
    "print(tienda1.__dict__)\n",
    "print(tienda1.total_ventas())\n",
    "print(tienda1.ventas_empleado())\n",
    "print(tienda1.local_tienda())\n",
    "print(tienda1.ventas_ult_mes())\n",
    "print(tienda1.proj_mkt(2000))"
   ]
  },
  {
   "cell_type": "code",
   "execution_count": 21,
   "metadata": {},
   "outputs": [
    {
     "name": "stdout",
     "output_type": "stream",
     "text": [
      "\n",
      "    Clase que modela una cadena de tiendas\n",
      "    \n"
     ]
    }
   ],
   "source": [
    "print(Tienda.__doc__)"
   ]
  },
  {
   "cell_type": "markdown",
   "metadata": {},
   "source": [
    "## Ejercicio 2\n",
    "En este ejercicio vamos a implementar una clase *Perro* en Python. La clase tiene las siguientes características:\n",
    "* Cosas que sabemos seguro que tiene un perro\n",
    "    * Tiene 4 patas\n",
    "    * 2 orejas\n",
    "    * 2 ojos\n",
    "    * Una velocidad de 0. Por defecto, el perro está parado\n",
    "* Cuando se inicialice:\n",
    "    * El perro será de una determinada raza\n",
    "    * Por defecto tendrá pelo \"Marrón\", a no ser que se diga lo contrario.\n",
    "    * Por defecto no tendrá dueño, a no ser que se diga lo contrario.\n",
    "    \n",
    "* Dispondrá también de un método llamado andar, que tiene un argumento de entrada (aumento_velocidad). Este valor se le sumará a la velocidad que ya llevaba el perro.\n",
    "* Necesita otro método (parar), donde pondremos la velocidad a 0.\n",
    "* Otro método llamado \"ladrar\", que tendrá un argumento de entrada, y la salida será el siguiente string: \"GUAU!\" + el argumento de entrada.\n",
    "\n",
    "\n",
    "Se pide:\n",
    "* Implementa la clase *Perro*\n",
    "* Crea un objeto de tipo *Perro*, sin dueño\n",
    "* Comprueba que están bien todos sus atributos\n",
    "* Prueba que ande, y comprueba su velocidad\n",
    "* Páralo\n",
    "* Documenta la clase *Perro*"
   ]
  },
  {
   "cell_type": "code",
   "execution_count": 97,
   "metadata": {},
   "outputs": [],
   "source": [
    "class Perro:\n",
    "    '''\n",
    "    Clase que modela a un Perro\n",
    "    '''\n",
    "    patas = 4\n",
    "    orejas = 2\n",
    "    ojos = 2\n",
    "    velocidad = 0\n",
    "    \n",
    "    def __init__(self, raza, color=\"Marron\", dueno=False):\n",
    "        '''\n",
    "        Inicializamos:\n",
    "            - raza (str)\n",
    "            - color (str)\n",
    "            - dueno (bool): Tiene dueño T/F\n",
    "        '''\n",
    "        self.raza = raza\n",
    "        self.color = color\n",
    "        self.dueno = dueno\n",
    "    \n",
    "    def andar(self, aumento_velocidad):\n",
    "        '''\n",
    "        Incrementa la velocidad en una cantidad indicada (km/h) como argumento\n",
    "\n",
    "        Input:\n",
    "            - aumento_velocidad (float)\n",
    "        '''\n",
    "        # self.velocidad = aumento_velocidad\n",
    "        self.velocidad += aumento_velocidad\n",
    "    \n",
    "    def parar(self):\n",
    "        '''\n",
    "        Se detiene el perro\n",
    "        '''\n",
    "        self.velocidad = 0\n",
    "\n",
    "    def ladrar(self, ladrido):\n",
    "        '''\n",
    "        Ladrido complementado por un input que le demos\n",
    "        '''\n",
    "        return f\"GUAU!{ladrido}\""
   ]
  },
  {
   "cell_type": "code",
   "execution_count": 98,
   "metadata": {},
   "outputs": [],
   "source": [
    "chihuahua = Perro(\"Chihuahua\", dueno=True)"
   ]
  },
  {
   "cell_type": "code",
   "execution_count": 99,
   "metadata": {},
   "outputs": [
    {
     "name": "stdout",
     "output_type": "stream",
     "text": [
      "4\n",
      "0\n",
      "Chihuahua\n",
      "True\n",
      "None\n",
      "3\n",
      "None\n",
      "0\n",
      "GUAU!BOF\n"
     ]
    }
   ],
   "source": [
    "print(chihuahua.patas)\n",
    "print(chihuahua.velocidad)\n",
    "print(chihuahua.raza)\n",
    "print(chihuahua.dueno)\n",
    "print(chihuahua.andar(3))\n",
    "print(chihuahua.velocidad)\n",
    "print(chihuahua.parar())\n",
    "print(chihuahua.velocidad)\n",
    "print(chihuahua.ladrar(\"BOF\"))"
   ]
  },
  {
   "cell_type": "code",
   "execution_count": null,
   "metadata": {},
   "outputs": [],
   "source": []
  }
 ],
 "metadata": {
  "kernelspec": {
   "display_name": "Python 3.7.4 64-bit",
   "language": "python",
   "name": "python3"
  },
  "language_info": {
   "codemirror_mode": {
    "name": "ipython",
    "version": 3
   },
   "file_extension": ".py",
   "mimetype": "text/x-python",
   "name": "python",
   "nbconvert_exporter": "python",
   "pygments_lexer": "ipython3",
   "version": "3.7.4"
  },
  "vscode": {
   "interpreter": {
    "hash": "b8ee907ad2201c6d9588d3f44c3076f7bb061a669037d938a152617689572a16"
   }
  }
 },
 "nbformat": 4,
 "nbformat_minor": 4
}
