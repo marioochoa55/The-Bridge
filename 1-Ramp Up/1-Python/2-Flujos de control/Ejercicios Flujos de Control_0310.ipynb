{
 "cells": [
  {
   "cell_type": "markdown",
   "metadata": {},
   "source": [
    "![imagen](./img/ejercicios.png)"
   ]
  },
  {
   "cell_type": "markdown",
   "metadata": {},
   "source": [
    "# Ejercicios Flujos de control"
   ]
  },
  {
   "cell_type": "markdown",
   "metadata": {},
   "source": [
    "## Ejercicio 1\n",
    "Declara una variable numérica que será una hora cualquiera del día. Implementa mediante sentencias `if/elif/else` la siguiente casuística:\n",
    "\n",
    "* Si es entre las 0 y las 8, print \"Durmiendo\"\n",
    "* Si es entre las 9 y las 18, print \"Trabajando\"\n",
    "* Si es entre las 19 y las 21, print \"Clase\"\n",
    "* Si es entre las 22 y las 24, print \"Descanso\"\n",
    "* En cualquier otro caso, print \"Transporte o error\""
   ]
  },
  {
   "cell_type": "code",
   "execution_count": 5,
   "metadata": {},
   "outputs": [
    {
     "name": "stdout",
     "output_type": "stream",
     "text": [
      "9\n",
      "17\n",
      "13\n"
     ]
    }
   ],
   "source": [
    "# Opción 1: coger la hora actual\n",
    "from datetime import datetime\n",
    "hour = datetime.now().hour\n",
    "print(hour)\n",
    "\n",
    "# Opción 2: Usar input\n",
    "hour = int(input(\"Que hora es? (formato 24h)\"))\n",
    "print(hour)\n",
    "\n",
    "# Opción 3: Crear una variable y definirla con un valor numérico\n",
    "hour = 13\n",
    "print(hour)"
   ]
  },
  {
   "cell_type": "code",
   "execution_count": null,
   "metadata": {},
   "outputs": [],
   "source": [
    "if (hour >= 1)&(hour<=8):\n",
    "    print(\"Durmiendo\")\n",
    "elif (hour>=9)&(hour<=18):\n",
    "    print(\"Trabajando\")\n",
    "elif (hour>=19)&(hour<=21):\n",
    "    print(\"Clase\")\n",
    "elif (hour>=22)&(hour<=24):\n",
    "    print(\"Descanso\")\n",
    "else:\n",
    "    print(\"Transporte o error\")"
   ]
  },
  {
   "cell_type": "code",
   "execution_count": 10,
   "metadata": {},
   "outputs": [
    {
     "name": "stdout",
     "output_type": "stream",
     "text": [
      "Durmiendo\n",
      "Trabajando\n",
      "Clase\n",
      "Descanso\n",
      "Transporte o error\n",
      "\n",
      "\n",
      "\n",
      "Transporte o error\n",
      "Durmiendo\n",
      "Durmiendo\n",
      "Durmiendo\n",
      "Durmiendo\n",
      "Durmiendo\n",
      "Durmiendo\n",
      "Durmiendo\n",
      "Durmiendo\n",
      "Trabajando\n",
      "Trabajando\n",
      "Trabajando\n",
      "Trabajando\n",
      "Trabajando\n",
      "Trabajando\n",
      "Trabajando\n",
      "Trabajando\n",
      "Trabajando\n",
      "Trabajando\n",
      "Clase\n",
      "Clase\n",
      "Clase\n",
      "Descanso\n",
      "Descanso\n",
      "Descanso\n"
     ]
    }
   ],
   "source": [
    "ls_horas = [5, 11, 20, 23, 27]\n",
    "rg_horas = range(0, 25, 1)\n",
    "\n",
    "for i in ls_horas:\n",
    "    if (i >= 1)&(i<=8):\n",
    "        print(\"Durmiendo\")\n",
    "    elif (i>=9)&(i<=18):\n",
    "        print(\"Trabajando\")\n",
    "    elif (i>=19)&(i<=21):\n",
    "        print(\"Clase\")\n",
    "    elif (i>=22)&(i<=24):\n",
    "        print(\"Descanso\")\n",
    "    else:\n",
    "        print(\"Transporte o error\")\n",
    "\n",
    "print(\"\\n\\n\")\n",
    "\n",
    "for i in rg_horas:\n",
    "    if (i >= 1)&(i<=8):\n",
    "        print(\"Durmiendo\")\n",
    "    elif (i>=9)&(i<=18):\n",
    "        print(\"Trabajando\")\n",
    "    elif (i>=19)&(i<=21):\n",
    "        print(\"Clase\")\n",
    "    elif (i>=22)&(i<=24):\n",
    "        print(\"Descanso\")\n",
    "    else:\n",
    "        print(\"Transporte o error\")"
   ]
  },
  {
   "cell_type": "markdown",
   "metadata": {},
   "source": [
    "## Ejercicio 2\n",
    "En este ejercicio vamos a implementar un calculador de precios de casas muy sencillo. Tenemos las siguientes variables:\n",
    "\n",
    "> superficie\n",
    ">\n",
    "> distrito\n",
    "\n",
    "Implementa mediante sentencias `if/elif/else` la siguiente casuística:\n",
    "\n",
    "1. Si el distrito es \"Moncloa\" o \"Centro\", y además la superficie es superior a 100 metros cuadrados, el precio de la casa es de 1000\n",
    "2. Si el distrito es \"Salamanca\", y además la superficie de la casa es al menos de 150 metros, el precio de la casa es de 1500\n",
    "3. Si el distrito no es \"Retiro\" y la superficie está entre 60 y 80 metros, el precio es de 600\n",
    "4. En cualquier otro caso, el precio será de 0"
   ]
  },
  {
   "cell_type": "code",
   "execution_count": 20,
   "metadata": {},
   "outputs": [
    {
     "name": "stdout",
     "output_type": "stream",
     "text": [
      "El precio de la casa es de 0€\n"
     ]
    }
   ],
   "source": [
    "surf = float(input(\"Introduzca la superficie de la casa\"))\n",
    "dist = input(\"Introduzca el distrito\")\n",
    "\n",
    "if ((dist == \"Moncloa\")|(dist == \"Centro\"))&(surf > 100):\n",
    "    precio = 1000\n",
    "elif (dist == \"Salamanca\")&(surf >= 150):\n",
    "    precio = 1500\n",
    "elif (dist != \"Retiro\")&(60 <= surf <= 80):\n",
    "    precio = 600\n",
    "else:\n",
    "    precio = 0\n",
    "\n",
    "\n",
    "print(f\"El precio de la casa es de {precio}€\")\n"
   ]
  },
  {
   "cell_type": "markdown",
   "metadata": {},
   "source": [
    "## Ejercicio 3\n",
    "En este ejercicio vamos a realizar un programa muy parecido. Para este caso queremos que se cumplan las siguientes condiciones:\n",
    "\n",
    "1. Primero se compruebe si el distrito es \"Retiro\". Si es asi, que imprima \"Distrito Retiro\", y si no, \"Otro distrito\"\n",
    "2. Si el distrito es \"Retiro\", comprueba si si la superficie es mayor de 100 metros cuadrados. En tal caso que imprima un precio de 1000, y si no, de 500.\n",
    "\n",
    "Hay que usar `ifs` anidados"
   ]
  },
  {
   "cell_type": "code",
   "execution_count": 26,
   "metadata": {},
   "outputs": [
    {
     "name": "stdout",
     "output_type": "stream",
     "text": [
      "Distrito Retiro\n",
      "El precio de la casa del Retiro con 150m^2 es de 1000\n"
     ]
    }
   ],
   "source": [
    "surf = float(input(\"Introduzca la superficie de la casa\"))\n",
    "dist = input(\"Introduzca el distrito\")\n",
    "\n",
    "if (dist == \"Retiro\"):\n",
    "    print(\"Distrito Retiro\")\n",
    "\n",
    "    if (surf > 100):\n",
    "        precio = 1000\n",
    "    else:\n",
    "        precio = 500\n",
    "    \n",
    "    print(f\"El precio de la casa del Retiro con {surf:.0f}m^2 es de {precio}\")\n",
    "else:\n",
    "    print(\"Otro distrito\")"
   ]
  },
  {
   "cell_type": "markdown",
   "metadata": {},
   "source": [
    "## Ejercicio 4\n",
    "Escribe un programa que tenga dos variables: un numero, y una lista numérica. El programa debe recorrer la lista e imprimir por pantalla cada elemento de la lista multiplicado por el número"
   ]
  },
  {
   "cell_type": "code",
   "execution_count": 29,
   "metadata": {},
   "outputs": [
    {
     "name": "stdout",
     "output_type": "stream",
     "text": [
      "20\n",
      "40\n",
      "60\n"
     ]
    }
   ],
   "source": [
    "num = 10\n",
    "ls_num = [2, 4, 6]\n",
    "\n",
    "for i in ls_num:\n",
    "    print(num * i)"
   ]
  },
  {
   "cell_type": "code",
   "execution_count": 30,
   "metadata": {},
   "outputs": [
    {
     "name": "stdout",
     "output_type": "stream",
     "text": [
      "20\n",
      "40\n",
      "60\n"
     ]
    }
   ],
   "source": [
    "for idx in range(len(ls_num)):\n",
    "    print(ls_num[idx] * num)"
   ]
  },
  {
   "cell_type": "markdown",
   "metadata": {},
   "source": [
    "## Ejercicio 5\n",
    "Imprime por pantalla los números -10 al -1. En ese orden. Consulta [la documentación](https://www.w3schools.com/python/ref_func_range.asp) de `range`"
   ]
  },
  {
   "cell_type": "code",
   "execution_count": 33,
   "metadata": {},
   "outputs": [
    {
     "data": {
      "text/plain": [
       "[-10, -9, -8, -7, -6, -5, -4, -3, -2, -1]"
      ]
     },
     "execution_count": 33,
     "metadata": {},
     "output_type": "execute_result"
    }
   ],
   "source": [
    "list(range(-10, 0))"
   ]
  },
  {
   "cell_type": "markdown",
   "metadata": {},
   "source": [
    "## Ejercicio 6\n",
    "Dada la siguiente lista:\n",
    "\n",
    "> list1 = [12, 15, 32, 42, 55, 75, 122, 132, 150, 180, 200]\n",
    "\n",
    "Implementa un programa que los recorra e imprima por pantalla todos los divisibles por 5. Si nos encontramos con alguno que sea mayor que 150, detener el bucle."
   ]
  },
  {
   "cell_type": "code",
   "execution_count": 37,
   "metadata": {},
   "outputs": [
    {
     "name": "stdout",
     "output_type": "stream",
     "text": [
      "15\n",
      "55\n",
      "75\n"
     ]
    }
   ],
   "source": [
    "list1 = [12, 15, 32, 42, 55, 75, 122, 132, 150, 180, 200]\n",
    "\n",
    "for i in list1:\n",
    "    if i >= 150:\n",
    "        break\n",
    "    if (i % 5 == 0):\n",
    "        print(i)"
   ]
  },
  {
   "cell_type": "markdown",
   "metadata": {},
   "source": [
    "## Ejercicio 7\n",
    "Escribe un programa en Python que imprima por pantalla todos los números divisibles por 5 y divisibles por 7, dentro del rango de valores (150, 350)"
   ]
  },
  {
   "cell_type": "code",
   "execution_count": 38,
   "metadata": {},
   "outputs": [
    {
     "name": "stdout",
     "output_type": "stream",
     "text": [
      "175\n",
      "210\n",
      "245\n",
      "280\n",
      "315\n",
      "350\n"
     ]
    }
   ],
   "source": [
    "list2 = range(150, 351)\n",
    "\n",
    "for i in list2:\n",
    "    if (i%5 == 0)&(i%7 == 0):\n",
    "        print(i)"
   ]
  },
  {
   "cell_type": "code",
   "execution_count": null,
   "metadata": {},
   "outputs": [],
   "source": [
    "for i in list2:\n",
    "    if (i%5 == 0):\n",
    "        if (i%7 == 0):\n",
    "            print(i)"
   ]
  },
  {
   "cell_type": "code",
   "execution_count": 39,
   "metadata": {},
   "outputs": [
    {
     "name": "stdout",
     "output_type": "stream",
     "text": [
      "The Zen of Python, by Tim Peters\n",
      "\n",
      "Beautiful is better than ugly.\n",
      "Explicit is better than implicit.\n",
      "Simple is better than complex.\n",
      "Complex is better than complicated.\n",
      "Flat is better than nested.\n",
      "Sparse is better than dense.\n",
      "Readability counts.\n",
      "Special cases aren't special enough to break the rules.\n",
      "Although practicality beats purity.\n",
      "Errors should never pass silently.\n",
      "Unless explicitly silenced.\n",
      "In the face of ambiguity, refuse the temptation to guess.\n",
      "There should be one-- and preferably only one --obvious way to do it.\n",
      "Although that way may not be obvious at first unless you're Dutch.\n",
      "Now is better than never.\n",
      "Although never is often better than *right* now.\n",
      "If the implementation is hard to explain, it's a bad idea.\n",
      "If the implementation is easy to explain, it may be a good idea.\n",
      "Namespaces are one honking great idea -- let's do more of those!\n"
     ]
    }
   ],
   "source": [
    "import this"
   ]
  },
  {
   "cell_type": "markdown",
   "metadata": {},
   "source": [
    "## Ejercicio 8\n",
    "Implementa un programa que imprima por pantalla el siguiente patrón\n",
    "\n",
    "5 4 3 2 1 \n",
    "\n",
    "4 3 2 1 \n",
    "\n",
    "3 2 1 \n",
    "\n",
    "2 1 \n",
    "\n",
    "1\n",
    "\n",
    "NOTA: NO hay lineas en blanco entre una línea y otra."
   ]
  },
  {
   "cell_type": "code",
   "execution_count": 49,
   "metadata": {},
   "outputs": [
    {
     "name": "stdout",
     "output_type": "stream",
     "text": [
      "5 4 3 2 1 \n",
      "\n",
      "4 3 2 1 \n",
      "\n",
      "3 2 1 \n",
      "\n",
      "2 1 \n",
      "\n",
      "1 \n",
      "\n"
     ]
    }
   ],
   "source": [
    "for j in range(5, 0, -1):\n",
    "    for i in range(j, 0, -1):\n",
    "        print(i, end=' ')\n",
    "    print(\"\\n\")"
   ]
  },
  {
   "cell_type": "code",
   "execution_count": 45,
   "metadata": {},
   "outputs": [
    {
     "name": "stdout",
     "output_type": "stream",
     "text": [
      "5 4 3 2 1 \n",
      "\n",
      "4 3 2 1 \n",
      "\n",
      "3 2 1 \n",
      "\n",
      "2 1 \n",
      "\n",
      "1 \n",
      "\n"
     ]
    }
   ],
   "source": [
    "for j in range(5, 0, -1):\n",
    "    for i in range(j, 0, -1):\n",
    "        print(i, end=' ')\n",
    "    print(\"\\n\")"
   ]
  },
  {
   "cell_type": "code",
   "execution_count": 50,
   "metadata": {},
   "outputs": [
    {
     "name": "stdout",
     "output_type": "stream",
     "text": [
      "[5, 4, 3, 2, 1],\n",
      "[4, 3, 2, 1],\n",
      "[3, 2, 1],\n",
      "[2, 1],\n",
      "[1]\n"
     ]
    }
   ],
   "source": [
    "lista5 = list(reversed(range(1, 6)))\n",
    "print (f\"{lista5[0:5]},\\n{lista5[1:5]},\\n{lista5[2:5]},\\n{lista5[3:5]},\\n{lista5[4:5]}\")"
   ]
  },
  {
   "cell_type": "code",
   "execution_count": 55,
   "metadata": {},
   "outputs": [
    {
     "name": "stdout",
     "output_type": "stream",
     "text": [
      "5 4 3 2 1\n",
      "4 3 2 1\n",
      "3 2 1\n",
      "2 1\n",
      "1\n"
     ]
    }
   ],
   "source": [
    "for i in range(5):\n",
    "    print(*lista5[i:5])"
   ]
  },
  {
   "cell_type": "markdown",
   "metadata": {},
   "source": [
    "## Ejercicio 9\n",
    "En este ejercicio vamos a crear un pequeño juego. Se trata de intentar adivinar un numero del 1 al 5. Tenemos dos intentos para acertar. Pasos a seguir:\n",
    "\n",
    "1. Ya viene implementado cómo obtener un número aleatorio del 1 al 5\n",
    "2. Tendrás que declarar en una variable el numero de vidas, y mediante un bucle while, comprobar que todavia quedan vidas.\n",
    "3. Dentro del bucle, obtener el valor del usuario y comprobar si es ese el numero a adivinar. Si no, actualizar las vidas.\n",
    "4. Si acertamos, salimos del bucle e imprimimos por pantalla \"You win\". Y si perdemos también salimos del bucle, pero en este caso imprimimos por pantalla \"You lose\".\n",
    "\n",
    "TIP: te puede resultar útil usar la sentencia `else` cuando acabe el bucle `while`. Lo que haya dentro de ese `else` se ejecutará una vez acabe la ejecución del `while`. Lo podrás usar para cuando pierdas."
   ]
  },
  {
   "cell_type": "code",
   "execution_count": 19,
   "metadata": {},
   "outputs": [
    {
     "name": "stdout",
     "output_type": "stream",
     "text": [
      "5\n",
      "El numero tiene que estar entre 1 y 5\n",
      "El numero tiene que estar entre 1 y 5\n",
      "El numero tiene que estar entre 1 y 5\n",
      "El numero tiene que estar entre 1 y 5\n",
      "Te quedan 1 vida(s)\n",
      "Te quedan 0 vida(s)\n",
      "You lose!!\n"
     ]
    }
   ],
   "source": [
    "from random import randint\n",
    "\n",
    "# Genera un numero aleatorio del 1 al 5\n",
    "random_number = randint(1, 5)\n",
    "print(random_number)\n",
    "\n",
    "num_vidas = 2\n",
    "while (num_vidas > 0):\n",
    "\n",
    "    while True:\n",
    "        try:\n",
    "            num_user = int(input(f\"Introduce un número del 1 al 5. Tienes {num_vidas} intentos restantes.\"))\n",
    "            if 1 <= num_user <= 5:\n",
    "                break\n",
    "            else:\n",
    "                print(\"El numero tiene que estar entre 1 y 5\")\n",
    "        except:\n",
    "            num_user = input(\"El valor tiene que ser estrictamente numérico\")\n",
    "\n",
    "    if num_user == random_number:\n",
    "        print(\"You win!!!\")\n",
    "        break\n",
    "\n",
    "    num_vidas = num_vidas - 1\n",
    "    print(f'Te quedan {num_vidas} vida(s)')\n",
    "\n",
    "if num_vidas == 0:\n",
    "    print(\"You lose!!\")"
   ]
  },
  {
   "cell_type": "code",
   "execution_count": null,
   "metadata": {},
   "outputs": [],
   "source": [
    "import random\n",
    "from random import randint\n",
    "# Genera un numero aleatorio del 1 al 5\n",
    "random_number = randint(1, 5)\n",
    "intentos = 0\n",
    "print (random_number)\n",
    "while intentos < 2:\n",
    "    numuser = (int(input(“Introduce un número: “)))\n",
    "    intentos = intentos + 1\n",
    "    if numuser == random_number:\n",
    "        print (“You win”)\n",
    "        break\n",
    "    elif numuser != random_number:\n",
    "        print (“Número errado, intenta de nuevo”)\n",
    "if intentos >= 2:\n",
    "    print (“You lose”)"
   ]
  },
  {
   "cell_type": "markdown",
   "metadata": {},
   "source": [
    "## Ejercicios extra"
   ]
  },
  {
   "cell_type": "markdown",
   "metadata": {},
   "source": [
    "Más ejercicios en [este link](https://www.w3resource.com/python-exercises/python-conditional-statements-and-loop-exercises.php)\n",
    "\n",
    "Y [aquí](https://erlerobotics.gitbooks.io/erle-robotics-learning-python-gitbook-free/loops/exercises_loops.html)"
   ]
  }
 ],
 "metadata": {
  "kernelspec": {
   "display_name": "Python 3.7.4 64-bit",
   "language": "python",
   "name": "python3"
  },
  "language_info": {
   "codemirror_mode": {
    "name": "ipython",
    "version": 3
   },
   "file_extension": ".py",
   "mimetype": "text/x-python",
   "name": "python",
   "nbconvert_exporter": "python",
   "pygments_lexer": "ipython3",
   "version": "3.7.4"
  },
  "vscode": {
   "interpreter": {
    "hash": "b8ee907ad2201c6d9588d3f44c3076f7bb061a669037d938a152617689572a16"
   }
  }
 },
 "nbformat": 4,
 "nbformat_minor": 4
}
