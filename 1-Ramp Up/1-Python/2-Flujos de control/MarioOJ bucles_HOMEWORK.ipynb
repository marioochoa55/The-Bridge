{
 "cells": [
  {
   "cell_type": "markdown",
   "metadata": {},
   "source": [
    "![imagen](./img/ejercicios.png)"
   ]
  },
  {
   "cell_type": "markdown",
   "metadata": {},
   "source": [
    "## Ejercicio 1\n",
    "1. Elimina todos los VW de la siguiente lista. Crea una lista nueva para ello.\n",
    "2. Hazlo de otra manera. Crea una lista nueva, y ve añadiendo todos los que no sean VW\n",
    "3. En vez de `for`, usa un bucle `while`\n",
    "> ejer_1 = [\"VW\", \"Audi\", \"Renault\", \"VW\", \"BMW\"]"
   ]
  },
  {
   "cell_type": "code",
   "execution_count": 112,
   "metadata": {},
   "outputs": [
    {
     "name": "stdout",
     "output_type": "stream",
     "text": [
      "['Audi', 'Renault', 'BMW']\n"
     ]
    }
   ],
   "source": [
    "ejer_1 = [\"VW\", \"Audi\", \"Renault\", \"VW\", \"BMW\"]\n",
    "for coche in ejer_1:\n",
    "    if coche == \"VW\":\n",
    "        ejer_1.remove(coche)\n",
    "        \n",
    "print(ejer_1)\n",
    "    \n"
   ]
  },
  {
   "cell_type": "markdown",
   "metadata": {},
   "source": [
    "## Ejercicio 2\n",
    "Imprime por pantalla la siguiente secuencia: 10, 9, 8.... -8, -9, -10"
   ]
  },
  {
   "cell_type": "code",
   "execution_count": 3,
   "metadata": {},
   "outputs": [
    {
     "name": "stdout",
     "output_type": "stream",
     "text": [
      "[10, 9, 8, 7, 6, 5, 4, 3, 2, 1, 0, -1, -2, -3, -4, -5, -6, -7, -8, -9, -10]\n"
     ]
    }
   ],
   "source": [
    "ejercicio2 = list(range(10,-11,-1))\n",
    "print(ejercicio2)"
   ]
  },
  {
   "cell_type": "markdown",
   "metadata": {},
   "source": [
    "## Ejercicio 3\n",
    "1. Escribe un programa que vaya pidiendo numeros al usuario. Cuando el usuario introduzca el 0, el programa tiene que imprimir por pantalla el sumatorio de todos los numeros positivos introducidos\n",
    "2. Además de la suma, queremos que imprima también una lista con todos los números."
   ]
  },
  {
   "cell_type": "code",
   "execution_count": 5,
   "metadata": {},
   "outputs": [
    {
     "name": "stdout",
     "output_type": "stream",
     "text": [
      "o\n",
      "i\n",
      "r\n",
      "a\n",
      "m\n"
     ]
    }
   ],
   "source": [
    "word = input(\"Introduce una palabra: \")\n",
    "for i in range(len(word)-1, -1, -1):\n",
    "    print(word[i])"
   ]
  },
  {
   "cell_type": "code",
   "execution_count": 4,
   "metadata": {},
   "outputs": [
    {
     "name": "stdout",
     "output_type": "stream",
     "text": [
      "5.0\n",
      "5.0\n",
      "0.0\n",
      "0.0\n",
      "0.0\n",
      "0.0\n",
      "0.0\n",
      "0.0\n"
     ]
    },
    {
     "ename": "ValueError",
     "evalue": "could not convert string to float: ",
     "output_type": "error",
     "traceback": [
      "\u001b[1;31m---------------------------------------------------------------------------\u001b[0m",
      "\u001b[1;31mValueError\u001b[0m                                Traceback (most recent call last)",
      "\u001b[1;32m~\\AppData\\Local\\Temp\\ipykernel_21348\\2749626782.py\u001b[0m in \u001b[0;36m<module>\u001b[1;34m\u001b[0m\n\u001b[0;32m      2\u001b[0m \u001b[1;33m\u001b[0m\u001b[0m\n\u001b[0;32m      3\u001b[0m \u001b[1;32mwhile\u001b[0m \u001b[1;33m(\u001b[0m\u001b[0mnumber\u001b[0m \u001b[1;33m!=\u001b[0m \u001b[1;36m0\u001b[0m\u001b[1;33m)\u001b[0m \u001b[1;33m:\u001b[0m\u001b[1;33m\u001b[0m\u001b[1;33m\u001b[0m\u001b[0m\n\u001b[1;32m----> 4\u001b[1;33m     \u001b[0mprint\u001b[0m\u001b[1;33m(\u001b[0m\u001b[0mfloat\u001b[0m\u001b[1;33m(\u001b[0m\u001b[0minput\u001b[0m\u001b[1;33m(\u001b[0m\u001b[1;34m\"Introduce un numero\"\u001b[0m\u001b[1;33m)\u001b[0m\u001b[1;33m)\u001b[0m\u001b[1;33m)\u001b[0m\u001b[1;33m\u001b[0m\u001b[1;33m\u001b[0m\u001b[0m\n\u001b[0m\u001b[0;32m      5\u001b[0m \u001b[1;33m\u001b[0m\u001b[0m\n\u001b[0;32m      6\u001b[0m \u001b[0msumatorio\u001b[0m \u001b[1;33m=\u001b[0m \u001b[0msum\u001b[0m\u001b[1;33m(\u001b[0m\u001b[0mnumber\u001b[0m\u001b[1;33m)\u001b[0m\u001b[1;33m\u001b[0m\u001b[1;33m\u001b[0m\u001b[0m\n",
      "\u001b[1;31mValueError\u001b[0m: could not convert string to float: "
     ]
    }
   ],
   "source": [
    "number = float(input(\"Introduce un numero\"))\n",
    "\n",
    "while (number != 0.) :\n",
    "    print(float(input(\"Introduce un numero\")))\n",
    "\n",
    "    \n",
    "\n",
    "sumatorio = sum(number)\n",
    "print(number)"
   ]
  },
  {
   "cell_type": "markdown",
   "metadata": {},
   "source": [
    "## Ejercicio 4\n",
    "Escribir un programa que vaya pidiendo la cantidad de compras de un cliente. El programa tiene que pedir cantidades hasta que se ingresa un 0. Igualmente cuando una de las cantiaddes introducida es negativa, hay que mandar un mensaje de que \"la cantidad es negativa, por favor introducir numeros positivos\""
   ]
  },
  {
   "cell_type": "code",
   "execution_count": 30,
   "metadata": {},
   "outputs": [],
   "source": [
    "compras = float(input(\"Introduce la cantidad comprada\"))\n",
    "nueva_compra = float(input(\"Introduce una nueva cantidad\"))\n",
    "\n",
    "while compras != 0 :\n",
    "    print(compra)\n",
    "    \n",
    "    "
   ]
  },
  {
   "cell_type": "markdown",
   "metadata": {},
   "source": [
    "## Ejercicio 5\n",
    "Imprime por pantalla la palabra \"Python\", pero empezando con la última letra."
   ]
  },
  {
   "cell_type": "code",
   "execution_count": null,
   "metadata": {},
   "outputs": [],
   "source": [
    "word = input(\"Introduce una palabra: \")\n",
    "for i in range(len(word)-1, -1, -1):\n",
    "    print(word[i])"
   ]
  },
  {
   "cell_type": "code",
   "execution_count": 36,
   "metadata": {},
   "outputs": [
    {
     "name": "stdout",
     "output_type": "stream",
     "text": [
      "nohtyP"
     ]
    }
   ],
   "source": [
    "palabra = \"Python\"\n",
    "\n",
    "for i in range(len(palabra)-1,-1, -1):\n",
    "    print(palabra[i], end = '')\n"
   ]
  },
  {
   "cell_type": "markdown",
   "metadata": {},
   "source": [
    "## Ejercicio 6\n",
    "Escribe un programa que calcule la cantidad de veces que está la letra \"m\" o \"M\" en la frase:\n",
    "> \"En un lugar de La Mancha, de cuyo nombre no quiero acordarme\""
   ]
  },
  {
   "cell_type": "code",
   "execution_count": 20,
   "metadata": {},
   "outputs": [
    {
     "name": "stdout",
     "output_type": "stream",
     "text": [
      "1\n"
     ]
    }
   ],
   "source": [
    "frase = \"En un lugar de La Mancha, de cuyo nombre no quiero acordarme\"\n",
    "\n",
    "count = 0\n",
    "for i in frase: \n",
    "    if i ==\"m\" or i ==\"M\":\n",
    "        count = count + 1\n",
    "\n",
    "print(count)\n"
   ]
  },
  {
   "cell_type": "markdown",
   "metadata": {},
   "source": [
    "## Ejercicio 7\n",
    "Crea un programa que simule la siguiente pirámide. Para ello, el programa tiene que pedirle al usuario un caracter cualquiera. El número de filas es fijo, 5. Vas a necesitar usar dos bucles anidados.\n",
    "\n",
    "W W W W W \n",
    "\n",
    "W W W W \n",
    "\n",
    "W W W \n",
    "\n",
    "W W \n",
    "\n",
    "W \n",
    "\n",
    "\n"
   ]
  },
  {
   "cell_type": "code",
   "execution_count": 40,
   "metadata": {},
   "outputs": [
    {
     "name": "stdout",
     "output_type": "stream",
     "text": [
      "bbbbb\n",
      "bbbb\n",
      "bbb\n",
      "bb\n",
      "b\n"
     ]
    }
   ],
   "source": [
    "caracter = input(\"Introduce un caracter\")\n",
    "for i in range(5, 0, -1):\n",
    "    for j in range(i, 0, -1):\n",
    "        print(caracter, end ='')\n",
    "    print(\"\")"
   ]
  },
  {
   "cell_type": "markdown",
   "metadata": {},
   "source": [
    " ## Ejercicio 8\n",
    " Crea un programa que en función de un input numérico que inserte el usuario, imprima por pantalla la pirámide de ejemplo. Si el input es 6, tendrá 6 pisos, pero si introduce 10, la pirámide tendrá 10 pisos.\n",
    " \n",
    " 1 2 3 4 5 6\n",
    " \n",
    " 1 2 3 4 5\n",
    " \n",
    " 1 2 3 4\n",
    " \n",
    " 1 2 3\n",
    " \n",
    " 1 2\n",
    " \n",
    " 1"
   ]
  },
  {
   "cell_type": "code",
   "execution_count": 82,
   "metadata": {},
   "outputs": [
    {
     "name": "stdout",
     "output_type": "stream",
     "text": [
      "5\n",
      "5\n",
      "5\n",
      "5\n",
      "5\n",
      "4\n",
      "4\n",
      "4\n",
      "4\n",
      "3\n",
      "3\n",
      "3\n",
      "2\n",
      "2\n",
      "1\n"
     ]
    }
   ],
   "source": [
    "altura = int(input(\"Introduce un número\"))\n",
    "for fila in range(altura,0,-1):\n",
    "    for columna in range(fila,0,-1):\n",
    "        print(fila, end=(''))\n",
    "        \n",
    "        print(\"\")"
   ]
  },
  {
   "cell_type": "markdown",
   "metadata": {},
   "source": [
    "## Ejercicio 10\n",
    "Imprime toda la secuencia de numeros del 1 al 10, excepto el 3, 4 y 9. Impleméntalo de dos maneras diferentes"
   ]
  },
  {
   "cell_type": "code",
   "execution_count": null,
   "metadata": {},
   "outputs": [],
   "source": [
    "ejer_1 = [\"VW\", \"Audi\", \"Renault\", \"VW\", \"BMW\"]\n",
    "for coche in ejer_1:\n",
    "    if coche == \"VW\":\n",
    "        ejer_1.remove(coche)\n",
    "        \n",
    "print(ejer_1)"
   ]
  },
  {
   "cell_type": "code",
   "execution_count": 119,
   "metadata": {},
   "outputs": [
    {
     "name": "stdout",
     "output_type": "stream",
     "text": [
      "[1, 2, 4, 5, 6, 7, 8, 9, 10]\n"
     ]
    }
   ],
   "source": [
    "lista = list(range(1,11))\n",
    "\n",
    "for numero in lista:\n",
    "    if numero==3:\n",
    "        lista.remove(numero)\n",
    "    \n",
    "    \n",
    "print(lista)\n",
    "\n"
   ]
  },
  {
   "cell_type": "code",
   "execution_count": null,
   "metadata": {},
   "outputs": [],
   "source": []
  }
 ],
 "metadata": {
  "kernelspec": {
   "display_name": "Python 3.7.4 64-bit",
   "language": "python",
   "name": "python3"
  },
  "language_info": {
   "codemirror_mode": {
    "name": "ipython",
    "version": 3
   },
   "file_extension": ".py",
   "mimetype": "text/x-python",
   "name": "python",
   "nbconvert_exporter": "python",
   "pygments_lexer": "ipython3",
   "version": "3.7.4"
  },
  "vscode": {
   "interpreter": {
    "hash": "b213cd0c7dc86fb09f7378e09d09f37ed50992d496516f682658e1f7568be4e1"
   }
  }
 },
 "nbformat": 4,
 "nbformat_minor": 4
}
