{
 "cells": [
  {
   "cell_type": "markdown",
   "metadata": {},
   "source": [
    "![imagen](./img/python.jpg)"
   ]
  },
  {
   "cell_type": "markdown",
   "metadata": {},
   "source": [
    "# Funciones en Python\n",
    "### Autor: [Daniel Ortiz López](https://www.linkedin.com/in/daniel-ortiz-l%C3%B3pez/)\n",
    "\n",
    "En este Notebook tienes una guía completa para orientarte en el uso de funciones en Python.\n",
    "\n",
    "Se trata de bloques de código que encapsulan una serie de operaciones. Se usan para modular nuestro código y evitar escribir código de más.\n",
    "\n",
    "1. [Definición, sintaxis y return](#1.-Definición,-sintaxis-y-return)\n",
    "2. [Argumentos posicionales](#2.-Argumentos-posicionales)\n",
    "3. [Argumentos variables](#3.-Argumentos-variables)\n",
    "4. [Argumentos keyword](#4.-Argumentos-keyword)\n",
    "5. [Recursividad](#5.-Recursividad)\n",
    "6. [Documentar funciones](#6.-Documentar-funciones)\n",
    "7. [Resumen](#7.-Resumen)"
   ]
  },
  {
   "cell_type": "markdown",
   "metadata": {},
   "source": [
    "## 1. Definición, sintaxis y return\n",
    "Mediante las **funciones** podemos encapsular código en formato entrada/salida. Por lo que si tienes un código repetitivo, que depende de ciertos inputs, las funciones pueden ser una buena solución.\n",
    "\n",
    "![imagen](./img/funciones.png)\n",
    "\n",
    "Es una manera de agrupar conjuntos de operaciones en módulos. **¿Cuándo usarlas?** Cuando tengamos varias operaciones que ejecutamos repetidamente en distintas partes del código. En ese caso, encapsulamos las operaciones en una función, y cada vez que haya que realizar tal operativa, llamamos a la función, y en una sola línea de código tenemos ejecutada esas operaciones.\n",
    "\n",
    "Hasta ahora hemos estado utilizando funciones *built-in*, para operaciones sencillas como `len()`, `sum()` o `max()`. En este Notebook aprenderas a crear tus propias funciones.\n",
    "\n",
    "La sintaxis es:\n",
    "> ```Python\n",
    "> def nombre_funcion(input):\n",
    ">    operaciones varias\n",
    ">    return output\n",
    "> ```\n",
    "\n",
    "Fíjate que sigue la **sintaxis de línea** vista en Notebooks anteriores. Además, todo lo que va después del `return` es ignorado, puesto que es la salida. En el `return` acaba la función. Ahora bien, eso no quiere decir que haya un único return. Si introducimos una sentencia `if/else`, podremos poner returns diferentes dependiendo de qué condición se cumpla. Vamos a crear nuestra primera función"
   ]
  },
  {
   "cell_type": "code",
   "execution_count": 1,
   "metadata": {},
   "outputs": [
    {
     "name": "stdout",
     "output_type": "stream",
     "text": [
      "100.0km son 62.137100000000004 millas\n"
     ]
    }
   ],
   "source": [
    "dist_km = float(input(\"Dime la distancia en KM:\"))\n",
    "km_milla = 0.621371\n",
    "millas = km_milla * dist_km\n",
    "print(f\"{dist_km}km son {millas} millas\")"
   ]
  },
  {
   "cell_type": "code",
   "execution_count": 10,
   "metadata": {},
   "outputs": [
    {
     "name": "stdout",
     "output_type": "stream",
     "text": [
      "30.00 km son 18.64 millas\n",
      "40.00 km son 24.85 millas\n",
      "50.00 km son 31.07 millas\n",
      "60.00 km son 37.28 millas\n"
     ]
    }
   ],
   "source": [
    "# Vamos a crear un conversor de km a millas\n",
    "def conversor_millas(km):\n",
    "    '''\n",
    "    Conversor de distancias de kilometros a millass\n",
    "\n",
    "    Input [float]: Distancia en km\n",
    "    Output [float]: Distancia en millas\n",
    "\n",
    "    '''\n",
    "    km_milla = 0.621371\n",
    "    millas = km_milla * km\n",
    "    print(f\"{km:.2f} km son {millas:.2f} millas\")\n",
    "    return millas\n",
    "\n",
    "ls_dist_km = [30, 40, 50, 60]\n",
    "for dist in ls_dist_km:\n",
    "    conversor_millas(dist)"
   ]
  },
  {
   "cell_type": "code",
   "execution_count": 6,
   "metadata": {},
   "outputs": [
    {
     "name": "stdout",
     "output_type": "stream",
     "text": [
      "62.137100000000004\n"
     ]
    }
   ],
   "source": [
    "d_mill = conversor_millas(100)\n",
    "print(d_mill)"
   ]
  },
  {
   "cell_type": "markdown",
   "metadata": {},
   "source": [
    "Al ejecutar el código anterior, no corre nada, simplemente almacenamos en memoria la función para usarla posteriormente. **Ahora podremos llamar a la función tantas veces como queramos, desde cualquier parte del codigo.**"
   ]
  },
  {
   "cell_type": "code",
   "execution_count": 12,
   "metadata": {},
   "outputs": [],
   "source": [
    "# Vamos a crear un conversor de km a millas\n",
    "def conversor_millas(km):\n",
    "    '''\n",
    "    Conversor de distancias de kilometros a millass\n",
    "\n",
    "    Input [float]: Distancia en km\n",
    "    Output [float]: Distancia en millas\n",
    "\n",
    "    '''\n",
    "    km_milla = 0.621371\n",
    "    millas = km_milla * km\n",
    "    print(f\"{km:.2f} km son {millas:.2f} millas\")\n",
    "    return millas"
   ]
  },
  {
   "cell_type": "code",
   "execution_count": 11,
   "metadata": {},
   "outputs": [
    {
     "name": "stdout",
     "output_type": "stream",
     "text": [
      "30.00 km son 18.64 millas\n",
      "18.64113\n",
      "347.49172767690004\n"
     ]
    }
   ],
   "source": [
    "ls_dist_km = [30, 40, 50, 60]\n",
    "dist_millas = conversor_millas(ls_dist_km[0])\n",
    "print(dist_millas)\n",
    "print(dist_millas ** 2)"
   ]
  },
  {
   "cell_type": "markdown",
   "metadata": {},
   "source": [
    "Las funciones no tienen por qué llevar argumentos. Eso sí, **es obligatorio** poner los parentesis, tanto en la declaración, como luego al llamar la función."
   ]
  },
  {
   "cell_type": "code",
   "execution_count": 13,
   "metadata": {},
   "outputs": [
    {
     "name": "stdout",
     "output_type": "stream",
     "text": [
      "Hola Mundo\n",
      "Hola Mundo\n",
      "Hola Mundo\n",
      "Hola Mundo\n",
      "Hola Mundo\n"
     ]
    }
   ],
   "source": [
    "def hola_mundo():\n",
    "    print(\"Hola Mundo\")\n",
    "    return None\n",
    "\n",
    "hola_mundo()\n",
    "hola_mundo()\n",
    "hola_mundo()\n",
    "hola_mundo()\n",
    "hola_mundo()"
   ]
  },
  {
   "cell_type": "markdown",
   "metadata": {},
   "source": [
    "**Tampoco tienen por qué llevar un `return`**. No siempre es necesario un output. En tal caso, devuelve `None`"
   ]
  },
  {
   "cell_type": "code",
   "execution_count": 21,
   "metadata": {},
   "outputs": [
    {
     "name": "stdout",
     "output_type": "stream",
     "text": [
      "Hola Mundo\n",
      "Hola Mundo\n",
      "Hola Mundo\n",
      "Hola Mundo\n",
      "Hola Mundo\n"
     ]
    }
   ],
   "source": [
    "def hola_mundo():\n",
    "    print(\"Hola Mundo\")\n",
    "    y = 4\n",
    "    patata = 0\n",
    "    return y\n",
    "\n",
    "a1=hola_mundo()\n",
    "a2=hola_mundo()\n",
    "a3=hola_mundo()\n",
    "a4=hola_mundo()\n",
    "a5=hola_mundo()"
   ]
  },
  {
   "cell_type": "code",
   "execution_count": 19,
   "metadata": {},
   "outputs": [
    {
     "name": "stdout",
     "output_type": "stream",
     "text": [
      "4 4 4 4 4\n"
     ]
    }
   ],
   "source": [
    "print(a1, a2, a3, a4,a5)"
   ]
  },
  {
   "cell_type": "markdown",
   "metadata": {},
   "source": [
    "También puedes poner varias salidas en el return, simplemente separándolas por comas. O si lo que quieres es un único elemento, agruparlos en una colección también puede ser otra opción."
   ]
  },
  {
   "cell_type": "code",
   "execution_count": 27,
   "metadata": {},
   "outputs": [
    {
     "name": "stdout",
     "output_type": "stream",
     "text": [
      "(49, 343)\n",
      "49\n",
      "343\n"
     ]
    }
   ],
   "source": [
    "def cuadrado_cubo(x):\n",
    "    cuadrado = x ** 2\n",
    "    cubo = x ** 3\n",
    "    return cuadrado, cubo\n",
    "\n",
    "num = 7\n",
    "\n",
    "# El resultado es una tupla\n",
    "print(cuadrado_cubo(num))\n",
    "\n",
    "# Podemos acceder directamente al primer elemento y al segundo\n",
    "print(cuadrado_cubo(num)[0])\n",
    "print(cuadrado_cubo(num)[1])"
   ]
  },
  {
   "cell_type": "code",
   "execution_count": 28,
   "metadata": {},
   "outputs": [
    {
     "name": "stdout",
     "output_type": "stream",
     "text": [
      "(1, 1)\n",
      "1\n",
      "1\n",
      "\n",
      "\n",
      "(1, 1)\n",
      "1\n",
      "1\n",
      "\n",
      "\n",
      "(4, 8)\n",
      "4\n",
      "8\n",
      "\n",
      "\n",
      "(9, 27)\n",
      "9\n",
      "27\n",
      "\n",
      "\n",
      "(25, 125)\n",
      "25\n",
      "125\n",
      "\n",
      "\n",
      "(64, 512)\n",
      "64\n",
      "512\n",
      "\n",
      "\n"
     ]
    }
   ],
   "source": [
    "ls_num = [1, 1, 2, 3, 5, 8]\n",
    "\n",
    "for num in ls_num:\n",
    "    # El resultado es una tupla\n",
    "    print(cuadrado_cubo(num))\n",
    "\n",
    "    # Podemos acceder directamente al primer elemento y al segundo\n",
    "    print(cuadrado_cubo(num)[0])\n",
    "    print(cuadrado_cubo(num)[1])\n",
    "    print(\"\\n\")"
   ]
  },
  {
   "cell_type": "markdown",
   "metadata": {},
   "source": [
    "### Tipos de datos de los argumentos\n",
    "Lo que quieras: numeros, texto, listas, tuplas, diccionarios, objetos de clases que hayas definido..."
   ]
  },
  {
   "cell_type": "code",
   "execution_count": 30,
   "metadata": {},
   "outputs": [
    {
     "name": "stdout",
     "output_type": "stream",
     "text": [
      "13 1\n"
     ]
    }
   ],
   "source": [
    "def suma_cuadrados(x, y):\n",
    "    z = x ** 2 + y ** 2\n",
    "    return z\n",
    "\n",
    "sc1 = suma_cuadrados(2, 3)\n",
    "sc2 = suma_cuadrados(0, 1)\n",
    "\n",
    "print(sc1, sc2)"
   ]
  },
  {
   "cell_type": "code",
   "execution_count": 33,
   "metadata": {},
   "outputs": [
    {
     "data": {
      "text/plain": [
       "55"
      ]
     },
     "execution_count": 33,
     "metadata": {},
     "output_type": "execute_result"
    }
   ],
   "source": [
    "def suma_cuadrados_ls(ls_num):\n",
    "    ls_cuadrados = []\n",
    "    for item in ls_num:\n",
    "        ls_cuadrados += [item ** 2]\n",
    "    z = sum(ls_cuadrados)\n",
    "    return z\n",
    "\n",
    "suma_cuadrados_ls([0, 1, 2, 3, 4, 5])"
   ]
  },
  {
   "cell_type": "code",
   "execution_count": 34,
   "metadata": {},
   "outputs": [
    {
     "data": {
      "text/plain": [
       "104"
      ]
     },
     "execution_count": 34,
     "metadata": {},
     "output_type": "execute_result"
    }
   ],
   "source": [
    "def suma_cuadrados_ls(ls_num):\n",
    "    z = 0\n",
    "    for item in ls_num:\n",
    "        z += item ** 2\n",
    "    return z\n",
    "\n",
    "ls_num = [1, 1, 2, 3, 5, 8]\n",
    "suma_cuadrados_ls(ls_num)"
   ]
  },
  {
   "cell_type": "markdown",
   "metadata": {},
   "source": [
    "<table align=\"left\">\n",
    " <tr><td width=\"80\"><img src=\"./img/error.png\" style=\"width:auto;height:auto\"></td>\n",
    "     <td style=\"text-align:left\">\n",
    "         <h3>ERRORES variables de la función</h3>\n",
    "         \n",
    " </td></tr>\n",
    "</table>"
   ]
  },
  {
   "cell_type": "code",
   "execution_count": 35,
   "metadata": {},
   "outputs": [
    {
     "ename": "NameError",
     "evalue": "name 'heyhey' is not defined",
     "output_type": "error",
     "traceback": [
      "\u001b[1;31m---------------------------------------------------------------------------\u001b[0m",
      "\u001b[1;31mNameError\u001b[0m                                 Traceback (most recent call last)",
      "\u001b[1;32m~\\AppData\\Local\\Temp\\ipykernel_7728\\2133608487.py\u001b[0m in \u001b[0;36m<module>\u001b[1;34m\u001b[0m\n\u001b[0;32m     11\u001b[0m     \u001b[1;32mreturn\u001b[0m \u001b[0mz\u001b[0m\u001b[1;33m\u001b[0m\u001b[1;33m\u001b[0m\u001b[0m\n\u001b[0;32m     12\u001b[0m \u001b[1;33m\u001b[0m\u001b[0m\n\u001b[1;32m---> 13\u001b[1;33m \u001b[0mheyhey\u001b[0m\u001b[1;33m\u001b[0m\u001b[1;33m\u001b[0m\u001b[0m\n\u001b[0m",
      "\u001b[1;31mNameError\u001b[0m: name 'heyhey' is not defined"
     ]
    }
   ],
   "source": [
    "# Todo lo que declaremos dentro de la función se crea UNICAMENTE para la función\n",
    "# Fuera de la misma, esas variables no existen\n",
    "\n",
    "def suma_cuadrados_ls(ls_num):\n",
    "    z = 0\n",
    "    for item in ls_num:\n",
    "        z += item ** 2\n",
    "    xxx = 23\n",
    "    yyy = 84\n",
    "    heyhey = 0\n",
    "    return z\n",
    "\n",
    "heyhey"
   ]
  },
  {
   "cell_type": "markdown",
   "metadata": {},
   "source": [
    "Se crea un namespace interno dentro de las funciones, es decir, que lo que declaremos dentro, se queda dentro. No lo podremos usar fuera. Además, ten en cuenta que todo lo que introduzcamos dentro de flujos de control (`if/else`, bucles...), nos vale para el resto de la función"
   ]
  },
  {
   "cell_type": "code",
   "execution_count": 36,
   "metadata": {},
   "outputs": [
    {
     "data": {
      "text/plain": [
       "1"
      ]
     },
     "execution_count": 36,
     "metadata": {},
     "output_type": "execute_result"
    }
   ],
   "source": [
    "def numero_ifs(numero):\n",
    "    if numero == 1:\n",
    "        if numero == 1:\n",
    "            if numero == 1:\n",
    "                if numero == 1:\n",
    "                    out = 1\n",
    "        \n",
    "    return out\n",
    "\n",
    "numero_ifs(1)"
   ]
  },
  {
   "cell_type": "code",
   "execution_count": null,
   "metadata": {},
   "outputs": [],
   "source": []
  },
  {
   "cell_type": "code",
   "execution_count": 42,
   "metadata": {},
   "outputs": [
    {
     "ename": "TypeError",
     "evalue": "suma_cuadrados() missing 1 required positional argument: 'y'",
     "output_type": "error",
     "traceback": [
      "\u001b[1;31m---------------------------------------------------------------------------\u001b[0m",
      "\u001b[1;31mTypeError\u001b[0m                                 Traceback (most recent call last)",
      "\u001b[1;32m~\\AppData\\Local\\Temp\\ipykernel_5972\\3447715640.py\u001b[0m in \u001b[0;36m<module>\u001b[1;34m\u001b[0m\n\u001b[0;32m      1\u001b[0m \u001b[1;31m# Si no introducimos argumentos en una función que SI tiene argumentos, salta un error de este estilo\u001b[0m\u001b[1;33m\u001b[0m\u001b[1;33m\u001b[0m\u001b[1;33m\u001b[0m\u001b[0m\n\u001b[0;32m      2\u001b[0m \u001b[1;33m\u001b[0m\u001b[0m\n\u001b[1;32m----> 3\u001b[1;33m \u001b[0msuma_cuadrados\u001b[0m\u001b[1;33m(\u001b[0m\u001b[1;36m4\u001b[0m\u001b[1;33m,\u001b[0m\u001b[1;33m)\u001b[0m\u001b[1;33m\u001b[0m\u001b[1;33m\u001b[0m\u001b[0m\n\u001b[0m",
      "\u001b[1;31mTypeError\u001b[0m: suma_cuadrados() missing 1 required positional argument: 'y'"
     ]
    }
   ],
   "source": [
    "# Si no introducimos argumentos en una función que SI tiene argumentos, salta un error de este estilo\n",
    "\n",
    "suma_cuadrados(4,)"
   ]
  },
  {
   "cell_type": "markdown",
   "metadata": {},
   "source": [
    "Cuidado también con la sintaxis de línea. Después de dos puntos `:`, viene todo el bloque de código tabulado, de la función"
   ]
  },
  {
   "cell_type": "markdown",
   "metadata": {},
   "source": [
    "<table align=\"left\">\n",
    " <tr><td width=\"80\"><img src=\"./img/ejercicio.png\" style=\"width:auto;height:auto\"></td>\n",
    "     <td style=\"text-align:left\">\n",
    "         <h3>Ejercicio. Crea tu propia funcion</h3>\n",
    "\n",
    "Crea tu propia funcion. En este caso, queremos implementar una función para saber si podremos ir de excursión a la montaña. Para ello, la función recibirá dos argumentos: tiempo, que sera un booleano, y una lista con acompañantes. Si hace buen tiempo y al menos vienen dos personas conmigo -> return el primero que se apuntó a la lista, si solo hace buen tiempo -> return \"Hoy salimos\", y si no, return \"No podemos ir\"\n",
    "         \n",
    " </td></tr>\n",
    "</table>"
   ]
  },
  {
   "cell_type": "code",
   "execution_count": 39,
   "metadata": {},
   "outputs": [
    {
     "name": "stdout",
     "output_type": "stream",
     "text": [
      "No podemos ir\n"
     ]
    }
   ],
   "source": [
    "tiempo = False\n",
    "acomp = ['Carlos']\n",
    "\n",
    "if tiempo & (len(acomp)>=2):\n",
    "    out = acomp[0]\n",
    "elif tiempo:\n",
    "    out = \"Hoy salimos\"\n",
    "else:\n",
    "    out = \"No podemos ir\"\n",
    "\n",
    "print(out)"
   ]
  },
  {
   "cell_type": "code",
   "execution_count": 46,
   "metadata": {},
   "outputs": [
    {
     "ename": "NameError",
     "evalue": "name 'output' is not defined",
     "output_type": "error",
     "traceback": [
      "\u001b[1;31m---------------------------------------------------------------------------\u001b[0m",
      "\u001b[1;31mNameError\u001b[0m                                 Traceback (most recent call last)",
      "\u001b[1;32m~\\AppData\\Local\\Temp\\ipykernel_7728\\2415424161.py\u001b[0m in \u001b[0;36m<module>\u001b[1;34m\u001b[0m\n\u001b[1;32m----> 1\u001b[1;33m \u001b[0moutput\u001b[0m\u001b[1;33m\u001b[0m\u001b[1;33m\u001b[0m\u001b[0m\n\u001b[0m",
      "\u001b[1;31mNameError\u001b[0m: name 'output' is not defined"
     ]
    }
   ],
   "source": [
    "output"
   ]
  },
  {
   "cell_type": "code",
   "execution_count": 52,
   "metadata": {},
   "outputs": [
    {
     "name": "stdout",
     "output_type": "stream",
     "text": [
      "No podemos ir\n",
      "Carlos\n"
     ]
    }
   ],
   "source": [
    "def excursion(tmp, ls_acomp):\n",
    "    if tmp & (len(ls_acomp)>=2):\n",
    "        output = ls_acomp[0]\n",
    "    elif tmp:\n",
    "        output = \"Hoy salimos\"\n",
    "    else:\n",
    "        output = \"No podemos ir\"\n",
    "    return output\n",
    "\n",
    "tiempo = False\n",
    "acomp = ['Carlos']\n",
    "\n",
    "tiempo2 = True\n",
    "acomp2 = ['Carlos', 'Miguel', 'Lucia']\n",
    "\n",
    "print(excursion(tiempo, acomp))\n",
    "print(excursion(tmp=tiempo2, ls_acomp=acomp2))\n"
   ]
  },
  {
   "cell_type": "markdown",
   "metadata": {},
   "source": [
    "## 2. Argumentos posicionales\n",
    "Ya sabes cómo crear funciones con un solo argumento. Tendrás la opción de implementarlas con todos los argumentos que quieras. Ahora bien, ten en cuenta dos cosas:\n",
    "\n",
    "1. **El orden** de los argumentos. Cuando llamemos a la función, tenemos que seguir el mismo orden de argumentos que en la declaración de la función.\n",
    "2. **Son obligatorios**. Si los declaramos en la función, después al llamarla, tenemos que poner todos sus argumentos. Luego veremos que hay una manera de poner argumentos opcionales."
   ]
  },
  {
   "cell_type": "code",
   "execution_count": null,
   "metadata": {},
   "outputs": [],
   "source": []
  },
  {
   "cell_type": "markdown",
   "metadata": {},
   "source": [
    "Fijate que los argumentos siguen un determinado orden: x1, x2, x3, x4. Cuando llamamos a la función, introduciremos 4 argumentos y la función los recogerá en ese orden. Asignará 4 a x1, 6 a x2, etc. Podemos también especificar el nombre del argumento en la llamada, lo que nos permite tener mayor flexibilidad en el orden."
   ]
  },
  {
   "cell_type": "code",
   "execution_count": null,
   "metadata": {},
   "outputs": [],
   "source": []
  },
  {
   "cell_type": "markdown",
   "metadata": {},
   "source": [
    "<table align=\"left\">\n",
    " <tr><td width=\"80\"><img src=\"./img/error.png\" style=\"width:auto;height:auto\"></td>\n",
    "     <td style=\"text-align:left\">\n",
    "         <h3>ERRORES Traza del error dentro de la función</h3>\n",
    "         \n",
    " </td></tr>\n",
    "</table>"
   ]
  },
  {
   "cell_type": "code",
   "execution_count": 53,
   "metadata": {},
   "outputs": [
    {
     "ename": "TypeError",
     "evalue": "unsupported operand type(s) for &: 'str' and 'bool'",
     "output_type": "error",
     "traceback": [
      "\u001b[1;31m---------------------------------------------------------------------------\u001b[0m",
      "\u001b[1;31mTypeError\u001b[0m                                 Traceback (most recent call last)",
      "\u001b[1;32m~\\AppData\\Local\\Temp\\ipykernel_7728\\1827610527.py\u001b[0m in \u001b[0;36m<module>\u001b[1;34m\u001b[0m\n\u001b[1;32m----> 1\u001b[1;33m \u001b[0mexcursion\u001b[0m\u001b[1;33m(\u001b[0m\u001b[1;34m\"True\"\u001b[0m\u001b[1;33m,\u001b[0m \u001b[1;33m[\u001b[0m\u001b[1;34m'Carlos'\u001b[0m\u001b[1;33m]\u001b[0m\u001b[1;33m)\u001b[0m\u001b[1;33m\u001b[0m\u001b[1;33m\u001b[0m\u001b[0m\n\u001b[0m",
      "\u001b[1;32m~\\AppData\\Local\\Temp\\ipykernel_7728\\1334085487.py\u001b[0m in \u001b[0;36mexcursion\u001b[1;34m(tmp, ls_acomp)\u001b[0m\n\u001b[0;32m      1\u001b[0m \u001b[1;32mdef\u001b[0m \u001b[0mexcursion\u001b[0m\u001b[1;33m(\u001b[0m\u001b[0mtmp\u001b[0m\u001b[1;33m,\u001b[0m \u001b[0mls_acomp\u001b[0m\u001b[1;33m)\u001b[0m\u001b[1;33m:\u001b[0m\u001b[1;33m\u001b[0m\u001b[1;33m\u001b[0m\u001b[0m\n\u001b[1;32m----> 2\u001b[1;33m     \u001b[1;32mif\u001b[0m \u001b[0mtmp\u001b[0m \u001b[1;33m&\u001b[0m \u001b[1;33m(\u001b[0m\u001b[0mlen\u001b[0m\u001b[1;33m(\u001b[0m\u001b[0mls_acomp\u001b[0m\u001b[1;33m)\u001b[0m\u001b[1;33m>=\u001b[0m\u001b[1;36m2\u001b[0m\u001b[1;33m)\u001b[0m\u001b[1;33m:\u001b[0m\u001b[1;33m\u001b[0m\u001b[1;33m\u001b[0m\u001b[0m\n\u001b[0m\u001b[0;32m      3\u001b[0m         \u001b[0moutput\u001b[0m \u001b[1;33m=\u001b[0m \u001b[0mls_acomp\u001b[0m\u001b[1;33m[\u001b[0m\u001b[1;36m0\u001b[0m\u001b[1;33m]\u001b[0m\u001b[1;33m\u001b[0m\u001b[1;33m\u001b[0m\u001b[0m\n\u001b[0;32m      4\u001b[0m     \u001b[1;32melif\u001b[0m \u001b[0mtmp\u001b[0m\u001b[1;33m:\u001b[0m\u001b[1;33m\u001b[0m\u001b[1;33m\u001b[0m\u001b[0m\n\u001b[0;32m      5\u001b[0m         \u001b[0moutput\u001b[0m \u001b[1;33m=\u001b[0m \u001b[1;34m\"Hoy salimos\"\u001b[0m\u001b[1;33m\u001b[0m\u001b[1;33m\u001b[0m\u001b[0m\n",
      "\u001b[1;31mTypeError\u001b[0m: unsupported operand type(s) for &: 'str' and 'bool'"
     ]
    }
   ],
   "source": [
    "excursion(\"True\", ['Carlos'])"
   ]
  },
  {
   "cell_type": "markdown",
   "metadata": {},
   "source": [
    "Fijate que aparece toda la traza del error, tanto la línea donde llamas a la función, como el error dentro de la función. Podemos solventar el error, introduciendo un bloque `try/except`"
   ]
  },
  {
   "cell_type": "code",
   "execution_count": null,
   "metadata": {},
   "outputs": [],
   "source": []
  },
  {
   "cell_type": "markdown",
   "metadata": {},
   "source": [
    "## 3. Argumentos variables\n",
    "En los ejemplos anteriores teníamos que fijar un número concreto de argumentos, pero hay ocasiones que no tenemos seguro cuántos argumentos son. Por suerte, las funciones de Python nos aportan esa flexibilidad mediante `*`\n",
    "\n",
    "Veamos cómo implementar una función multiplicadora con numero variable de argumentos"
   ]
  },
  {
   "cell_type": "code",
   "execution_count": null,
   "metadata": {},
   "outputs": [],
   "source": []
  },
  {
   "cell_type": "markdown",
   "metadata": {},
   "source": [
    "Ten en cuenta que `*args` es algo variable con X elementos. Como no sabemos a priori cuantos son, tendremos que recorrerlos con un `for`, y para cada argumento, aplicarle una operación. Por tanto, `*args` es un iterable, en concreto una **tupla**. Lo que le está dando la funcionalidad de \"argumentos variables\" es `*`, no `args`. Igual que ponemos `*args`, podemos poner `*argumentos`.\n",
    "\n",
    "Puedes combinar argumentos posicionales con los `*args`"
   ]
  },
  {
   "cell_type": "code",
   "execution_count": null,
   "metadata": {},
   "outputs": [],
   "source": [
    "# En este ejemplo, uso el ultimo argumento para dividir todo lo que habiamos multiplicado por este argumento\n"
   ]
  },
  {
   "cell_type": "markdown",
   "metadata": {},
   "source": [
    "<table align=\"left\">\n",
    " <tr><td width=\"80\"><img src=\"./img/error.png\" style=\"width:auto;height:auto\"></td>\n",
    "     <td style=\"text-align:left\">\n",
    "         <h3>ERRORES con argumentos variables</h3>\n",
    "         \n",
    " </td></tr>\n",
    "</table>"
   ]
  },
  {
   "cell_type": "markdown",
   "metadata": {},
   "source": [
    "Declara los argumentos variables al principio, y los fijos al final para evitar errores. Además, si los combinas, tendrás que concretar cuáles son los argumentos fijos"
   ]
  },
  {
   "cell_type": "code",
   "execution_count": null,
   "metadata": {},
   "outputs": [],
   "source": []
  },
  {
   "cell_type": "markdown",
   "metadata": {},
   "source": [
    "<table align=\"left\">\n",
    " <tr><td width=\"80\"><img src=\"./img/ejercicio.png\" style=\"width:auto;height:auto\"></td>\n",
    "     <td style=\"text-align:left\">\n",
    "         <h3>Ejercicio argumentos variables</h3>\n",
    "Crea una función que reciba un numero variable de marcas de coche, las concatene todas separandolas por comas y devuelva ese string concatenado\n",
    "         \n",
    " </td></tr>\n",
    "</table>"
   ]
  },
  {
   "cell_type": "code",
   "execution_count": null,
   "metadata": {},
   "outputs": [],
   "source": []
  },
  {
   "cell_type": "markdown",
   "metadata": {},
   "source": [
    "### Argumentos variables con clave-valor\n",
    "Tenemos también la opción de introducir un diccionario como argumentos, de esta forma, aunque el numero de argumentos sea variable, tendremos un inidicador, la clave, y el valor de cada clave. Se implementa con `**`"
   ]
  },
  {
   "cell_type": "code",
   "execution_count": null,
   "metadata": {},
   "outputs": [],
   "source": []
  },
  {
   "cell_type": "markdown",
   "metadata": {},
   "source": [
    "### Combinar `*args` con `**kwargs`\n",
    "No hay ningun problema en tener un numero variable de argumentos y también argumentos clave-valor, todo ello en la misma función."
   ]
  },
  {
   "cell_type": "code",
   "execution_count": null,
   "metadata": {},
   "outputs": [],
   "source": []
  },
  {
   "cell_type": "markdown",
   "metadata": {},
   "source": [
    "## 4. Argumentos keyword\n",
    "Existe otro tipo de argumentos que son los *keyword*. Se caracterizan porque llevan un valor por defecto, y por tanto, si no usamos dicho argumento en la llamada, dentro de la función tomará el valor que hayamos dejado por defecto.\n",
    "\n",
    "Ten en cuenta que estos argumentos se colocan **al final**"
   ]
  },
  {
   "cell_type": "code",
   "execution_count": 63,
   "metadata": {},
   "outputs": [
    {
     "name": "stdout",
     "output_type": "stream",
     "text": [
      "55.0\n",
      "26.0\n"
     ]
    }
   ],
   "source": [
    "def dog2human_age(dog_age, conv_rate=7, old_dog_rate=5):\n",
    "    if dog_age < 10:\n",
    "        human_age = dog_age * conv_rate\n",
    "    else:\n",
    "        human_age = dog_age * old_dog_rate\n",
    "    return human_age\n",
    "\n",
    "print(dog2human_age(10, old_dog_rate=5.5, conv_rate=6.5))\n",
    "print(dog2human_age(4, 6.5, 5.5))"
   ]
  },
  {
   "cell_type": "markdown",
   "metadata": {},
   "source": [
    "<table align=\"left\">\n",
    " <tr><td width=\"80\"><img src=\"./img/error.png\" style=\"width:auto;height:auto\"></td>\n",
    "     <td style=\"text-align:left\">\n",
    "         <h3>ERRORES con argumentos keyword</h3>\n",
    "         \n",
    " </td></tr>\n",
    "</table>"
   ]
  },
  {
   "cell_type": "code",
   "execution_count": 64,
   "metadata": {},
   "outputs": [
    {
     "ename": "SyntaxError",
     "evalue": "positional argument follows keyword argument (1675083280.py, line 1)",
     "output_type": "error",
     "traceback": [
      "\u001b[1;36m  File \u001b[1;32m\"C:\\Users\\alber\\AppData\\Local\\Temp\\ipykernel_7728\\1675083280.py\"\u001b[1;36m, line \u001b[1;32m1\u001b[0m\n\u001b[1;33m    dog2human_age(old_dog_rate=5.5, 10, conv_rate=6.5)\u001b[0m\n\u001b[1;37m                                   ^\u001b[0m\n\u001b[1;31mSyntaxError\u001b[0m\u001b[1;31m:\u001b[0m positional argument follows keyword argument\n"
     ]
    }
   ],
   "source": [
    "dog2human_age(old_dog_rate=5.5, 10, conv_rate=6.5)"
   ]
  },
  {
   "cell_type": "markdown",
   "metadata": {},
   "source": [
    "## 5. Recursividad\n",
    "Una función se puede llamar a si misma en la propia declaración, como si de un bucle se tratase. Es un concepto algo complejo, pero elegante a la hora de implementar nuestros programas. La única parte negativa es que cuesta un poco comprender qué es lo que hace la función. Como todo, tiene sus ventajas y sus inconvenientes.\n",
    "\n",
    "Calculemos el factorial de un numero *!n*"
   ]
  },
  {
   "cell_type": "code",
   "execution_count": null,
   "metadata": {},
   "outputs": [],
   "source": [
    "# Lo podriamos calcular con un bucle\n"
   ]
  },
  {
   "cell_type": "code",
   "execution_count": null,
   "metadata": {},
   "outputs": [],
   "source": [
    "# O mediante una funcion recursiva\n"
   ]
  },
  {
   "cell_type": "markdown",
   "metadata": {},
   "source": [
    "![imagen](./img/factorial.png)\n",
    "\n",
    "![imagen](./img/recursivity.jpg)\n",
    "\n",
    "[Ejemplo paso a paso de cómo se calcula un factorial mediante funciones recursivas](https://www.programiz.com/python-programming/recursion#:~:text=Following%20is%20an%20example%20of,*5*6%20%3D%20720%20.)"
   ]
  },
  {
   "cell_type": "markdown",
   "metadata": {},
   "source": [
    "## 6. Documentar funciones\n",
    "Como ya vimos en el primer Notebook, hay que documentar el código en la medida de lo posible. En particular, es necesario documentar bien las funciones. porque muchas veces las importamos de otro sitio, las usamos porque funcionan, pero no sabemos muy bien que hacen. Es por ello, que en Python existe un atributo dentro de las funciones, módulos, métodos o clases, que permite acceder a \"sus comentarios\", a su documentación, donde nos indica qué es lo que hace.\n",
    "\n",
    "Este atributo especial se llama *docstring*, y se accede mediante `nombre_funcion.__doc__`"
   ]
  },
  {
   "cell_type": "code",
   "execution_count": null,
   "metadata": {},
   "outputs": [],
   "source": []
  },
  {
   "cell_type": "markdown",
   "metadata": {},
   "source": [
    "Los comentarios que se ponen pueden ser de línea o multilínea. Para funciones sencillas puede ser suficiente con una sola línea de comentario, pero si fuesen más complejas, el *docstring* debería llevar la siguiente información:\n",
    "* Descripción de la función\n",
    "* Argumentos de entrada: nombre, tipos y qué es lo que hacen\n",
    "* Argumentos de salida: nombre, tipos y qué son"
   ]
  },
  {
   "cell_type": "code",
   "execution_count": 67,
   "metadata": {},
   "outputs": [
    {
     "data": {
      "text/plain": [
       "157.07963267948966"
      ]
     },
     "execution_count": 67,
     "metadata": {},
     "output_type": "execute_result"
    }
   ],
   "source": [
    "import math\n",
    "def area_elipse(r1, r2):\n",
    "    '''\n",
    "    Funcion para calcular el area de una elipse\n",
    "    a partir de sus semiejes.\n",
    "\n",
    "    Input [float]: r1, r2\n",
    "    Output [float]\n",
    "    '''\n",
    "    return math.pi * r1 * r2\n",
    "\n",
    "area_elipse(5, 10)"
   ]
  },
  {
   "cell_type": "code",
   "execution_count": 69,
   "metadata": {},
   "outputs": [
    {
     "name": "stdout",
     "output_type": "stream",
     "text": [
      "Help on function area_elipse in module __main__:\n",
      "\n",
      "area_elipse(r1, r2)\n",
      "    Funcion para calcular el area de una elipse\n",
      "    a partir de sus semiejes.\n",
      "    \n",
      "    Input [float]: r1, r2\n",
      "    Output [float]\n",
      "\n"
     ]
    }
   ],
   "source": [
    "help(area_elipse)"
   ]
  },
  {
   "cell_type": "markdown",
   "metadata": {},
   "source": [
    "## 7. Resumen"
   ]
  },
  {
   "cell_type": "code",
   "execution_count": null,
   "metadata": {},
   "outputs": [],
   "source": [
    "# Una funcion tiene la siguiente sintaxis\n",
    "def km_millas(distancia):\n",
    "    millas = distancia * 0.62\n",
    "    return millas\n",
    "\n",
    "# La podemos llamar cuántas veces queramos\n",
    "print(km_millas(2))\n",
    "print(km_millas(5))\n",
    "print(km_millas(10))\n",
    "\n",
    "# Las funciones pueden tener argumentos posicionales\n",
    "def multipl(x1, x2, x3, x4):\n",
    "    return (x1 * x2 * x3) / x4\n",
    "\n",
    "multipl(4,6,7,2)\n",
    "\n",
    "# Argumentos variables\n",
    "def multipl_var(*args):\n",
    "    print(type(args))\n",
    "    mult_tot = 1\n",
    "    \n",
    "    for i in args:\n",
    "        mult_tot = mult_tot * i\n",
    "        \n",
    "    return mult_tot\n",
    "\n",
    "\n",
    "multipl_var(4,5,6,3)\n",
    "\n",
    "\n",
    "# Argumentos con formato clave valor\n",
    "def movil(**kwargs):\n",
    "    \n",
    "    print(type(kwargs))\n",
    "    for key, value in kwargs.items():\n",
    "        print(key, \"=\", value)\n",
    "        \n",
    "    return kwargs\n",
    "\n",
    "# Llamamos a la funcion\n",
    "print(movil(Camara = \"24MPx\",\n",
    "           Bateria = 10,\n",
    "           Peso = 200))\n",
    "\n",
    "\n",
    "# Argumentos keyword\n",
    "def venta_online(pedido, fecha_entrega, incidencia = False):\n",
    "    \n",
    "    if(incidencia):\n",
    "        print(\"Contacte con Att. Cliente\")\n",
    "        \n",
    "    else:\n",
    "        print(\"Su pedido\", pedido, \"se entregará el\", fecha_entrega)\n",
    "        \n",
    "venta_online(\"AAA\", \"20-07-2020\")\n",
    "venta_online(\"AAA\", \"20-07-2020\", True)\n",
    "\n",
    "\n",
    "\n",
    "# Las funciones se documentan con el atributo docstring\n",
    "def multiplica(x,y):\n",
    "    \"\"\"\n",
    "    Funcion que multiplca los dos argumentos: x*y\n",
    "    \"\"\"\n",
    "    print(\"Empieza la funcion\")\n",
    "    # Mas comentarios\n",
    "    \n",
    "    return x*y\n",
    "\n",
    "print(multiplica(2,2))\n",
    "print(multiplica.__doc__)"
   ]
  }
 ],
 "metadata": {
  "kernelspec": {
   "display_name": "Python 3.7.4 64-bit",
   "language": "python",
   "name": "python3"
  },
  "language_info": {
   "codemirror_mode": {
    "name": "ipython",
    "version": 3
   },
   "file_extension": ".py",
   "mimetype": "text/x-python",
   "name": "python",
   "nbconvert_exporter": "python",
   "pygments_lexer": "ipython3",
   "version": "3.7.4"
  },
  "vscode": {
   "interpreter": {
    "hash": "b8ee907ad2201c6d9588d3f44c3076f7bb061a669037d938a152617689572a16"
   }
  }
 },
 "nbformat": 4,
 "nbformat_minor": 4
}
