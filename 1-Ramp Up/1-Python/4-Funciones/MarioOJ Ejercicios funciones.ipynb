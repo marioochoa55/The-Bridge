{
 "cells": [
  {
   "cell_type": "markdown",
   "metadata": {},
   "source": [
    "![imagen](./img/ejercicios.png)"
   ]
  },
  {
   "cell_type": "markdown",
   "metadata": {},
   "source": [
    "# Ejercicios funciones\n",
    "## Ejercicio 1\n",
    "Escribe una función que convierta números del 1 al 7 en nombres de los dias de la semana. La función constará de un único argumento numérico y una salida de tipo string"
   ]
  },
  {
   "cell_type": "code",
   "execution_count": 29,
   "metadata": {},
   "outputs": [
    {
     "data": {
      "text/plain": [
       "'Domingo'"
      ]
     },
     "execution_count": 29,
     "metadata": {},
     "output_type": "execute_result"
    }
   ],
   "source": [
    "\n",
    "\n",
    "def conversor_dias_semana(dia_semana):\n",
    "    '''\n",
    "    Por nota aclaratoria y para evitar errores, se debe introducir\n",
    "    un número entero entre el 1 y el 7.\n",
    "    '''\n",
    "    if dia_semana == 1:\n",
    "        z =\"Lunes\"\n",
    "    elif dia_semana == 2:\n",
    "        z = \"Martes\"\n",
    "    elif dia_semana == 3:\n",
    "        z = \"Miercoles\"\n",
    "    elif dia_semana == 4:\n",
    "        z = \"Jueves\"\n",
    "    elif dia_semana == 5:\n",
    "        z = \"Viernes\"\n",
    "    elif dia_semana == 6:\n",
    "        z = \"Sábado\"\n",
    "    elif dia_semana == 7:\n",
    "        z = \"Domingo\"\n",
    "    return z\n",
    "\n",
    "conversor_dias_semana(7)"
   ]
  },
  {
   "cell_type": "markdown",
   "metadata": {},
   "source": [
    "## Ejercicio 2\n",
    "En el ejercicio 8 de bucles, creábamos una pirámide invertida, cuyo número de pisos venía determinado por un input del usuario. Crear una función que replique el comportamiento de la pirámide, y utiliza un único parámetro de entrada de la función para determinar el número de filas de la pirámide, es decir, elimina la sentencia input."
   ]
  },
  {
   "cell_type": "code",
   "execution_count": null,
   "metadata": {},
   "outputs": [],
   "source": []
  },
  {
   "cell_type": "markdown",
   "metadata": {},
   "source": [
    "## Ejercicio 3\n",
    "Escibe una función que compare dos números. La función tiene dos argumentos y hay tres salidas posibles: que sean iguales, que el primero se  mayor que el segundo, o que el segundo sea mayor que el primero"
   ]
  },
  {
   "cell_type": "code",
   "execution_count": 16,
   "metadata": {},
   "outputs": [
    {
     "data": {
      "text/plain": [
       "'El primer numero es mayor que el segundo'"
      ]
     },
     "execution_count": 16,
     "metadata": {},
     "output_type": "execute_result"
    }
   ],
   "source": [
    "def comparador_numeros(num_1, num_2):\n",
    "    if num_1 == num_2:\n",
    "        c = \"Estos números son iguales\"\n",
    "    elif num_1 > num_2:\n",
    "        c = \"El primer numero es mayor que el segundo\"\n",
    "    elif num_2 > num_1:\n",
    "        c = \"El segundo numero es mayor que el primero\"\n",
    "    return c\n",
    "\n",
    "comparador_numeros(400,10)"
   ]
  },
  {
   "cell_type": "markdown",
   "metadata": {},
   "source": [
    "## Ejercicio 4\n",
    "Escribe una función que sea un contador de letras. En el primer argumento tienes que introducir un texto, y el segundo que sea la letra a contar. La función tiene que devolver un entero con el número de veces que aparece esa letra, tanto mayuscula, como minúscula"
   ]
  },
  {
   "cell_type": "code",
   "execution_count": 166,
   "metadata": {},
   "outputs": [
    {
     "data": {
      "text/plain": [
       "4"
      ]
     },
     "execution_count": 166,
     "metadata": {},
     "output_type": "execute_result"
    }
   ],
   "source": [
    "def contador_letra(texto,letra):\n",
    "    \n",
    "    texto_lower = texto.lower()\n",
    "    c = texto_lower.count(letra)\n",
    "    \n",
    "    return c\n",
    "    \n",
    "\n",
    "contador_letra(\"Manuel Moreno es my moreno\", 'm')"
   ]
  },
  {
   "cell_type": "markdown",
   "metadata": {},
   "source": [
    "## Ejercicio 5\n",
    "Escribe una función que tenga un único argumento, un string. La salida de la función tiene que ser un diccionario con el conteo de todas las letras de ese string."
   ]
  },
  {
   "cell_type": "code",
   "execution_count": 165,
   "metadata": {},
   "outputs": [
    {
     "ename": "SyntaxError",
     "evalue": "invalid syntax (3794910980.py, line 4)",
     "output_type": "error",
     "traceback": [
      "\u001b[1;36m  File \u001b[1;32m\"C:\\Users\\usuario\\AppData\\Local\\Temp\\ipykernel_9596\\3794910980.py\"\u001b[1;36m, line \u001b[1;32m4\u001b[0m\n\u001b[1;33m    c = string_dic.items():\u001b[0m\n\u001b[1;37m                          ^\u001b[0m\n\u001b[1;31mSyntaxError\u001b[0m\u001b[1;31m:\u001b[0m invalid syntax\n"
     ]
    }
   ],
   "source": [
    "def diccionario(string):\n",
    "\n",
    "    string_dic = dict(string)\n",
    "    c = string_dic.items():\n",
    "        \n",
    "\n",
    "    return c\n",
    "\n",
    "diccionario(\"mario\")\n",
    "\n"
   ]
  },
  {
   "cell_type": "markdown",
   "metadata": {},
   "source": [
    "## Ejercicio 6\n",
    "Escribir una función que añada o elimine elementos en una lista. La función necesita los siguientes argumentos:\n",
    "* lista: la lista donde se añadirán o eliminarán los elementos\n",
    "* comando: \"add\" o \"remove\"\n",
    "* elemento: Por defecto es None."
   ]
  },
  {
   "cell_type": "code",
   "execution_count": 156,
   "metadata": {},
   "outputs": [
    {
     "data": {
      "text/plain": [
       "['conejo', 'vaca']"
      ]
     },
     "execution_count": 156,
     "metadata": {},
     "output_type": "execute_result"
    }
   ],
   "source": [
    "from smtpd import MailmanProxy\n",
    "\n",
    "\n",
    "def añadir_eliminar(valores_lista,comando,elemento):\n",
    "    if comando == \"add\":\n",
    "        lista = valores_lista\n",
    "        lista.append(elemento)\n",
    "        \n",
    "        return lista\n",
    "\n",
    "    elif comando == \"remove\":\n",
    "        for n in valores_lista:\n",
    "            lista = valores_lista\n",
    "            lista.remove(elemento)\n",
    "        return lista\n",
    "\n",
    "#He añadido un for por si al introducir la lista hay algún elemento que se repita y así poder eliminar todos \n",
    "\n",
    "añadir_eliminar([5, \"conejo\", 5, \"vaca\"], \"remove\", 5)\n",
    "    "
   ]
  },
  {
   "cell_type": "markdown",
   "metadata": {},
   "source": [
    "## Ejercicio 7\n",
    "Crea una función que reciba un número arbitrario de palabras, y devuelva una frase completa, separando las palabras con espacios."
   ]
  },
  {
   "cell_type": "code",
   "execution_count": null,
   "metadata": {},
   "outputs": [],
   "source": []
  },
  {
   "cell_type": "markdown",
   "metadata": {},
   "source": [
    "## Ejercicio 8\n",
    "Escribe un programa que obtenga el enésimo número de la [serie de Fibonacci](https://es.wikipedia.org/wiki/Sucesi%C3%B3n_de_Fibonacci). Tienes que crear una función recursiva con un único argumento.\n",
    "\n",
    "```Python\n",
    "fibonacci(2) = 1\n",
    "fibonacci(4) = 3\n",
    "fibonacci(5) = 5\n",
    "fibonacci(8) = 21\n",
    "```"
   ]
  },
  {
   "cell_type": "code",
   "execution_count": null,
   "metadata": {},
   "outputs": [],
   "source": []
  },
  {
   "cell_type": "markdown",
   "metadata": {},
   "source": [
    "## Ejercicio 9\n",
    "Define en una única celda las siguientes funciones:\n",
    "* Función que calcule el área de un cuadrado\n",
    "* Función que calcule el area de un triángulo\n",
    "* Función que calcule el área de un círculo\n",
    "\n",
    "En otra celda, calcular el area de:\n",
    "* Dos círculos de radio 10 + un triángulo de base 3 y altura 7\n",
    "* Un cuadrado de lado = 10 + 3 círculos (uno de radio = 4 y los otros dos de radio = 6) + 5 triángulos de base = 2 + altura = 4"
   ]
  },
  {
   "cell_type": "code",
   "execution_count": 84,
   "metadata": {},
   "outputs": [
    {
     "name": "stdout",
     "output_type": "stream",
     "text": [
      "25\n",
      "10.0\n",
      "12.566370614359172\n"
     ]
    }
   ],
   "source": [
    "import math\n",
    "\n",
    "def area_cuadrado(lado):\n",
    "    area = lado*lado\n",
    "    return area\n",
    "\n",
    "\n",
    "\n",
    "def area_triangulo(base, altura):\n",
    "    a = (base*altura)/2\n",
    "    return a\n",
    "\n",
    "\n",
    "\n",
    "def area_circulo(radio):\n",
    "    superficie = math.pi * radio**2\n",
    "    return superficie\n",
    "\n",
    "print(area_cuadrado(5))\n",
    "print(area_triangulo(4,5))\n",
    "print(area_circulo(2))"
   ]
  },
  {
   "cell_type": "code",
   "execution_count": 89,
   "metadata": {},
   "outputs": [
    {
     "name": "stdout",
     "output_type": "stream",
     "text": [
      "324.6592653589793\n",
      "396.46015351590177\n"
     ]
    }
   ],
   "source": [
    "area_total_1 = area_circulo(10) + area_triangulo(3,7)\n",
    "print(area_total_1)\n",
    "\n",
    "area_total_2 = area_cuadrado(10) + area_circulo(4) + 2*area_circulo(6) + 5*area_triangulo(2,4)\n",
    "print(area_total_2)"
   ]
  }
 ],
 "metadata": {
  "kernelspec": {
   "display_name": "Python 3.7.4 64-bit",
   "language": "python",
   "name": "python3"
  },
  "language_info": {
   "codemirror_mode": {
    "name": "ipython",
    "version": 3
   },
   "file_extension": ".py",
   "mimetype": "text/x-python",
   "name": "python",
   "nbconvert_exporter": "python",
   "pygments_lexer": "ipython3",
   "version": "3.7.4"
  },
  "vscode": {
   "interpreter": {
    "hash": "b213cd0c7dc86fb09f7378e09d09f37ed50992d496516f682658e1f7568be4e1"
   }
  }
 },
 "nbformat": 4,
 "nbformat_minor": 4
}
