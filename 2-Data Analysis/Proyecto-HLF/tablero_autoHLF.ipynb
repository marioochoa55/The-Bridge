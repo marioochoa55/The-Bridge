{
 "cells": [
  {
   "cell_type": "code",
   "execution_count": 1,
   "metadata": {},
   "outputs": [],
   "source": [
    "import random\n",
    "import numpy as np\n",
    "\n",
    "\n",
    "def crear_tablero():\n",
    "\n",
    "    \n",
    "     \n",
    "\n",
    "    tablero = np.full((10, 10), ' ')\n",
    "    eslora = [1, 1, 1, 1, 2, 2, 2, 3, 3, 4]\n",
    "    counter = len(eslora)\n",
    "    \n",
    "\n",
    "    while counter > 0 :\n",
    "        orient = random.choice(['N','S','E','O'])\n",
    "        posicion_aleatoria = np.random.randint(10, size =2)\n",
    "        fila = posicion_aleatoria[0]\n",
    "        columna = posicion_aleatoria[1]\n",
    "\n",
    "        # Recogemos las 4 posiciones colindantes a posicion aleatoria\n",
    "    \n",
    "\n",
    "        # Comprobamos si esas posiciones son validas\n",
    "        for i in eslora:\n",
    "            coors_posiN = tablero[fila:fila - i:-1, columna]\n",
    "            coors_posiE = tablero[fila, columna: columna + i]\n",
    "            coors_posiS = tablero[fila:fila + i, columna]\n",
    "            coors_posiO = tablero[fila, columna: columna - i:-1]\n",
    "        # Orientacion Norte\n",
    "            if orient == 'N' and 0 <= fila - i < 10 and 'O' not in coors_posiN:\n",
    "                tablero[fila:fila - i:-1, columna] = 'O'\n",
    "                counter = counter -1\n",
    "                eslora.remove(i)\n",
    "                continue\n",
    "\n",
    "        # Orientacion Este\n",
    "            elif orient == 'E' and 0 <= columna + i < 10 and 'O' not in coors_posiE:\n",
    "                tablero[fila, columna: columna + i] = 'O'\n",
    "                counter = counter -1\n",
    "                eslora.remove(i)\n",
    "                continue\n",
    "\n",
    "        # Orientacion Sur\n",
    "            elif orient == 'S' and 0 <= fila + i < 10 and 'O' not in coors_posiS:\n",
    "                tablero[fila:fila + i, columna] = 'O'\n",
    "                counter = counter -1\n",
    "                eslora.remove(i)\n",
    "                continue\n",
    "\n",
    "        # Orientacion Oeste\n",
    "            elif orient == 'O' and 0 <= columna - i < 10 and 'O' not in coors_posiO:\n",
    "                tablero[fila, columna: columna - i:-1] = 'O'\n",
    "                counter = counter - 1\n",
    "                eslora.remove(i)\n",
    "                continue\n",
    "\n",
    "        # No cumple con las dimensiones del tablero, o hay un barco ahi\n",
    "    # Probamos con otra coordenada\n",
    "        \n",
    "    return tablero"
   ]
  },
  {
   "cell_type": "code",
   "execution_count": 2,
   "metadata": {},
   "outputs": [
    {
     "data": {
      "text/plain": [
       "array([[' ', ' ', ' ', ' ', ' ', ' ', ' ', ' ', ' ', ' '],\n",
       "       [' ', ' ', ' ', ' ', ' ', 'O', ' ', ' ', ' ', ' '],\n",
       "       [' ', 'O', ' ', ' ', ' ', 'O', ' ', ' ', ' ', ' '],\n",
       "       [' ', 'O', 'O', ' ', 'O', 'O', ' ', 'O', ' ', 'O'],\n",
       "       [' ', 'O', 'O', 'O', 'O', 'O', ' ', ' ', ' ', 'O'],\n",
       "       [' ', ' ', ' ', ' ', ' ', ' ', ' ', ' ', ' ', 'O'],\n",
       "       ['O', 'O', ' ', ' ', ' ', ' ', ' ', ' ', ' ', ' '],\n",
       "       ['O', ' ', ' ', ' ', ' ', ' ', ' ', ' ', ' ', ' '],\n",
       "       ['O', ' ', ' ', ' ', ' ', ' ', ' ', ' ', ' ', ' '],\n",
       "       [' ', ' ', ' ', ' ', ' ', ' ', ' ', ' ', ' ', ' ']], dtype='<U1')"
      ]
     },
     "execution_count": 2,
     "metadata": {},
     "output_type": "execute_result"
    }
   ],
   "source": [
    "crear_tablero()"
   ]
  },
  {
   "cell_type": "code",
   "execution_count": 12,
   "metadata": {},
   "outputs": [],
   "source": [
    "\n",
    "\n",
    "def player1(tablero_disparos_jugador, tablero_disparos_maquina, tablero_vacio, tablero_vacio2):\n",
    "    while 'O' in tablero_disparos_jugador and 'O' in tablero_disparos_maquina:\n",
    "    \n",
    "        print('Tablero de la maquina\\n',tablero_vacio)\n",
    "        x = int(input('J1, Introduce coordenada X comprendida entre el 0 y el 9'))\n",
    "        y = int(input('J1, Introduce coordenada Y comprendida entre el 0 y el 9'))\n",
    "            \n",
    "        if tablero_disparos_jugador[x, y] == 'O':\n",
    "            tablero_disparos_jugador[x, y] = 'X'\n",
    "            tablero_vacio[x, y] = 'X'\n",
    "            print(\" ¡ GOOD LOCK !Has dado en el barco \\n\", tablero_vacio)\n",
    "            continue\n",
    "        elif tablero_disparos_jugador[x, y] == ' ':\n",
    "            tablero_disparos_jugador[x, y] = '-'\n",
    "            tablero_vacio[x, y] = '-'\n",
    "            print(\" ¡ HOW UNLUCKY ! Has marcado en agua \\n\", tablero_vacio)\n",
    "                \n",
    "            player2.player2(tablero_disparos_jugador, tablero_disparos_maquina, tablero_vacio, tablero_vacio2)\n"
   ]
  },
  {
   "cell_type": "code",
   "execution_count": 14,
   "metadata": {},
   "outputs": [
    {
     "ename": "ModuleNotFoundError",
     "evalue": "No module named 'PosicionBarcos'",
     "output_type": "error",
     "traceback": [
      "\u001b[1;31m---------------------------------------------------------------------------\u001b[0m",
      "\u001b[1;31mModuleNotFoundError\u001b[0m                       Traceback (most recent call last)",
      "\u001b[1;32m~\\AppData\\Local\\Temp\\ipykernel_5228\\1688532614.py\u001b[0m in \u001b[0;36m<module>\u001b[1;34m\u001b[0m\n\u001b[1;32m----> 1\u001b[1;33m \u001b[1;32mimport\u001b[0m \u001b[0mPosicionBarcos\u001b[0m\u001b[1;33m\u001b[0m\u001b[1;33m\u001b[0m\u001b[0m\n\u001b[0m",
      "\u001b[1;31mModuleNotFoundError\u001b[0m: No module named 'PosicionBarcos'"
     ]
    }
   ],
   "source": [
    "import PosicionBarcos\n"
   ]
  },
  {
   "cell_type": "code",
   "execution_count": null,
   "metadata": {},
   "outputs": [],
   "source": []
  }
 ],
 "metadata": {
  "kernelspec": {
   "display_name": "Python 3.7.4 64-bit",
   "language": "python",
   "name": "python3"
  },
  "language_info": {
   "codemirror_mode": {
    "name": "ipython",
    "version": 3
   },
   "file_extension": ".py",
   "mimetype": "text/x-python",
   "name": "python",
   "nbconvert_exporter": "python",
   "pygments_lexer": "ipython3",
   "version": "3.7.4"
  },
  "orig_nbformat": 4,
  "vscode": {
   "interpreter": {
    "hash": "b213cd0c7dc86fb09f7378e09d09f37ed50992d496516f682658e1f7568be4e1"
   }
  }
 },
 "nbformat": 4,
 "nbformat_minor": 2
}
